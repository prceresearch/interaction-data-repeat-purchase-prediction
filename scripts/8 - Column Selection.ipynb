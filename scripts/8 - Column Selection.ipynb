{
 "cells": [
  {
   "cell_type": "code",
   "execution_count": 15,
   "metadata": {},
   "outputs": [],
   "source": [
    "import numpy as np \n",
    "import pandas as pd\n",
    "import collections # counter\n",
    "import time\n",
    "import matplotlib.pyplot as plt\n",
    "import seaborn as sns\n",
    "\n",
    "from imblearn.over_sampling import SMOTE, ADASYN # oversampling\n",
    "from copy import *\n",
    "from statistics import mean\n",
    "\n",
    "from sklearn import preprocessing\n",
    "from sklearn.impute import SimpleImputer # handling missing data\n",
    "from sklearn.preprocessing import LabelEncoder, OneHotEncoder, StandardScaler # encoding categorical data, feature scaling\n",
    "from sklearn.compose import ColumnTransformer\n",
    "from sklearn.model_selection import StratifiedShuffleSplit, GridSearchCV, train_test_split # splitting training and testing data\n",
    "from sklearn.discriminant_analysis import LinearDiscriminantAnalysis, QuadraticDiscriminantAnalysis\n",
    "from sklearn.datasets import make_classification\n",
    "from sklearn.utils import column_or_1d\n",
    "from sklearn.model_selection import KFold"
   ]
  },
  {
   "cell_type": "code",
   "execution_count": 16,
   "metadata": {},
   "outputs": [],
   "source": [
    "# folder = 'csv_he'\n",
    "# folder = 'csv_pp_500'\n",
    "folder = 'csv_b_500'\n",
    "# selection_method = 1\n",
    "selection_method = 2"
   ]
  },
  {
   "cell_type": "code",
   "execution_count": 17,
   "metadata": {},
   "outputs": [],
   "source": [
    "df_users = pd.read_csv(folder + '/df_users_transform_' + str(selection_method) + '.csv')"
   ]
  },
  {
   "cell_type": "code",
   "execution_count": 18,
   "metadata": {},
   "outputs": [
    {
     "data": {
      "text/plain": [
       "904"
      ]
     },
     "execution_count": 18,
     "metadata": {},
     "output_type": "execute_result"
    }
   ],
   "source": [
    "len(df_users)"
   ]
  },
  {
   "cell_type": "code",
   "execution_count": 19,
   "metadata": {},
   "outputs": [
    {
     "data": {
      "text/plain": [
       "186"
      ]
     },
     "execution_count": 19,
     "metadata": {},
     "output_type": "execute_result"
    }
   ],
   "source": [
    "len(df_users[df_users['repeat_buyer'] == 1])"
   ]
  },
  {
   "cell_type": "code",
   "execution_count": 20,
   "metadata": {},
   "outputs": [
    {
     "data": {
      "text/plain": [
       "718"
      ]
     },
     "execution_count": 20,
     "metadata": {},
     "output_type": "execute_result"
    }
   ],
   "source": [
    "len(df_users[df_users['repeat_buyer'] == 0])"
   ]
  },
  {
   "cell_type": "code",
   "execution_count": 21,
   "metadata": {},
   "outputs": [
    {
     "data": {
      "text/plain": [
       "0.2590529247910863"
      ]
     },
     "execution_count": 21,
     "metadata": {},
     "output_type": "execute_result"
    }
   ],
   "source": [
    "# repeat buyers/nonrepeat buyers\n",
    "len(df_users[df_users['repeat_buyer'] == 1]) / len(df_users[df_users['repeat_buyer'] == 0])"
   ]
  },
  {
   "cell_type": "code",
   "execution_count": null,
   "metadata": {},
   "outputs": [],
   "source": [
    "labeled_column = 'repeat_buyer'\n",
    "useful_columns = [\n",
    "    'n_pageviews_buy', 'n_pageviews_no_buy',\n",
    "    'n_input_buy', 'n_input_no_buy', \n",
    "    'n_click_buy', 'n_click_no_buy', \n",
    "    'n_mouse_click_buy', 'n_mouse_click_no_buy', \n",
    "    'n_mouse_move_buy', 'n_mouse_move_no_buy',\n",
    "    'n_scroll_move_buy', 'n_scroll_move_no_buy', \n",
    "    'n_scrandom_buy', 'n_scrandom_no_buy', \n",
    "    'n_events_buy', 'n_events_no_buy', \n",
    "    'n_product_buy', 'n_product_no_buy',\n",
    "    'n_non_product_buy', 'n_non_product_no_buy', \n",
    "    'n_category_buy', 'n_category_no_buy', \n",
    "    'n_filter_buy', 'n_filter_no_buy', \n",
    "    'n_search_buy', 'n_search_no_buy', \n",
    "    'n_cart_buy', 'n_cart_no_buy', \n",
    "    'n_add_to_cart_buy', 'n_add_to_cart_no_buy', \n",
    "    'n_remove_from_cart_buy', 'n_remove_from_cart_no_buy',\n",
    "#     'n_next_page_buy', 'n_next_page_no_buy',\n",
    "    'effective_duration_buy', 'effective_duration_no_buy', \n",
    "    'pv_product_mean_eff_duration_buy', 'pv_product_mean_eff_duration_no_buy',\n",
    "    'user_mean_eff_duration',\n",
    "    'load_time_buy', 'load_time_no_buy', \n",
    "    'num_of_sessions',\n",
    "    'n_sessions_after_1_buy',\n",
    "    'n_sessions',\n",
    "    'top_product_u', 'n_top_product_u', 'n_unique_product_u',\n",
    "    'top_category_u', 'n_top_category_u', 'n_unique_category_u',\n",
    "    'country', 'city', 'city_type', 'continent', 'region', \n",
    "    'device.type', 'browser.name', 'os.name',\n",
    "    'referrer1',\n",
    "    'buy_time_1', 'time_1',\n",
    "    'buy_time_2', 'time_2', \n",
    "    'buy_time_3', 'time_3', \n",
    "    'buy_day_1', 'day_1', \n",
    "    'buy_day_2', 'day_2',\n",
    "    'mean_price', \n",
    "#     'mean_rate',  \n",
    "]\n",
    "numeric_columns = [\n",
    "    'n_pageviews_buy', 'n_pageviews_no_buy',\n",
    "    'n_input_buy', 'n_input_no_buy', \n",
    "    'n_click_buy', 'n_click_no_buy', \n",
    "    'n_mouse_click_buy', 'n_mouse_click_no_buy', \n",
    "    'n_mouse_move_buy', 'n_mouse_move_no_buy',\n",
    "    'n_scroll_move_buy', 'n_scroll_move_no_buy', \n",
    "    'n_scrandom_buy', 'n_scrandom_no_buy', \n",
    "    'n_events_buy', 'n_events_no_buy', \n",
    "    'n_product_buy', 'n_product_no_buy',\n",
    "    'n_non_product_buy', 'n_non_product_no_buy', \n",
    "    'n_category_buy', 'n_category_no_buy', \n",
    "    'n_filter_buy', 'n_filter_no_buy', \n",
    "    'n_search_buy', 'n_search_no_buy', \n",
    "    'n_cart_buy', 'n_cart_no_buy', \n",
    "    'n_add_to_cart_buy', 'n_add_to_cart_no_buy', \n",
    "    'n_remove_from_cart_buy', 'n_remove_from_cart_no_buy',\n",
    "#     'n_next_page_buy', 'n_next_page_no_buy',\n",
    "    'effective_duration_buy', 'effective_duration_no_buy', \n",
    "    'pv_product_mean_eff_duration_buy', 'pv_product_mean_eff_duration_no_buy',\n",
    "    'user_mean_eff_duration',\n",
    "    'num_of_sessions',\n",
    "    'n_sessions_after_1_buy',\n",
    "    'n_sessions',\n",
    "    'load_time_buy', 'load_time_no_buy', \n",
    "    'n_top_product_u', 'n_unique_product_u',\n",
    "    'n_top_category_u', 'n_unique_category_u',\n",
    "    'mean_price', \n",
    "#     'mean_rate',\n",
    "    'buy_time_1', 'time_1',\n",
    "    'buy_time_2', 'time_2', \n",
    "    'buy_time_3', 'time_3', \n",
    "    'buy_day_1', 'day_1', \n",
    "    'buy_day_2', 'day_2',\n",
    "]\n",
    "removed_columns = [\n",
    "#     'continent',\n",
    "#     'country',\n",
    "    'region',\n",
    "    'city',\n",
    "    'top_product_u',\n",
    "    'top_category_u',\n",
    "    'buy_time_1',\n",
    "    'buy_time_2', \n",
    "    'buy_time_3', \n",
    "    'buy_day_1', \n",
    "    'buy_day_2', \n",
    "]\n",
    "\n",
    "removed_numeric_columns = [ \n",
    "    'buy_time_1',\n",
    "    'buy_time_2', \n",
    "    'buy_time_3', \n",
    "    'buy_day_1', \n",
    "    'buy_day_2', \n",
    "]\n",
    "categorical_columns = [c for c in useful_columns if c not in numeric_columns]\n",
    "removed_categorical_columns = [c for c in removed_columns if c not in removed_numeric_columns]    "
   ]
  },
  {
   "cell_type": "code",
   "execution_count": null,
   "metadata": {},
   "outputs": [],
   "source": [
    "corr_arr = copy([c for c in numeric_columns if c not in removed_numeric_columns])\n",
    "corr_arr.append(labeled_column)\n",
    "\n",
    "correlation_num = df_users[corr_arr].corr(method = 'pearson')\n",
    "correlation_num.style.background_gradient(cmap='coolwarm', axis=None).set_precision(2)"
   ]
  },
  {
   "cell_type": "code",
   "execution_count": null,
   "metadata": {},
   "outputs": [],
   "source": [
    "for c in categorical_columns:\n",
    "    print(c + ': ' + str(len(df_users[c].unique())))"
   ]
  },
  {
   "cell_type": "code",
   "execution_count": null,
   "metadata": {},
   "outputs": [],
   "source": [
    "df_users = df_users.drop(removed_categorical_columns,axis=1)\n",
    "df_users = df_users.drop(removed_numeric_columns,axis=1)"
   ]
  },
  {
   "cell_type": "code",
   "execution_count": null,
   "metadata": {},
   "outputs": [],
   "source": [
    "colors = [\"#50D4F0\", \"#AEF06C\", \"#FACE63\"]\n",
    "sns.set(style=\"darkgrid\")\n",
    "sns.set_palette(sns.color_palette(colors))\n",
    "\n",
    "def boxplot_visualization(x,y):\n",
    "    fig, axes = plt.subplots()\n",
    "    axes = sns.boxplot(x, y, data=df_users)\n",
    "    axes.set_yscale('log')"
   ]
  },
  {
   "cell_type": "code",
   "execution_count": null,
   "metadata": {
    "scrolled": true
   },
   "outputs": [],
   "source": [
    "columns = ['n_pageviews_buy','n_pageviews_no_buy','n_input_buy','n_input_no_buy','n_click_buy','n_click_no_buy',\n",
    "         'n_mouse_move_buy','n_mouse_move_no_buy','n_mouse_click_buy','n_mouse_click_no_buy',\n",
    "         'n_scroll_move_buy','n_scroll_move_no_buy','n_events_buy','n_events_no_buy']\n",
    "\n",
    "for c in columns:\n",
    "    boxplot_visualization('repeat_buyer', c)\n",
    "    \n",
    "    \n",
    "columns = ['n_product_buy','n_product_no_buy','n_non_product_buy','n_non_product_no_buy','n_category_buy','n_category_no_buy',\n",
    "         'n_filter_buy','n_filter_no_buy','n_search_buy','n_search_no_buy','n_cart_buy','n_cart_no_buy',\n",
    "         'n_add_to_cart_buy','n_add_to_cart_no_buy',\n",
    "#          'n_next_page_buy','n_next_page_no_buy'\n",
    "          ]\n",
    "\n",
    "for c in columns:\n",
    "    boxplot_visualization('repeat_buyer', c)\n",
    "    \n",
    "    \n",
    "columns = ['effective_duration_buy','effective_duration_no_buy','pv_product_mean_eff_duration_buy','pv_product_mean_eff_duration_no_buy',\n",
    "         'load_time_buy','load_time_no_buy','n_sessions_after_1_buy','num_of_sessions']\n",
    "\n",
    "for c in columns:\n",
    "    boxplot_visualization('repeat_buyer', c)"
   ]
  },
  {
   "cell_type": "code",
   "execution_count": null,
   "metadata": {},
   "outputs": [],
   "source": [
    "fig, axes = plt.subplots()\n",
    "axes = sns.boxplot(x=\"variable\", y=\"value\", data = pd.melt(df_users[['time_1','time_2','time_3']]))\n",
    "axes.set_yscale('log')\n",
    "\n",
    "fig, axes = plt.subplots()\n",
    "axes = sns.boxplot(x=\"variable\", y=\"value\", data = pd.melt(df_users[['day_1','day_2']]))\n",
    "axes.set_yscale('log')"
   ]
  },
  {
   "cell_type": "code",
   "execution_count": null,
   "metadata": {},
   "outputs": [],
   "source": [
    "removed = ['n_sessions_after_1_buy','num_of_sessions']\n",
    "df_users = df_users.drop(removed,axis=1)"
   ]
  },
  {
   "cell_type": "code",
   "execution_count": null,
   "metadata": {},
   "outputs": [],
   "source": [
    "df_users.to_csv(folder + '/df_users_columns_' + str(selection_method) + '.csv', index=False, encoding='utf-8-sig')"
   ]
  },
  {
   "cell_type": "code",
   "execution_count": null,
   "metadata": {},
   "outputs": [],
   "source": []
  }
 ],
 "metadata": {
  "kernelspec": {
   "display_name": "Python 3",
   "language": "python",
   "name": "python3"
  },
  "language_info": {
   "codemirror_mode": {
    "name": "ipython",
    "version": 3
   },
   "file_extension": ".py",
   "mimetype": "text/x-python",
   "name": "python",
   "nbconvert_exporter": "python",
   "pygments_lexer": "ipython3",
   "version": "3.8.3"
  }
 },
 "nbformat": 4,
 "nbformat_minor": 4
}
