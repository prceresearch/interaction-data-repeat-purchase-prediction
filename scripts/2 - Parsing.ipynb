{
 "cells": [
  {
   "cell_type": "code",
   "execution_count": 1,
   "metadata": {},
   "outputs": [],
   "source": [
    "import json\n",
    "import pandas as pd\n",
    "import glob\n",
    "import time\n",
    "from tqdm import tqdm\n",
    "import sys,os\n",
    "import collections\n",
    "import re\n",
    "import csv\n",
    "from datetime import datetime"
   ]
  },
  {
   "cell_type": "code",
   "execution_count": 2,
   "metadata": {},
   "outputs": [],
   "source": [
    "# project = 'he'\n",
    "# project = 'pp'\n",
    "project = 'b'\n",
    "\n",
    "if project == 'he':\n",
    "    root_dir = '/Data/herbatica_365d/'\n",
    "    session_file = 'sessions_all_he.csv'\n",
    "    buyers_file = 'sessions_purchase_all_he.csv'\n",
    "    session_buyers = \"sessions_buyers_all_he.csv\"\n",
    "    folder = 'csv_he'\n",
    "\n",
    "elif project == 'pp':\n",
    "    root_dir = '/Data/particlepeptides_365d/'\n",
    "    session_file = 'sessions_all_pp_500.csv'\n",
    "    buyers_file = 'sessions_purchase_all_pp_500.csv'\n",
    "    session_buyers = \"sessions_buyers_all_pp_500.csv\"\n",
    "    folder = 'csv_pp_500'\n",
    "\n",
    "elif project == 'b':\n",
    "    root_dir = '/Data/barefootky_365d/'\n",
    "    session_file = 'sessions_all_b_500.csv'\n",
    "    buyers_file = 'sessions_purchase_all_b_500.csv'\n",
    "    session_buyers = \"sessions_buyers_all_b_500.csv\"\n",
    "    folder = 'csv_b_500'"
   ]
  },
  {
   "cell_type": "code",
   "execution_count": 3,
   "metadata": {},
   "outputs": [],
   "source": [
    "data_file = 'data.json'"
   ]
  },
  {
   "cell_type": "code",
   "execution_count": 4,
   "metadata": {},
   "outputs": [],
   "source": [
    "# load all files\n",
    "listOfFiles = list()\n",
    "with open(session_file, newline = '') as csvfile:\n",
    "    reader = csv.reader(csvfile)\n",
    "    for row in reader:\n",
    "        listOfFiles.append(row[0])"
   ]
  },
  {
   "cell_type": "code",
   "execution_count": 5,
   "metadata": {},
   "outputs": [],
   "source": [
    "# load purchase sessions\n",
    "listOfBuyers = list()\n",
    "with open(buyers_file, newline = '') as csvfile:\n",
    "    reader = csv.reader(csvfile)\n",
    "    for row in reader:\n",
    "        listOfBuyers.append(row[0])"
   ]
  },
  {
   "cell_type": "code",
   "execution_count": 6,
   "metadata": {},
   "outputs": [],
   "source": [
    "session_excludes = [ \n",
    "    'ip',\n",
    "    'id',\n",
    "    'isEu', \n",
    "    'latitude', \n",
    "    'longitude', \n",
    "    'projectId', \n",
    "    'useragent', \n",
    "    'version',\n",
    "    'engine',\n",
    "    'pageviews',\n",
    "]\n",
    "session_normalized_excludes = [\n",
    "    'browser.family.name', \n",
    "    'browser.family.version', \n",
    "    'browser.type', \n",
    "    'browser.version',\n",
    "    'browser.using.name',\n",
    "    'browser.using.version',\n",
    "    'device.manufacturer', \n",
    "    'device.model',\n",
    "    'device.subtype',\n",
    "    'device.series',\n",
    "    'os.alias',\n",
    "    'os.version',\n",
    "    'os.version.value',\n",
    "    'os.version.alias',\n",
    "    'os.version.nickname',\n",
    "    'os.edition',\n",
    "    'os.family',\n",
    "    'user.projectId',\n",
    "    'user.number',\n",
    "    'user.recorded'\n",
    "]\n",
    "pageview_excludes = [\n",
    "    'screenWidth',\n",
    "    'screenHeight',\n",
    "    'width',\n",
    "    'height',\n",
    "]"
   ]
  },
  {
   "cell_type": "code",
   "execution_count": 7,
   "metadata": {},
   "outputs": [],
   "source": [
    "df_sessions = pd.DataFrame()\n",
    "df_users = pd.DataFrame()\n",
    "df_pageviews = pd.DataFrame()\n",
    "\n",
    "df_load = pd.DataFrame()\n",
    "df_click = pd.DataFrame()\n",
    "df_input = pd.DataFrame()\n",
    "df_mouse_move = pd.DataFrame()\n",
    "df_mouse_click = pd.DataFrame()\n",
    "df_scroll_move = pd.DataFrame()\n",
    "df_scrandom = pd.DataFrame()\n",
    "df_wild_mouse = pd.DataFrame()\n",
    "df_rage_click = pd.DataFrame()"
   ]
  },
  {
   "cell_type": "code",
   "execution_count": 8,
   "metadata": {},
   "outputs": [],
   "source": [
    "action_types = [\"input\",\"load\",\"click\",\"mouse-click\",\"rage-click\",\"scroll-move\",\"mouse-move\",\"wild-mouse\",\"scrandom\"]\n",
    "\n",
    "df_includes = {\n",
    "    'input_includes':[\"pageview_id\",\"session_id\",\"id\",\"type\",\"at\",\"args.duration\",\"args.type\",\"args.name\"],\n",
    "    'load_includes':[\"pageview_id\",\"session_id\",\"id\",\"type\",\"at\",'args.firstInsertAt','args.domContentLoaded','args.firstPaint',\n",
    "                   'args.firstContentfulPaint','args.loadEvent','args.firstInputDelay','args.timeToInteractive'],\n",
    "    'click_includes':[\"pageview_id\",\"session_id\",\"id\",\"type\",\"at\",\"args.double\",\"args.type\",\"args.text\",\"args.position.x\",\"args.position.y\",\"args.target.left\",\n",
    "                    \"args.target.top\",\"args.target.width\",'args.target.height'],\n",
    "    'mouse-click_includes':[\"pageview_id\",\"session_id\",\"id\",\"type\",\"at\",\"args.button\",\"args.down.x\",\"args.down.y\",\"args.down.at\",\"args.up.x\",\"args.up.y\",\n",
    "                          \"args.up.at\",\"args.pause\",\"args.duration\",\"args.distance\"],\n",
    "    'rage-click_includes':[\"pageview_id\",\"session_id\",\"id\",\"type\",\"at\",\"args.duration\",\"args.center.x\",\"args.center.y\",\"args.intensity\"],\n",
    "    'scroll-move_includes':[\"pageview_id\",\"session_id\",\"id\",\"type\",\"at\",\"args.duration\",\"args.distance\",\"args.id\",\"args.source.pageLeft\",\"args.source.pageTop\",\"args.source.at\",\n",
    "                          \"args.destination.pageLeft\",\"args.destination.pageTop\",\"args.destination.at\",\"args.direction\",\"args.distance2\",\n",
    "                          \"args.vx\",\"args.vy\",\"args.v\",\"args.a\",\"args.jerk\"],\n",
    "    'mouse-move_includes':[\"pageview_id\",\"session_id\",\"id\",\"type\",\"at\",\"args.duration\",\"args.distance\",\"args.source.at\",\"args.destination.at\",\"args.direction\",\"args.distance2\",\n",
    "                         \"args.vx\",\"args.vy\",\"args.v\",\"args.a\",\"args.jerk\",\"args.source.x\",\"args.source.y\",\"args.destination.x\",\n",
    "                         \"args.destination.y\",\"args.straightness\",\"args.jitter\"],\n",
    "    'wild-mouse_includes':[\"pageview_id\",\"session_id\",\"id\",\"type\",\"at\",\"args.duration\"],\n",
    "    'scrandom_includes':[\"pageview_id\",\"session_id\",\"id\",\"type\",\"at\",\"args.duration\"]   \n",
    "}"
   ]
  },
  {
   "cell_type": "code",
   "execution_count": 9,
   "metadata": {},
   "outputs": [],
   "source": [
    "# list of buyers - user id\n",
    "listOfUserBuyers = list()\n",
    "for filename in listOfBuyers:\n",
    "    with open(filename, 'r', encoding=\"utf8\") as file:\n",
    "        file = file.read()\n",
    "        json_data = json.loads(file)           \n",
    "        listOfUserBuyers.append(json_data['user']['id'])"
   ]
  },
  {
   "cell_type": "code",
   "execution_count": 10,
   "metadata": {},
   "outputs": [],
   "source": [
    "listOfUserBuyers = (set(listOfUserBuyers))"
   ]
  },
  {
   "cell_type": "code",
   "execution_count": 11,
   "metadata": {},
   "outputs": [
    {
     "data": {
      "text/plain": [
       "6040"
      ]
     },
     "execution_count": 11,
     "metadata": {},
     "output_type": "execute_result"
    }
   ],
   "source": [
    "len(listOfUserBuyers)"
   ]
  },
  {
   "cell_type": "code",
   "execution_count": null,
   "metadata": {},
   "outputs": [],
   "source": [
    "# all sessions of buyers\n",
    "listOfSessions = list()\n",
    "for filename in listOfFiles:\n",
    "    with open(filename, 'r', encoding=\"utf8\") as file:\n",
    "        file = file.read()\n",
    "        json_data = json.loads(file)\n",
    "        if json_data['user']['id'] in listOfUserBuyers:\n",
    "            listOfSessions.append(filename)"
   ]
  },
  {
   "cell_type": "code",
   "execution_count": null,
   "metadata": {},
   "outputs": [],
   "source": [
    "f = open(session_buyers, \"w\")\n",
    "f.writelines([\"%s\\n\" % item  for item in listOfSessions])\n",
    "f.close()"
   ]
  },
  {
   "cell_type": "code",
   "execution_count": 12,
   "metadata": {},
   "outputs": [],
   "source": [
    "# load all sessions of buyers\n",
    "listOfSessions = list()\n",
    "with open(session_buyers, newline = '') as csvfile:\n",
    "    reader = csv.reader(csvfile)\n",
    "    for row in reader:\n",
    "        listOfSessions.append(row[0])"
   ]
  },
  {
   "cell_type": "code",
   "execution_count": 13,
   "metadata": {},
   "outputs": [
    {
     "data": {
      "text/plain": [
       "17738"
      ]
     },
     "execution_count": 13,
     "metadata": {},
     "output_type": "execute_result"
    }
   ],
   "source": [
    "len(listOfSessions) "
   ]
  },
  {
   "cell_type": "code",
   "execution_count": null,
   "metadata": {},
   "outputs": [],
   "source": []
  },
  {
   "cell_type": "code",
   "execution_count": null,
   "metadata": {},
   "outputs": [],
   "source": [
    "# pageview parsing\n",
    "for filename in listOfSessions:\n",
    "    with open(filename, 'r', encoding=\"utf8\") as file:\n",
    "        file = file.read()\n",
    "        json_data = json.loads(file)        \n",
    "        parsed_pageviews = pd.DataFrame(json_data['pageviews'])\n",
    "        parsed_pageviews = parsed_pageviews.drop(columns=pageview_excludes, axis=1, errors='ignore')\n",
    "        parsed_pageviews['session_id'] = json_data['sessionId'] # add session_id to pageviews to connect pageview to a specific session  \n",
    "        try:\n",
    "            parsed_pageviews = parsed_pageviews[parsed_pageviews['baked'].str.len() > 0] # not empty baked only \n",
    "            if not parsed_pageviews.empty:\n",
    "                # sessions\n",
    "                session_data = {k: json_data[k] for k in set(list(json_data.keys())) - set(session_excludes)}\n",
    "                session_data = pd.json_normalize(session_data) # split into columns\n",
    "                session_data = session_data.drop(columns=session_normalized_excludes, axis=1, errors='ignore')                     \n",
    "                df_sessions = df_sessions.append(session_data, ignore_index=True, sort=False) # session append\n",
    "\n",
    "                # save baked from pageview into parsed_events\n",
    "                parsed_events = pd.DataFrame(parsed_pageviews[['id', 'session_id', 'baked']])\n",
    "                parsed_pageviews = parsed_pageviews.drop(columns=['baked']) \n",
    "\n",
    "                # parsing pageviews                \n",
    "                df_pageviews = df_pageviews.append(parsed_pageviews, ignore_index=True, sort=False) # pageview append\n",
    "                parsed_events.rename(columns={'id':'pageview_id'}, inplace=True)\n",
    "                parsed_events = parsed_events.explode('baked') # explode baked objects into rows\n",
    "\n",
    "                # explode baked\n",
    "                for key in parsed_events.iloc[0]['baked'].keys():\n",
    "                    parsed_events[key] = parsed_events.baked.apply(lambda b: b[key] if type(b) is dict else None)\n",
    "\n",
    "                parsed_events = parsed_events.drop(columns=['baked', 'modifiers'])\n",
    "                \n",
    "                for type_name in action_types:\n",
    "                    type_includes = df_includes[f'{type_name}_includes']\n",
    "\n",
    "                    type_data = parsed_events[parsed_events.type == type_name]\n",
    "                    type_data = type_data.join(pd.json_normalize(type_data.args.values).add_prefix('args.'))\n",
    "                    type_data = type_data.drop(columns=['args','type'], axis=1, errors='ignore')\n",
    "                    type_data = type_data[type_data.columns & type_includes]\n",
    "\n",
    "                    if (type_name == 'load'):\n",
    "                        df_load = df_load.append(type_data, ignore_index=True)\n",
    "                    elif (type_name == 'input'):\n",
    "                        df_input = df_input.append(type_data, ignore_index=True)\n",
    "                    elif (type_name == 'click'):\n",
    "                        df_click = df_click.append(type_data, ignore_index=True)\n",
    "                    elif (type_name == 'mouse-click'):\n",
    "                        df_mouse_click = df_mouse_click.append(type_data, ignore_index=True)\n",
    "                    elif (type_name == 'rage-click'):\n",
    "                        df_rage_click = df_rage_click.append(type_data, ignore_index=True)\n",
    "                    elif (type_name == 'scroll-move'):\n",
    "                        df_scroll_move = df_scroll_move.append(type_data, ignore_index=True) \n",
    "                    elif (type_name == 'mouse-move'):\n",
    "                        df_mouse_move = df_mouse_move.append(type_data, ignore_index=True)\n",
    "                    elif (type_name == 'wild-mouse'):\n",
    "                        df_wild_mouse = df_wild_mouse.append(type_data, ignore_index=True)\n",
    "                    elif (type_name == 'scrandom'):\n",
    "                        df_scrandom = df_scrandom.append(type_data, ignore_index=True)                   \n",
    "\n",
    "        except KeyError:\n",
    "            print(\"Baked empty\")"
   ]
  },
  {
   "cell_type": "code",
   "execution_count": 15,
   "metadata": {},
   "outputs": [],
   "source": [
    "def convertMS(ms):\n",
    "    return datetime.fromtimestamp(ms/1000.0)"
   ]
  },
  {
   "cell_type": "code",
   "execution_count": 16,
   "metadata": {},
   "outputs": [],
   "source": [
    "# SPRACOVANIE - result: \n",
    "# referrer, started_at, day, session_id, country, city, region, continent, user_id, device.type, browser.name, os.name, started_at_time, \n",
    "# ses_id"
   ]
  },
  {
   "cell_type": "code",
   "execution_count": 17,
   "metadata": {},
   "outputs": [],
   "source": [
    "df_sessions = df_sessions.rename(columns={'startedAt': 'started_at', 'sessionId': 'session_id', 'user.id': 'user_id'})\n",
    "df_sessions['started_at_time'] = df_sessions['started_at'].apply(lambda ms: convertMS(ms))\n",
    "df_sessions['ses_id'] = pd.factorize(df_sessions['session_id'])[0] + 1 # replace sessionID with numbers (1...N)"
   ]
  },
  {
   "cell_type": "code",
   "execution_count": null,
   "metadata": {},
   "outputs": [],
   "source": [
    "# USERS"
   ]
  },
  {
   "cell_type": "code",
   "execution_count": 19,
   "metadata": {},
   "outputs": [],
   "source": [
    "df_users = pd.DataFrame(df_sessions[['user_id', 'started_at', 'started_at_time']])\n",
    "df_users['u_id'] = pd.factorize(df_users['user_id'])[0] + 1 "
   ]
  },
  {
   "cell_type": "code",
   "execution_count": 21,
   "metadata": {},
   "outputs": [],
   "source": [
    "# session count for each user\n",
    "sessions_count = pd.DataFrame(df_users['u_id'].value_counts()) # user_id count\n",
    "sessions_count.rename(columns={'u_id': 'n_sessions'}, inplace=True) \n",
    "df_users.drop_duplicates('u_id', keep='first', inplace=True)"
   ]
  },
  {
   "cell_type": "code",
   "execution_count": 22,
   "metadata": {},
   "outputs": [
    {
     "data": {
      "text/html": [
       "<div>\n",
       "<style scoped>\n",
       "    .dataframe tbody tr th:only-of-type {\n",
       "        vertical-align: middle;\n",
       "    }\n",
       "\n",
       "    .dataframe tbody tr th {\n",
       "        vertical-align: top;\n",
       "    }\n",
       "\n",
       "    .dataframe thead th {\n",
       "        text-align: right;\n",
       "    }\n",
       "</style>\n",
       "<table border=\"1\" class=\"dataframe\">\n",
       "  <thead>\n",
       "    <tr style=\"text-align: right;\">\n",
       "      <th></th>\n",
       "      <th>n_sessions</th>\n",
       "    </tr>\n",
       "  </thead>\n",
       "  <tbody>\n",
       "    <tr>\n",
       "      <th>11</th>\n",
       "      <td>797</td>\n",
       "    </tr>\n",
       "    <tr>\n",
       "      <th>342</th>\n",
       "      <td>92</td>\n",
       "    </tr>\n",
       "    <tr>\n",
       "      <th>28</th>\n",
       "      <td>85</td>\n",
       "    </tr>\n",
       "  </tbody>\n",
       "</table>\n",
       "</div>"
      ],
      "text/plain": [
       "     n_sessions\n",
       "11          797\n",
       "342          92\n",
       "28           85"
      ]
     },
     "execution_count": 22,
     "metadata": {},
     "output_type": "execute_result"
    }
   ],
   "source": [
    "sessions_count.head(3)"
   ]
  },
  {
   "cell_type": "code",
   "execution_count": 23,
   "metadata": {},
   "outputs": [],
   "source": [
    "df_users = pd.merge(df_users, sessions_count, left_on='u_id', right_index=True, how='left')"
   ]
  },
  {
   "cell_type": "code",
   "execution_count": 24,
   "metadata": {},
   "outputs": [
    {
     "data": {
      "text/html": [
       "<div>\n",
       "<style scoped>\n",
       "    .dataframe tbody tr th:only-of-type {\n",
       "        vertical-align: middle;\n",
       "    }\n",
       "\n",
       "    .dataframe tbody tr th {\n",
       "        vertical-align: top;\n",
       "    }\n",
       "\n",
       "    .dataframe thead th {\n",
       "        text-align: right;\n",
       "    }\n",
       "</style>\n",
       "<table border=\"1\" class=\"dataframe\">\n",
       "  <thead>\n",
       "    <tr style=\"text-align: right;\">\n",
       "      <th></th>\n",
       "      <th>user_id</th>\n",
       "      <th>started_at</th>\n",
       "      <th>started_at_time</th>\n",
       "      <th>u_id</th>\n",
       "      <th>n_sessions</th>\n",
       "    </tr>\n",
       "  </thead>\n",
       "  <tbody>\n",
       "    <tr>\n",
       "      <th>10</th>\n",
       "      <td>31dca311-9dd8-4db1-925f-a286ce799357</td>\n",
       "      <td>1582543374162</td>\n",
       "      <td>2020-02-24 12:22:54.162</td>\n",
       "      <td>11</td>\n",
       "      <td>797</td>\n",
       "    </tr>\n",
       "    <tr>\n",
       "      <th>407</th>\n",
       "      <td>fefac58c-ef7f-4e25-9c10-3c40f69c7764</td>\n",
       "      <td>1596230586234</td>\n",
       "      <td>2020-07-31 23:23:06.234</td>\n",
       "      <td>342</td>\n",
       "      <td>92</td>\n",
       "    </tr>\n",
       "    <tr>\n",
       "      <th>27</th>\n",
       "      <td>5b7e6d35-43d3-4e7c-a95d-e756934700f3</td>\n",
       "      <td>1582578593189</td>\n",
       "      <td>2020-02-24 22:09:53.189</td>\n",
       "      <td>28</td>\n",
       "      <td>85</td>\n",
       "    </tr>\n",
       "    <tr>\n",
       "      <th>534</th>\n",
       "      <td>c8d386f0-984c-4646-822b-98adf85ef83a</td>\n",
       "      <td>1582493561874</td>\n",
       "      <td>2020-02-23 22:32:41.874</td>\n",
       "      <td>434</td>\n",
       "      <td>76</td>\n",
       "    </tr>\n",
       "    <tr>\n",
       "      <th>44</th>\n",
       "      <td>93669b9a-602c-4158-9739-d01042fb562a</td>\n",
       "      <td>1582829851490</td>\n",
       "      <td>2020-02-27 19:57:31.490</td>\n",
       "      <td>43</td>\n",
       "      <td>73</td>\n",
       "    </tr>\n",
       "    <tr>\n",
       "      <th>370</th>\n",
       "      <td>423ae395-74bf-40de-bfc0-a0b49f6d1066</td>\n",
       "      <td>1582743527885</td>\n",
       "      <td>2020-02-26 19:58:47.885</td>\n",
       "      <td>311</td>\n",
       "      <td>72</td>\n",
       "    </tr>\n",
       "  </tbody>\n",
       "</table>\n",
       "</div>"
      ],
      "text/plain": [
       "                                  user_id     started_at  \\\n",
       "10   31dca311-9dd8-4db1-925f-a286ce799357  1582543374162   \n",
       "407  fefac58c-ef7f-4e25-9c10-3c40f69c7764  1596230586234   \n",
       "27   5b7e6d35-43d3-4e7c-a95d-e756934700f3  1582578593189   \n",
       "534  c8d386f0-984c-4646-822b-98adf85ef83a  1582493561874   \n",
       "44   93669b9a-602c-4158-9739-d01042fb562a  1582829851490   \n",
       "370  423ae395-74bf-40de-bfc0-a0b49f6d1066  1582743527885   \n",
       "\n",
       "            started_at_time  u_id  n_sessions  \n",
       "10  2020-02-24 12:22:54.162    11         797  \n",
       "407 2020-07-31 23:23:06.234   342          92  \n",
       "27  2020-02-24 22:09:53.189    28          85  \n",
       "534 2020-02-23 22:32:41.874   434          76  \n",
       "44  2020-02-27 19:57:31.490    43          73  \n",
       "370 2020-02-26 19:58:47.885   311          72  "
      ]
     },
     "execution_count": 24,
     "metadata": {},
     "output_type": "execute_result"
    }
   ],
   "source": [
    "df_users.sort_values('n_sessions', ascending = False).head(6)"
   ]
  },
  {
   "cell_type": "code",
   "execution_count": 25,
   "metadata": {},
   "outputs": [],
   "source": [
    "# PAGEVIEWS - result: \n",
    "# pageview_id, url, referrer, started_at, duration, inactivity, session_id, started_at_time, pv_id, ses_id, user_id"
   ]
  },
  {
   "cell_type": "code",
   "execution_count": 26,
   "metadata": {},
   "outputs": [
    {
     "data": {
      "text/html": [
       "<div>\n",
       "<style scoped>\n",
       "    .dataframe tbody tr th:only-of-type {\n",
       "        vertical-align: middle;\n",
       "    }\n",
       "\n",
       "    .dataframe tbody tr th {\n",
       "        vertical-align: top;\n",
       "    }\n",
       "\n",
       "    .dataframe thead th {\n",
       "        text-align: right;\n",
       "    }\n",
       "</style>\n",
       "<table border=\"1\" class=\"dataframe\">\n",
       "  <thead>\n",
       "    <tr style=\"text-align: right;\">\n",
       "      <th></th>\n",
       "      <th>pageview_id</th>\n",
       "      <th>url</th>\n",
       "      <th>referrer</th>\n",
       "      <th>started_at</th>\n",
       "      <th>duration</th>\n",
       "      <th>inactivity</th>\n",
       "      <th>session_id</th>\n",
       "      <th>started_at_time</th>\n",
       "      <th>pv_id</th>\n",
       "    </tr>\n",
       "  </thead>\n",
       "  <tbody>\n",
       "    <tr>\n",
       "      <th>0</th>\n",
       "      <td>0004f120-8ae1-11ea-9430-c6018a4fe069</td>\n",
       "      <td>https://www.barefootky.sk/kategoria/d-d-step/</td>\n",
       "      <td>https://www.google.com/</td>\n",
       "      <td>1588250954495</td>\n",
       "      <td>15436.0</td>\n",
       "      <td>[{'start': 0, 'end': 941}, {'start': 991, 'end...</td>\n",
       "      <td>00034370-8ae1-11ea-bfdf-5db6a8c2950f</td>\n",
       "      <td>2020-04-30 14:49:14.495</td>\n",
       "      <td>1</td>\n",
       "    </tr>\n",
       "    <tr>\n",
       "      <th>1</th>\n",
       "      <td>0009f440-571a-11ea-8815-af26f5f1e9f3</td>\n",
       "      <td>https://www.barefootky.sk/kategoria/aigle-berg...</td>\n",
       "      <td>https://www.barefootky.sk/kategoria/afelo/</td>\n",
       "      <td>1582557977178</td>\n",
       "      <td>8044.0</td>\n",
       "      <td>[{'start': 0, 'end': 248}, {'start': 1420, 'en...</td>\n",
       "      <td>0008bbc0-571a-11ea-aa71-584d5b4aad40</td>\n",
       "      <td>2020-02-24 16:26:17.178</td>\n",
       "      <td>2</td>\n",
       "    </tr>\n",
       "    <tr>\n",
       "      <th>2</th>\n",
       "      <td>000ccbd0-7f72-11eb-ab14-a72f742b3eee</td>\n",
       "      <td>https://www.barefootky.sk/kategoria/nanga/</td>\n",
       "      <td></td>\n",
       "      <td>1615141316383</td>\n",
       "      <td>11552.0</td>\n",
       "      <td>[{'start': 0, 'end': 3167}, {'start': 3167, 'e...</td>\n",
       "      <td>000b1e20-7f72-11eb-b2a5-593b07bb16d9</td>\n",
       "      <td>2021-03-07 19:21:56.383</td>\n",
       "      <td>3</td>\n",
       "    </tr>\n",
       "    <tr>\n",
       "      <th>3</th>\n",
       "      <td>0014e000-5736-11ea-ac09-d0f4c664cbe9</td>\n",
       "      <td>https://www.barefootky.sk/kategoria/aigle-berg...</td>\n",
       "      <td>https://www.barefootky.sk/kategoria/aigle-berg...</td>\n",
       "      <td>1582570002204</td>\n",
       "      <td>15377.0</td>\n",
       "      <td>[{'start': 0, 'end': 380}, {'start': 380, 'end...</td>\n",
       "      <td>0013f5a0-5736-11ea-bca9-cd9798308c77</td>\n",
       "      <td>2020-02-24 19:46:42.204</td>\n",
       "      <td>4</td>\n",
       "    </tr>\n",
       "  </tbody>\n",
       "</table>\n",
       "</div>"
      ],
      "text/plain": [
       "                            pageview_id  \\\n",
       "0  0004f120-8ae1-11ea-9430-c6018a4fe069   \n",
       "1  0009f440-571a-11ea-8815-af26f5f1e9f3   \n",
       "2  000ccbd0-7f72-11eb-ab14-a72f742b3eee   \n",
       "3  0014e000-5736-11ea-ac09-d0f4c664cbe9   \n",
       "\n",
       "                                                 url  \\\n",
       "0      https://www.barefootky.sk/kategoria/d-d-step/   \n",
       "1  https://www.barefootky.sk/kategoria/aigle-berg...   \n",
       "2         https://www.barefootky.sk/kategoria/nanga/   \n",
       "3  https://www.barefootky.sk/kategoria/aigle-berg...   \n",
       "\n",
       "                                            referrer     started_at  duration  \\\n",
       "0                            https://www.google.com/  1588250954495   15436.0   \n",
       "1         https://www.barefootky.sk/kategoria/afelo/  1582557977178    8044.0   \n",
       "2                                                     1615141316383   11552.0   \n",
       "3  https://www.barefootky.sk/kategoria/aigle-berg...  1582570002204   15377.0   \n",
       "\n",
       "                                          inactivity  \\\n",
       "0  [{'start': 0, 'end': 941}, {'start': 991, 'end...   \n",
       "1  [{'start': 0, 'end': 248}, {'start': 1420, 'en...   \n",
       "2  [{'start': 0, 'end': 3167}, {'start': 3167, 'e...   \n",
       "3  [{'start': 0, 'end': 380}, {'start': 380, 'end...   \n",
       "\n",
       "                             session_id         started_at_time  pv_id  \n",
       "0  00034370-8ae1-11ea-bfdf-5db6a8c2950f 2020-04-30 14:49:14.495      1  \n",
       "1  0008bbc0-571a-11ea-aa71-584d5b4aad40 2020-02-24 16:26:17.178      2  \n",
       "2  000b1e20-7f72-11eb-b2a5-593b07bb16d9 2021-03-07 19:21:56.383      3  \n",
       "3  0013f5a0-5736-11ea-bca9-cd9798308c77 2020-02-24 19:46:42.204      4  "
      ]
     },
     "execution_count": 26,
     "metadata": {},
     "output_type": "execute_result"
    }
   ],
   "source": [
    "df_pageviews = df_pageviews.rename(columns={'id': 'pageview_id', 'startedAt': 'started_at'})\n",
    "df_pageviews['started_at_time'] = df_pageviews['started_at'].apply(lambda ms: convertMS(ms))\n",
    "df_pageviews['pv_id'] = pd.factorize(df_pageviews['pageview_id'])[0] + 1\n",
    "df_pageviews.head(4)"
   ]
  },
  {
   "cell_type": "code",
   "execution_count": 27,
   "metadata": {},
   "outputs": [],
   "source": [
    "df_pageviews = pd.merge(\n",
    "    df_pageviews,\n",
    "    df_sessions[['session_id', 'ses_id', 'user_id']],\n",
    "    on='session_id',\n",
    "    how='left'\n",
    ")"
   ]
  },
  {
   "cell_type": "code",
   "execution_count": null,
   "metadata": {},
   "outputs": [],
   "source": [
    "# SPRACOVANIE INACTIVITIES"
   ]
  },
  {
   "cell_type": "code",
   "execution_count": 29,
   "metadata": {},
   "outputs": [],
   "source": [
    "df_inactivities = pd.DataFrame(df_pageviews[['pageview_id','pv_id','session_id','ses_id','user_id','started_at', 'started_at_time','inactivity']])\n",
    "df_pageviews = df_pageviews.drop(columns=['inactivity'], axis=1, errors='ignore')\n",
    "df_inactivities = df_inactivities.explode('inactivity')"
   ]
  },
  {
   "cell_type": "code",
   "execution_count": 33,
   "metadata": {},
   "outputs": [],
   "source": [
    "# inactivity explode\n",
    "for key in df_inactivities.iloc[0]['inactivity'].keys():\n",
    "    df_inactivities[key] = df_inactivities.inactivity.apply(lambda b: b[key] if type(b) is dict else None)"
   ]
  },
  {
   "cell_type": "code",
   "execution_count": 34,
   "metadata": {},
   "outputs": [],
   "source": [
    "df_inactivities = df_inactivities.drop(columns=['inactivity'])\n",
    "df_inactivities.rename(columns={'start': 'inactivity_start'}, inplace=True)\n",
    "df_inactivities.rename(columns={'end': 'inactivity_end'}, inplace=True)"
   ]
  },
  {
   "cell_type": "code",
   "execution_count": 35,
   "metadata": {},
   "outputs": [],
   "source": [
    "# sum of inactivities\n",
    "df_inactivities['inactivity_sum'] = df_inactivities['inactivity_end'] - df_inactivities['inactivity_start']"
   ]
  },
  {
   "cell_type": "code",
   "execution_count": 36,
   "metadata": {},
   "outputs": [],
   "source": [
    "# sum of inactivities for user\n",
    "df_inactivities = df_inactivities.sort_values(by=['user_id', 'started_at'])\n",
    "df_inactivities['user_total_inactivity'] = df_inactivities.groupby('user_id')['inactivity_sum'].expanding(1).sum().values\n",
    "df_inactivities['user_last_total_inactivity'] = df_inactivities.groupby('user_id')['inactivity_sum'].expanding(1).sum().values - df_inactivities['inactivity_sum']"
   ]
  },
  {
   "cell_type": "code",
   "execution_count": 37,
   "metadata": {},
   "outputs": [],
   "source": [
    "# sum of inactivities for session\n",
    "df_inactivities = df_inactivities.sort_values(by=['session_id', 'started_at'])\n",
    "df_inactivities['session_total_inactivity'] = df_inactivities.groupby('session_id')['inactivity_sum'].expanding(1).sum().values\n",
    "df_inactivities['session_last_total_inactivity'] = df_inactivities.groupby('session_id')['inactivity_sum'].expanding(1).sum().values - df_inactivities['inactivity_sum']"
   ]
  },
  {
   "cell_type": "code",
   "execution_count": 38,
   "metadata": {},
   "outputs": [],
   "source": [
    "# sum of inactivities for pageview \n",
    "df_inactivities = df_inactivities.sort_values(by=['pageview_id', 'started_at']) \n",
    "df_inactivities['pageview_total_inactivity'] = df_inactivities.groupby('pageview_id')['inactivity_sum'].expanding(1).sum().values\n",
    "df_inactivities['pageview_last_total_inactivity'] = df_inactivities.groupby('pageview_id')['inactivity_sum'].expanding(1).sum().values - df_inactivities['inactivity_sum']"
   ]
  },
  {
   "cell_type": "code",
   "execution_count": 40,
   "metadata": {},
   "outputs": [],
   "source": [
    "# for each pageview compute effective_duration based on df_inactivities['pageview_total_inactivity']\n",
    "df_inactivities = df_inactivities.sort_values(by=['pageview_id', 'started_at'])\n",
    "\n",
    "df_pageviews = pd.merge(\n",
    "    df_pageviews,\n",
    "    df_inactivities[['pageview_id', 'pageview_total_inactivity']],\n",
    "    how='left',\n",
    "    on='pageview_id'\n",
    ")\n",
    "\n",
    "df_pageviews.drop_duplicates('pageview_id', keep='last', inplace=True) \n",
    "df_pageviews['effective_duration'] = df_pageviews['duration'] - df_pageviews['pageview_total_inactivity']\n",
    "df_pageviews = df_pageviews.drop(columns=['pageview_total_inactivity'])"
   ]
  },
  {
   "cell_type": "code",
   "execution_count": 41,
   "metadata": {},
   "outputs": [],
   "source": [
    "# for each session compute effective_duration based on df_pageviews['effective_duration']\n",
    "df_pageviews = df_pageviews.sort_values(by=['session_id', 'started_at'])\n",
    "df_sessions = df_sessions.sort_values(by=['session_id', 'started_at'])\n",
    "\n",
    "df_sessions = pd.merge(\n",
    "    df_sessions,\n",
    "    df_pageviews[['session_id', 'effective_duration']],\n",
    "    how='left',\n",
    "    on='session_id'\n",
    ")\n",
    "\n",
    "df_sessions['pageviews_effective_duration'] = df_sessions.groupby('session_id')['effective_duration'].expanding(1).sum().values\n",
    "df_sessions.drop_duplicates('session_id', keep='last', inplace=True)\n",
    "df_sessions = df_sessions.drop(columns=['effective_duration'])\n",
    "df_sessions = df_sessions.rename(columns={'pageviews_effective_duration': 'effective_duration'})"
   ]
  },
  {
   "cell_type": "code",
   "execution_count": 42,
   "metadata": {},
   "outputs": [],
   "source": [
    "# for each session compute effective_time_from_start based on effective_duration sessions \n",
    "df_sessions = df_sessions.sort_values(by=['user_id', 'started_at'])\n",
    "df_sessions['effective_time_from_start'] = df_sessions.groupby('user_id')['effective_duration'].expanding(1).sum().values - df_sessions['effective_duration']"
   ]
  },
  {
   "cell_type": "code",
   "execution_count": 43,
   "metadata": {},
   "outputs": [],
   "source": [
    "# for each pageview compute effective_time_from_start based on effective_duration pageviews\n",
    "df_pageviews = df_pageviews.sort_values(by=['user_id', 'started_at'])\n",
    "df_pageviews['effective_time_from_start'] = df_pageviews.groupby('user_id')['effective_duration'].expanding(1).sum().values - df_pageviews['effective_duration']"
   ]
  },
  {
   "cell_type": "code",
   "execution_count": null,
   "metadata": {},
   "outputs": [],
   "source": []
  },
  {
   "cell_type": "code",
   "execution_count": 44,
   "metadata": {},
   "outputs": [],
   "source": [
    "# SPRACOVANIE BAKED"
   ]
  },
  {
   "cell_type": "code",
   "execution_count": 45,
   "metadata": {},
   "outputs": [],
   "source": [
    "def add_data_from_pageview(dataframe):\n",
    "    \n",
    "    dataframe = pd.merge(\n",
    "        dataframe,\n",
    "        df_pageviews[['pageview_id', 'pv_id', 'user_id', 'effective_time_from_start']],\n",
    "        on='pageview_id',\n",
    "        how='left'\n",
    "    )\n",
    "\n",
    "    dataframe = dataframe.rename(columns={'effective_time_from_start': 'pageview_effective_time_from_start'})\n",
    "    \n",
    "    return dataframe"
   ]
  },
  {
   "cell_type": "code",
   "execution_count": 46,
   "metadata": {},
   "outputs": [],
   "source": [
    "df_input = add_data_from_pageview(df_input)\n",
    "df_load = add_data_from_pageview(df_load)\n",
    "df_click = add_data_from_pageview(df_click)\n",
    "df_mouse_click = add_data_from_pageview(df_mouse_click)\n",
    "df_rage_click = add_data_from_pageview(df_rage_click)\n",
    "df_mouse_move = add_data_from_pageview(df_mouse_move)\n",
    "df_scroll_move = add_data_from_pageview(df_scroll_move)\n",
    "df_wild_mouse = add_data_from_pageview(df_wild_mouse)\n",
    "df_scrandom = add_data_from_pageview(df_scrandom)"
   ]
  },
  {
   "cell_type": "code",
   "execution_count": null,
   "metadata": {},
   "outputs": [],
   "source": []
  },
  {
   "cell_type": "code",
   "execution_count": 47,
   "metadata": {},
   "outputs": [],
   "source": [
    "# for all events compute effective_time_from_start based on pageviews duration and inactivities length\n",
    "def count_effective_time_from_start(dataframe):\n",
    "\n",
    "    dataframe = dataframe.reset_index().rename(columns={'index': 'event_id'})\n",
    "\n",
    "    dataframe = pd.merge(\n",
    "        dataframe,\n",
    "        df_inactivities[['pageview_id', 'pv_id','inactivity_end', 'pageview_total_inactivity']],\n",
    "        on=['pageview_id','pv_id'],\n",
    "        how='left'\n",
    "    )\n",
    "\n",
    "    dataframe = dataframe[dataframe['inactivity_end'] <= dataframe['at']] \n",
    "    dataframe.drop_duplicates('event_id', keep='last', inplace=True) \n",
    "    dataframe['effective_time_from_start'] = dataframe['pageview_effective_time_from_start'] + dataframe['at'] - dataframe['pageview_total_inactivity']\n",
    "    dataframe = dataframe.drop(columns=['inactivity_end', 'pageview_total_inactivity', 'pageview_effective_time_from_start'])\n",
    "    dataframe = dataframe.set_index('event_id')\n",
    "    \n",
    "    return dataframe"
   ]
  },
  {
   "cell_type": "code",
   "execution_count": 48,
   "metadata": {},
   "outputs": [],
   "source": [
    "df_input = count_effective_time_from_start(df_input)\n",
    "df_load = count_effective_time_from_start(df_load)\n",
    "df_click = count_effective_time_from_start(df_click)\n",
    "df_mouse_click = count_effective_time_from_start(df_mouse_click)\n",
    "df_rage_click = count_effective_time_from_start(df_rage_click)\n",
    "df_mouse_move = count_effective_time_from_start(df_mouse_move)\n",
    "df_scroll_move = count_effective_time_from_start(df_scroll_move)\n",
    "df_wild_mouse = count_effective_time_from_start(df_wild_mouse)\n",
    "df_scrandom = count_effective_time_from_start(df_scrandom)"
   ]
  },
  {
   "cell_type": "code",
   "execution_count": 50,
   "metadata": {},
   "outputs": [],
   "source": [
    "df_inactivities.to_csv(folder + '/df_inactivities_all.csv', index=False, encoding='utf-8-sig')\n",
    "\n",
    "df_input.to_csv(folder + '/df_input_all.csv', index=False, encoding='utf-8-sig')\n",
    "df_load.to_csv(folder + '/df_load_all.csv', index=False, encoding='utf-8-sig')\n",
    "df_click.to_csv(folder + '/df_click_all.csv', index=False, encoding='utf-8-sig')\n",
    "df_mouse_click.to_csv(folder + '/df_mouse_click_all.csv', index=False, encoding='utf-8-sig')\n",
    "df_rage_click.to_csv(folder + '/df_rage_click_all.csv', index=False, encoding='utf-8-sig')\n",
    "df_mouse_move.to_csv(folder + '/df_mouse_move_all.csv', index=False, encoding='utf-8-sig')\n",
    "df_scroll_move.to_csv(folder + '/df_scroll_move_all.csv', index=False, encoding='utf-8-sig')\n",
    "df_wild_mouse.to_csv(folder + '/df_wild_mouse_all.csv', index=False, encoding='utf-8-sig')\n",
    "df_scrandom.to_csv(folder + '/df_scrandom_all.csv', index=False, encoding='utf-8-sig')\n",
    "\n",
    "df_pageviews.to_csv(folder + '/df_pageviews_all.csv', index=False, encoding='utf-8-sig')\n",
    "df_sessions.to_csv(folder + '/df_sessions_all.csv', index=False, encoding='utf-8-sig')"
   ]
  }
 ],
 "metadata": {
  "kernelspec": {
   "display_name": "Python 3",
   "language": "python",
   "name": "python3"
  },
  "language_info": {
   "codemirror_mode": {
    "name": "ipython",
    "version": 3
   },
   "file_extension": ".py",
   "mimetype": "text/x-python",
   "name": "python",
   "nbconvert_exporter": "python",
   "pygments_lexer": "ipython3",
   "version": "3.8.3"
  }
 },
 "nbformat": 4,
 "nbformat_minor": 4
}
