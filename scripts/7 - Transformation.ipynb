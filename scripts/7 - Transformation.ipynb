{
 "cells": [
  {
   "cell_type": "code",
   "execution_count": 1,
   "metadata": {},
   "outputs": [],
   "source": [
    "import numpy as np\n",
    "import pandas as pd\n",
    "import collections # counter\n",
    "\n",
    "from sklearn import preprocessing\n",
    "from sklearn.impute import SimpleImputer # missing data\n",
    "from sklearn.preprocessing import StandardScaler # feature scaling\n",
    "from sklearn.compose import ColumnTransformer"
   ]
  },
  {
   "cell_type": "code",
   "execution_count": 2,
   "metadata": {},
   "outputs": [],
   "source": [
    "# folder = 'csv_he'\n",
    "# folder = 'csv_pp_500'\n",
    "folder = 'csv_b_500'\n",
    "# selection_method = 1\n",
    "selection_method = 2"
   ]
  },
  {
   "cell_type": "code",
   "execution_count": 3,
   "metadata": {},
   "outputs": [],
   "source": [
    "df_users = pd.read_csv(folder + '/df_users_dom_' + str(selection_method) + '.csv')\n",
    "df_pageviews = pd.read_csv(folder + '/df_pageviews_metrics_' + str(selection_method) + '.csv')\n",
    "df_sessions = pd.read_csv(folder + '/df_sessions_metrics_' + str(selection_method) + '.csv')"
   ]
  },
  {
   "cell_type": "code",
   "execution_count": 4,
   "metadata": {},
   "outputs": [],
   "source": [
    "pd.options.display.max_columns = None"
   ]
  },
  {
   "cell_type": "code",
   "execution_count": 5,
   "metadata": {},
   "outputs": [],
   "source": [
    "columns = ['n_load', 'n_rage_click', 'n_wild_mouse', 'n_unique_product', 'n_unique_category',\n",
    "           'mean_n_ses_between_buys', 'buy_count', 'n_buy', 'day', 'referrer2', 'referrer3', 'started_at', 'duration']\n",
    "df_users = df_users.drop(columns, axis=1)"
   ]
  },
  {
   "cell_type": "code",
   "execution_count": 6,
   "metadata": {},
   "outputs": [],
   "source": [
    "# n_next_page - only He\n",
    "columns = ['n_pageviews', 'n_input', 'n_click', 'n_mouse_click', 'n_mouse_move',\n",
    "           'n_scroll_move', 'n_scrandom', 'n_events', 'n_product', 'n_non_product', \n",
    "           'n_category', 'n_filter', 'n_search', 'n_cart', 'n_add_to_cart', 'n_remove_from_cart', \n",
    "           'n_next_page',\n",
    "           'effective_duration', 'pv_product_mean_eff_duration', 'load_time']"
   ]
  },
  {
   "cell_type": "code",
   "execution_count": 7,
   "metadata": {},
   "outputs": [],
   "source": [
    "data = pd.DataFrame()"
   ]
  },
  {
   "cell_type": "code",
   "execution_count": 8,
   "metadata": {},
   "outputs": [],
   "source": [
    "# split each column to buy/no buy\n",
    "for user in df_users['user_id'].unique():\n",
    "    for column in columns:\n",
    "        buy_true = 0\n",
    "        buy_false = 0\n",
    "        n_buy = 0\n",
    "        n_no_buy = 0\n",
    "        \n",
    "        for session in df_users[df_users['user_id'] == user]['session_id']:\n",
    "            val = df_users[df_users['session_id'] == session][column].values[0]\n",
    "            buy = df_users[df_users['session_id'] == session]['buy'].values[0]\n",
    "            if buy == 1:\n",
    "                buy_true += val\n",
    "                n_buy += 1\n",
    "            if buy == 0:\n",
    "                buy_false += val\n",
    "                n_no_buy += 1\n",
    "        df_users.loc[df_users['user_id'] == user, column + '_buy'] = round(buy_true/n_buy)\n",
    "        df_users.loc[df_users['user_id'] == user, column + '_no_buy'] = round(buy_false/n_no_buy) if n_no_buy != 0 else 0\n",
    "    df_users.loc[df_users['user_id'] == user,'num_of_sessions'] = n_no_buy + n_buy"
   ]
  },
  {
   "cell_type": "code",
   "execution_count": 11,
   "metadata": {},
   "outputs": [
    {
     "data": {
      "text/plain": [
       "78"
      ]
     },
     "execution_count": 11,
     "metadata": {},
     "output_type": "execute_result"
    }
   ],
   "source": [
    "len(df_users[(df_users['repeat_buyer'] == True) & (df_users['n_pageviews_no_buy'] == 0)]['user_id'].unique())"
   ]
  },
  {
   "cell_type": "code",
   "execution_count": 13,
   "metadata": {},
   "outputs": [],
   "source": [
    "df_users = df_users.drop(columns,axis=1)"
   ]
  },
  {
   "cell_type": "code",
   "execution_count": 14,
   "metadata": {},
   "outputs": [],
   "source": [
    "data = pd.DataFrame()\n",
    "columns = ['country', 'city', 'city_type', 'continent', 'region', 'device.type', 'browser.name', 'os.name', 'referrer1']\n",
    "for column in columns:    \n",
    "    data[column] = df_users.groupby(['user_id'])[column].apply(lambda x: pd.Series.mode(x)[0])"
   ]
  },
  {
   "cell_type": "code",
   "execution_count": 15,
   "metadata": {},
   "outputs": [],
   "source": [
    "data = data.reset_index()\n",
    "df_users = df_users.drop(columns, axis = 1)"
   ]
  },
  {
   "cell_type": "code",
   "execution_count": 16,
   "metadata": {},
   "outputs": [],
   "source": [
    "df_users = pd.merge(\n",
    "    df_users,\n",
    "    data,\n",
    "    on='user_id',\n",
    "    how='left'\n",
    ")"
   ]
  },
  {
   "cell_type": "code",
   "execution_count": 17,
   "metadata": {},
   "outputs": [
    {
     "data": {
      "text/plain": [
       "Index(['user_id', 'session_id', 'buy', 'n_sessions', 'hour', 'day_name',\n",
       "       'buy_hour', 'buy_day', 'repeat_buyer', 'n_sessions_after_1_buy',\n",
       "       'top_product', 'n_top_product', 'top_category', 'n_top_category',\n",
       "       'top_product_u', 'n_top_product_u', 'n_unique_product_u',\n",
       "       'top_category_u', 'n_top_category_u', 'n_unique_category_u',\n",
       "       'user_mean_eff_duration', 'mean_price', 'n_pageviews_buy',\n",
       "       'n_pageviews_no_buy', 'n_input_buy', 'n_input_no_buy', 'n_click_buy',\n",
       "       'n_click_no_buy', 'n_mouse_click_buy', 'n_mouse_click_no_buy',\n",
       "       'n_mouse_move_buy', 'n_mouse_move_no_buy', 'n_scroll_move_buy',\n",
       "       'n_scroll_move_no_buy', 'n_scrandom_buy', 'n_scrandom_no_buy',\n",
       "       'n_events_buy', 'n_events_no_buy', 'n_product_buy', 'n_product_no_buy',\n",
       "       'n_non_product_buy', 'n_non_product_no_buy', 'n_category_buy',\n",
       "       'n_category_no_buy', 'n_filter_buy', 'n_filter_no_buy', 'n_search_buy',\n",
       "       'n_search_no_buy', 'n_cart_buy', 'n_cart_no_buy', 'n_add_to_cart_buy',\n",
       "       'n_add_to_cart_no_buy', 'n_remove_from_cart_buy',\n",
       "       'n_remove_from_cart_no_buy', 'n_next_page_buy', 'n_next_page_no_buy',\n",
       "       'effective_duration_buy', 'effective_duration_no_buy',\n",
       "       'pv_product_mean_eff_duration_buy',\n",
       "       'pv_product_mean_eff_duration_no_buy', 'load_time_buy',\n",
       "       'load_time_no_buy', 'num_of_sessions', 'country', 'city', 'city_type',\n",
       "       'continent', 'region', 'device.type', 'browser.name', 'os.name',\n",
       "       'referrer1'],\n",
       "      dtype='object')"
      ]
     },
     "execution_count": 17,
     "metadata": {},
     "output_type": "execute_result"
    }
   ],
   "source": [
    "df_users.columns"
   ]
  },
  {
   "cell_type": "code",
   "execution_count": null,
   "metadata": {},
   "outputs": [],
   "source": []
  },
  {
   "cell_type": "code",
   "execution_count": 18,
   "metadata": {},
   "outputs": [],
   "source": [
    "def set_buy_time(hour):\n",
    "    if (hour > 2 and hour <= 10):\n",
    "        return 1\n",
    "    elif (hour <= 18):\n",
    "        return 2\n",
    "    else:\n",
    "        return 3\n",
    "\n",
    "def set_buy_day(day):\n",
    "    weekday = ['Monday','Tuesday','Thursday','Wednesday','Friday']\n",
    "    weekend = ['Saturday','Sunday']\n",
    "    if (day in weekday):\n",
    "        return 1\n",
    "    else:\n",
    "        return 2"
   ]
  },
  {
   "cell_type": "code",
   "execution_count": 19,
   "metadata": {},
   "outputs": [],
   "source": [
    "df_users['buy_time'] = df_users['buy_hour'].apply(lambda x: 0 if x == '-' else set_buy_time(float(x)))\n",
    "df_users['time'] = df_users['hour'].apply(lambda x: 0 if x == '-' else set_buy_time(float(x)))\n",
    "df_users['buy_day'] = df_users['buy_day'].apply(lambda x: 0 if x == '-' else set_buy_day((x)) )\n",
    "df_users['day'] = df_users['day_name'].apply(lambda x: 0 if x == '-' else set_buy_day((x)) )"
   ]
  },
  {
   "cell_type": "code",
   "execution_count": 20,
   "metadata": {},
   "outputs": [],
   "source": [
    "columns = ['hour', 'day_name', 'buy_hour']\n",
    "df_users = df_users.drop(columns,axis=1)"
   ]
  },
  {
   "cell_type": "code",
   "execution_count": null,
   "metadata": {},
   "outputs": [],
   "source": []
  },
  {
   "cell_type": "code",
   "execution_count": 22,
   "metadata": {},
   "outputs": [],
   "source": [
    "for i in df_users['time'].unique():\n",
    "    df_users['buy_time_' + str(i)] = 0\n",
    "    df_users['time_' + str(i)] = 0\n",
    "    \n",
    "for i in df_users['day'].unique():\n",
    "    df_users['buy_day_' + str(i)] = 0\n",
    "    df_users['day_' + str(i)] = 0"
   ]
  },
  {
   "cell_type": "code",
   "execution_count": 23,
   "metadata": {},
   "outputs": [],
   "source": [
    "i = 0\n",
    "columns = ['buy_time', 'time', 'buy_day', 'day']\n",
    "for user in df_users['user_id'].unique():\n",
    "    for column in columns:\n",
    "        for session in df_users[df_users['user_id'] == user]['session_id']:\n",
    "            val = df_users[df_users['session_id'] == session][column].values[0]\n",
    "            if val != 0:\n",
    "                df_users.loc[df_users['user_id'] == user, column + '_' + str(val)] += 1"
   ]
  },
  {
   "cell_type": "code",
   "execution_count": 24,
   "metadata": {},
   "outputs": [],
   "source": [
    "df_users = df_users.drop(columns,axis=1)"
   ]
  },
  {
   "cell_type": "code",
   "execution_count": null,
   "metadata": {},
   "outputs": [],
   "source": []
  },
  {
   "cell_type": "code",
   "execution_count": 25,
   "metadata": {},
   "outputs": [],
   "source": [
    "columns = ['user_id', 'session_id', 'buy', 'top_product', 'n_top_product', 'top_category', 'n_top_category']\n",
    "df_users = df_users.drop(columns,axis=1)"
   ]
  },
  {
   "cell_type": "code",
   "execution_count": 26,
   "metadata": {},
   "outputs": [
    {
     "data": {
      "text/plain": [
       "904"
      ]
     },
     "execution_count": 26,
     "metadata": {},
     "output_type": "execute_result"
    }
   ],
   "source": [
    "df_users = df_users.drop_duplicates(subset=None, keep='first', inplace=False, ignore_index=False)\n",
    "len(df_users)"
   ]
  },
  {
   "cell_type": "code",
   "execution_count": 27,
   "metadata": {},
   "outputs": [],
   "source": [
    "for column in df_users.columns:\n",
    "    df_users[column].fillna('-',inplace=True)"
   ]
  },
  {
   "cell_type": "code",
   "execution_count": 28,
   "metadata": {},
   "outputs": [],
   "source": [
    "df_users.to_csv(folder + '/df_users_transform_' + str(selection_method) + '.csv', index=False, encoding='utf-8-sig')"
   ]
  },
  {
   "cell_type": "code",
   "execution_count": null,
   "metadata": {},
   "outputs": [],
   "source": []
  }
 ],
 "metadata": {
  "kernelspec": {
   "display_name": "Python 3",
   "language": "python",
   "name": "python3"
  },
  "language_info": {
   "codemirror_mode": {
    "name": "ipython",
    "version": 3
   },
   "file_extension": ".py",
   "mimetype": "text/x-python",
   "name": "python",
   "nbconvert_exporter": "python",
   "pygments_lexer": "ipython3",
   "version": "3.8.3"
  }
 },
 "nbformat": 4,
 "nbformat_minor": 4
}
