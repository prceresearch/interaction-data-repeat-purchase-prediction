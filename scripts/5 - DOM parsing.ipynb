{
 "cells": [
  {
   "cell_type": "code",
   "execution_count": 1,
   "metadata": {},
   "outputs": [],
   "source": [
    "import json\n",
    "import pandas as pd\n",
    "import glob\n",
    "import time\n",
    "from tqdm import tqdm\n",
    "import sys,os\n",
    "import collections\n",
    "import re\n",
    "import csv\n",
    "from datetime import datetime\n",
    "import itertools\n",
    "import numpy as np\n",
    "import statistics\n",
    "\n",
    "import scipy.stats as ss\n",
    "import seaborn as sns\n",
    "\n",
    "from copy import *\n",
    "import requests"
   ]
  },
  {
   "cell_type": "code",
   "execution_count": 2,
   "metadata": {},
   "outputs": [],
   "source": [
    "# folder = 'csv_he'\n",
    "# folder = 'csv_pp_500'\n",
    "folder = 'csv_b_500'\n",
    "# selection_method = 1\n",
    "selection_method = 2\n",
    "# project = 'he'\n",
    "# project = 'pp'\n",
    "project = 'ba'"
   ]
  },
  {
   "cell_type": "code",
   "execution_count": 3,
   "metadata": {},
   "outputs": [],
   "source": [
    "df_users = pd.read_csv(folder + '/df_users_metrics_clean_' + str(selection_method) + '.csv')\n",
    "df_pageviews = pd.read_csv(folder + '/df_pageviews_metrics_' + str(selection_method) + '.csv')"
   ]
  },
  {
   "cell_type": "code",
   "execution_count": 4,
   "metadata": {},
   "outputs": [],
   "source": [
    "urls = df_pageviews['url'].unique()\n",
    "df_pv_product = df_pageviews[df_pageviews['pageview_product'] == 1]\n",
    "unique_pv = df_pv_product['url'].unique()"
   ]
  },
  {
   "cell_type": "code",
   "execution_count": 5,
   "metadata": {},
   "outputs": [
    {
     "data": {
      "text/plain": [
       "953"
      ]
     },
     "execution_count": 5,
     "metadata": {},
     "output_type": "execute_result"
    }
   ],
   "source": [
    "len(unique_pv)"
   ]
  },
  {
   "cell_type": "code",
   "execution_count": null,
   "metadata": {},
   "outputs": [],
   "source": []
  },
  {
   "cell_type": "code",
   "execution_count": 6,
   "metadata": {},
   "outputs": [],
   "source": [
    "if project == 'he':\n",
    "    root_dir = './pageviews_he'\n",
    "    element = 'span'\n",
    "    key = 'class'\n",
    "    value = 'price-final-holder'\n",
    "    \n",
    "if project == 'pp':\n",
    "    root_dir = './pageviews_pp_500'\n",
    "    element = 'span'\n",
    "    key = 'id'\n",
    "    value = 'our_price_display'\n",
    "    \n",
    "if project == 'ba':\n",
    "    root_dir = './pageviews_b_500'\n",
    "    element = 'span'\n",
    "    key = 'class'\n",
    "    value = 'cena'"
   ]
  },
  {
   "cell_type": "code",
   "execution_count": null,
   "metadata": {},
   "outputs": [],
   "source": [
    "# write data \n",
    "for url in unique_pv:\n",
    "    data = requests.get(url).content\n",
    "    filename = root_dir + '/pv_' + str(i) + \".txt\"\n",
    "    open(filename, 'wb').write(data)\n",
    "    \n",
    "    f = open(filename, \"r\", encoding='utf-8')\n",
    "    data = f.read()\n",
    "    try: \n",
    "        from BeautifulSoup import BeautifulSoup\n",
    "    except ImportError:\n",
    "        from bs4 import BeautifulSoup\n",
    "    parsed_html = BeautifulSoup(data)\n",
    "    price = parsed_html.body.find(element, attrs={key: value})\n",
    "            \n",
    "    if price is not None:\n",
    "        price = re.sub('[^0-9,]','',price.text.strip())\n",
    "        df_pv_product.loc[df_pv_product['url'] == url,'price'] = re.sub(',','.',price) \n",
    "    \n",
    "    if project == 'he':\n",
    "        rate = parsed_html.body.find('span', attrs={'class':'rate-average'})\n",
    "        if rate is not None:\n",
    "            rate = re.sub('[^0-9,]','',rate.text.strip())\n",
    "            df_pv_product.loc[df_pv_product['url'] == url,'rate'] = re.sub(',','.',rate)"
   ]
  },
  {
   "cell_type": "code",
   "execution_count": null,
   "metadata": {},
   "outputs": [],
   "source": []
  },
  {
   "cell_type": "code",
   "execution_count": null,
   "metadata": {},
   "outputs": [],
   "source": [
    "listOfUrls = list()\n",
    "for (dirpath, dirnames, filenames) in os.walk(root_dir):\n",
    "    for file in filenames:        \n",
    "        listOfUrls += [dirpath + \"/\" + file]"
   ]
  },
  {
   "cell_type": "code",
   "execution_count": null,
   "metadata": {},
   "outputs": [],
   "source": [
    "for (filename,url) in zip(listOfUrls,unique_pv):\n",
    "    with open(filename, 'r', encoding=\"utf8\") as file:\n",
    "        data = file.read()\n",
    "        try: \n",
    "            from BeautifulSoup import BeautifulSoup\n",
    "        except ImportError:\n",
    "            from bs4 import BeautifulSoup\n",
    "        parsed_html = BeautifulSoup(data)\n",
    "        price = parsed_html.body.find(element, attrs={key: value})\n",
    "        \n",
    "        if price is not None:\n",
    "            price = re.sub('[^0-9,]','',price.text.strip())\n",
    "            df_pv_product.loc[df_pv_product['url'] == url,'price'] = re.sub(',','.',price)            \n",
    "        \n",
    "        if project == 'he':\n",
    "            rate = parsed_html.body.find('span', attrs={'class':'rate-average'})\n",
    "            if rate is not None:\n",
    "                rate = re.sub('[^0-9,]','',rate.text.strip())\n",
    "                df_pv_product.loc[df_pv_product['url'] == url,'rate'] = re.sub(',','.',rate)"
   ]
  },
  {
   "cell_type": "code",
   "execution_count": null,
   "metadata": {},
   "outputs": [],
   "source": []
  },
  {
   "cell_type": "code",
   "execution_count": 8,
   "metadata": {},
   "outputs": [
    {
     "name": "stderr",
     "output_type": "stream",
     "text": [
      "<ipython-input-8-436f60591576>:1: SettingWithCopyWarning: \n",
      "A value is trying to be set on a copy of a slice from a DataFrame.\n",
      "Try using .loc[row_indexer,col_indexer] = value instead\n",
      "\n",
      "See the caveats in the documentation: https://pandas.pydata.org/pandas-docs/stable/user_guide/indexing.html#returning-a-view-versus-a-copy\n",
      "  df_pv_product['price'] = pd.to_numeric(df_pv_product['price'])\n"
     ]
    }
   ],
   "source": [
    "df_pv_product['price'] = pd.to_numeric(df_pv_product['price'])\n",
    "df_users_price = df_pv_product.groupby('user_id')[['price']].mean().reset_index()\n",
    "df_users_price.rename(columns={'price' : \"mean_price\"}, inplace = True)"
   ]
  },
  {
   "cell_type": "code",
   "execution_count": 9,
   "metadata": {},
   "outputs": [],
   "source": [
    "df_users = pd.merge(\n",
    "    df_users,\n",
    "    df_users_price,\n",
    "    on='user_id',\n",
    "    how='left'\n",
    ")\n",
    "\n",
    "columns = ['mean_price']"
   ]
  },
  {
   "cell_type": "code",
   "execution_count": 10,
   "metadata": {},
   "outputs": [],
   "source": [
    "if project == 'he':\n",
    "    df_pv_product['rate'] = pd.to_numeric(df_pv_product['rate'])\n",
    "    \n",
    "    df_users_rate = df_pv_product.groupby('user_id')[['rate']].mean().reset_index()\n",
    "    df_users_rate.rename(columns={'rate' : \"mean_rate\"}, inplace = True)\n",
    "    \n",
    "    df_users = pd.merge(\n",
    "        df_users,\n",
    "        df_users_rate,\n",
    "        on='user_id',\n",
    "        how='left'\n",
    "    )\n",
    "    columns = ['mean_price', 'mean_rate']"
   ]
  },
  {
   "cell_type": "code",
   "execution_count": 11,
   "metadata": {},
   "outputs": [],
   "source": [
    "for column in columns:\n",
    "    df_users[column] = df_users[column].fillna(0)\n",
    "    df_users[column] = df_users[column].astype(int)"
   ]
  },
  {
   "cell_type": "code",
   "execution_count": null,
   "metadata": {},
   "outputs": [],
   "source": []
  },
  {
   "cell_type": "code",
   "execution_count": 12,
   "metadata": {},
   "outputs": [],
   "source": [
    "df_users.to_csv(folder + '/df_users_dom_' + str(selection_method) + '.csv', index=False, encoding='utf-8-sig')"
   ]
  }
 ],
 "metadata": {
  "kernelspec": {
   "display_name": "Python 3",
   "language": "python",
   "name": "python3"
  },
  "language_info": {
   "codemirror_mode": {
    "name": "ipython",
    "version": 3
   },
   "file_extension": ".py",
   "mimetype": "text/x-python",
   "name": "python",
   "nbconvert_exporter": "python",
   "pygments_lexer": "ipython3",
   "version": "3.8.3"
  }
 },
 "nbformat": 4,
 "nbformat_minor": 4
}
