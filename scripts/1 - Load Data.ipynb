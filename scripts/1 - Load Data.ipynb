{
 "cells": [
  {
   "cell_type": "code",
   "execution_count": null,
   "metadata": {},
   "outputs": [],
   "source": [
    "# load all data and select purchase files"
   ]
  },
  {
   "cell_type": "code",
   "execution_count": 1,
   "metadata": {},
   "outputs": [],
   "source": [
    "import json\n",
    "import pandas as pd\n",
    "import glob\n",
    "import time\n",
    "from tqdm import tqdm\n",
    "import sys,os\n",
    "import collections\n",
    "import re\n",
    "import csv"
   ]
  },
  {
   "cell_type": "code",
   "execution_count": 6,
   "metadata": {},
   "outputs": [],
   "source": [
    "# Choose store\n",
    "# project = 'he'\n",
    "# project = 'pp'\n",
    "project = 'b'\n",
    "\n",
    "if project == 'he':\n",
    "    root_dir = '/Data/herbatica_365d/'\n",
    "    session_file = 'sessions_all_he.csv'\n",
    "    purchase = 'dakujeme' \n",
    "    \n",
    "elif project == 'pp':\n",
    "    root_dir = '/Data/particlepeptides_365d/'\n",
    "    session_file = 'sessions_all_pp_500.csv'\n",
    "    purchase = 'potvrdenie-objednavky|order-confirmation'\n",
    "    \n",
    "elif project == 'b':\n",
    "    root_dir = '/Data/barefootky_365d/'\n",
    "    session_file = 'sessions_all_b_500.csv'\n",
    "    purchase = '&objednane'"
   ]
  },
  {
   "cell_type": "code",
   "execution_count": 7,
   "metadata": {},
   "outputs": [],
   "source": [
    "data_file = 'data.json'"
   ]
  },
  {
   "cell_type": "code",
   "execution_count": null,
   "metadata": {},
   "outputs": [],
   "source": [
    "# list of all files (sessions)\n",
    "listOfFiles = list()\n",
    "for (dirpath, dirnames, filenames) in os.walk(root_dir):\n",
    "    for file in filenames:        \n",
    "        if file == data_file:\n",
    "            listOfFiles += [dirpath + \"/\" + file]"
   ]
  },
  {
   "cell_type": "code",
   "execution_count": null,
   "metadata": {},
   "outputs": [],
   "source": [
    "# save list of all files\n",
    "if project == 'he':\n",
    "    f = open(session_file, \"w\")\n",
    "    f.writelines([\"%s\\n\" % item  for item in listOfFiles])\n",
    "    f.close()\n",
    "\n",
    "if project == 'pp':\n",
    "    f = open(session_file, \"w\")\n",
    "    f.writelines([\"%s\\n\" % item  for item in listOfFiles])\n",
    "    f.close()\n",
    "    \n",
    "if project == 'b':\n",
    "    f = open(session_file, \"w\")\n",
    "    f.writelines([\"%s\\n\" % item  for item in listOfFiles])\n",
    "    f.close()"
   ]
  },
  {
   "cell_type": "code",
   "execution_count": 8,
   "metadata": {},
   "outputs": [],
   "source": [
    "# load list of all files \n",
    "listOfFiles = list()\n",
    "with open(session_file, newline = '') as csvfile:\n",
    "    reader = csv.reader(csvfile)\n",
    "    for row in reader:\n",
    "        listOfFiles.append(row[0])"
   ]
  },
  {
   "cell_type": "code",
   "execution_count": 9,
   "metadata": {},
   "outputs": [
    {
     "data": {
      "text/plain": [
       "248954"
      ]
     },
     "execution_count": 9,
     "metadata": {},
     "output_type": "execute_result"
    }
   ],
   "source": [
    "len(listOfFiles) "
   ]
  },
  {
   "cell_type": "code",
   "execution_count": null,
   "metadata": {
    "scrolled": false
   },
   "outputs": [],
   "source": [
    "# sessions with purchase - dakujeme (he), potvrdenie-objednavky (pp), &objednavka (ba)\n",
    "buyFiles = list()\n",
    "for filename in listOfFiles:\n",
    "    with open(filename, 'r', encoding=\"utf8\") as file:\n",
    "        file = file.read()\n",
    "        json_data = json.loads(file)\n",
    "        pageviews = json_data['pageviews']\n",
    "        for pv in pageviews:\n",
    "            try:\n",
    "                if re.findall(purchase, pv['url']):\n",
    "                    buyFiles.append(filename)\n",
    "            except Exception:\n",
    "                pass"
   ]
  },
  {
   "cell_type": "code",
   "execution_count": null,
   "metadata": {},
   "outputs": [],
   "source": [
    "buyFiles = set(buyFiles)"
   ]
  },
  {
   "cell_type": "code",
   "execution_count": null,
   "metadata": {},
   "outputs": [],
   "source": [
    "len(buyFiles)"
   ]
  },
  {
   "cell_type": "code",
   "execution_count": null,
   "metadata": {
    "scrolled": true
   },
   "outputs": [],
   "source": [
    "if project == 'he':    \n",
    "    f = open(\"sessions_purchase_all_he.csv\", \"w\")\n",
    "    f.writelines([\"%s\\n\" % item  for item in buyFiles])\n",
    "    f.close()\n",
    "    \n",
    "if project == 'pp':\n",
    "    f = open(\"sessions_purchase_all_pp_500.csv\", \"w\")\n",
    "    f.writelines([\"%s\\n\" % item  for item in buyFiles])\n",
    "    f.close()\n",
    "    \n",
    "if project == 'b':\n",
    "    f = open(\"sessions_purchase_all_b_500.csv\", \"w\")\n",
    "    f.writelines([\"%s\\n\" % item  for item in buyFiles])\n",
    "    f.close()"
   ]
  }
 ],
 "metadata": {
  "kernelspec": {
   "display_name": "Python 3",
   "language": "python",
   "name": "python3"
  },
  "language_info": {
   "codemirror_mode": {
    "name": "ipython",
    "version": 3
   },
   "file_extension": ".py",
   "mimetype": "text/x-python",
   "name": "python",
   "nbconvert_exporter": "python",
   "pygments_lexer": "ipython3",
   "version": "3.8.3"
  }
 },
 "nbformat": 4,
 "nbformat_minor": 4
}
