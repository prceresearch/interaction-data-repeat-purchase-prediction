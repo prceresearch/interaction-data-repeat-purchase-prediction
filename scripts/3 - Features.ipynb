{
 "cells": [
  {
   "cell_type": "code",
   "execution_count": 1,
   "metadata": {},
   "outputs": [],
   "source": [
    "import json\n",
    "import pandas as pd\n",
    "import glob\n",
    "import time\n",
    "from tqdm import tqdm\n",
    "import sys,os\n",
    "import collections\n",
    "import re\n",
    "import csv\n",
    "from datetime import datetime\n",
    "import numpy as np\n",
    "import matplotlib.pyplot as plt\n",
    "import matplotlib.colors as colors\n",
    "import itertools\n",
    "import statistics\n",
    "import scipy.stats as ss\n",
    "import seaborn as sns\n",
    "from copy import *"
   ]
  },
  {
   "cell_type": "code",
   "execution_count": 2,
   "metadata": {},
   "outputs": [],
   "source": [
    "pd.options.display.max_columns = None"
   ]
  },
  {
   "cell_type": "code",
   "execution_count": 3,
   "metadata": {},
   "outputs": [],
   "source": [
    "# project = 'he'\n",
    "project = 'pp'\n",
    "# project = 'ba'\n",
    "\n",
    "if project == 'he':\n",
    "    folder = 'csv_he'\n",
    "    url_regex = r'((?<=https:\\/\\/www.herbatica.sk\\/)\\S+)'\n",
    "    \n",
    "elif project == 'pp':\n",
    "    folder = 'csv_pp_500'\n",
    "    url_regex = r'((?<=https:\\/\\/particlepeptides.com\\/)\\S+)'\n",
    "\n",
    "elif project == 'ba':\n",
    "    folder = 'csv_b_500'\n",
    "    url_regex = r'((?<=https:\\/\\/www.barefootky.sk\\/)\\S+)'\n"
   ]
  },
  {
   "cell_type": "code",
   "execution_count": 4,
   "metadata": {},
   "outputs": [],
   "source": [
    "df_inactivities = pd.read_csv(folder + '/df_inactivities_all.csv')\n",
    "df_input = pd.read_csv(folder + '/df_input_all.csv')\n",
    "df_load = pd.read_csv(folder + '/df_load_all.csv')\n",
    "df_click = pd.read_csv(folder + '/df_click_all.csv')\n",
    "df_mouse_click = pd.read_csv(folder + '/df_mouse_click_all.csv')\n",
    "df_rage_click = pd.read_csv(folder + '/df_rage_click_all.csv')\n",
    "df_mouse_move = pd.read_csv(folder + '/df_mouse_move_all.csv')\n",
    "df_scroll_move = pd.read_csv(folder + '/df_scroll_move_all.csv')\n",
    "df_wild_mouse = pd.read_csv(folder + '/df_wild_mouse_all.csv')\n",
    "df_scrandom = pd.read_csv(folder + '/df_scrandom_all.csv')\n",
    "df_pageviews = pd.read_csv(folder + '/df_pageviews_all.csv')\n",
    "df_sessions = pd.read_csv(folder + '/df_sessions_all.csv')"
   ]
  },
  {
   "cell_type": "code",
   "execution_count": 5,
   "metadata": {},
   "outputs": [],
   "source": [
    "df_pageviews['url1'] = df_pageviews['url'].str.extract(url_regex) # url1 - everything behind https://www.detskapostel.com/\n",
    "df_pageviews['url2'] = df_pageviews['url1'].str.extract(r'((?<=\\/)\\S+)') # 2. part from url1 without / at the end\n",
    "df_pageviews['url3'] = df_pageviews['url2'].str.extract(r'((?<=\\/)\\S+)') # 2. part from url2 without / at the end\n",
    "\n",
    "df_pageviews['url1'] = df_pageviews['url1'].str.extract(r'^([^\\/]*)') # 1. part from url1 without /\n",
    "df_pageviews['url2'] = df_pageviews['url2'].str.extract(r'^([^\\/]*)') # 1. part from url2 without /\n",
    "df_pageviews['url3'] = df_pageviews['url3'].str.extract(r'^([^\\/]*)') # 1. part from url3 without /    "
   ]
  },
  {
   "cell_type": "code",
   "execution_count": 6,
   "metadata": {},
   "outputs": [],
   "source": [
    "# do df_pageviews nám pribudli tieto stĺpce:\n",
    "# - pageview_non_product (True/False) - nonproduct pages\n",
    "# - pageview_category (True/False) - category pages\n",
    "# - pageview_product (True/False) - product pages\n",
    "# - pageview_search - search\n",
    "# - pageview_buy - purchase completion page\n",
    "# - pageview_cart - cart page\n",
    "# - pageview_filter (True/False) - filter in category (pagination and google ads clicks)\n",
    "#     - if filter = 1, category = 1\n",
    "#\n",
    "# pageview_non_product + pageview_category + pageview_product + pageview_search + pageview_buy + pageview_cart = df_pageviews"
   ]
  },
  {
   "cell_type": "code",
   "execution_count": 7,
   "metadata": {},
   "outputs": [],
   "source": [
    "if (project == 'he'):\n",
    "    non_product_pages = [\n",
    "        'vernost',\n",
    "        'newsletter',\n",
    "        'blog_herbatica',\n",
    "        'blog',\n",
    "        'doprava_platby',\n",
    "        'certifikaty_produktov',\n",
    "        'obchodne-podmienky',\n",
    "        'poou',\n",
    "        'o-nas',\n",
    "        'faq',\n",
    "        'registracia',\n",
    "        'klient',\n",
    "        'login',\n",
    "        'napiste-nam',\n",
    "        'logout',\n",
    "        'affiliate-registracia',\n",
    "        'affiliate-login',\n",
    "        'affiliate-zabudnute-heslo',\n",
    "        'user',\n",
    "    ]\n",
    "    search = [\n",
    "        'vyhladavanie',\n",
    "    ]\n",
    "    buy = [\n",
    "        'dakujeme',\n",
    "    ]\n",
    "    cart = [\n",
    "        'kosik',\n",
    "        'objednavka',\n",
    "    ]\n",
    "    pagination = 'strana-'\n",
    "    filtering = '?'\n",
    "    \n",
    "    # nonproduct page / empty url\n",
    "    df_pageviews.loc[(df_pageviews['url1'].isin(non_product_pages)) | (df_pageviews['url1'].isnull()), 'pageview_non_product'] = True\n",
    "\n",
    "    df_pageviews['pageview_search'] = df_pageviews['url1'].isin(search) # search page\n",
    "    df_pageviews['pageview_buy'] = df_pageviews['url2'].isin(buy) # purchase page\n",
    "\n",
    "    # cart page but not purchase page\n",
    "    df_pageviews.loc[(df_pageviews['url1'].isin(cart)) & (df_pageviews['pageview_buy'] == False), 'pageview_cart'] = True # cart\n",
    "    \n",
    "    # transformation NaN to 0 and float to int\n",
    "    numeric_values = [\n",
    "        'pageview_non_product',\n",
    "        'pageview_search',\n",
    "        'pageview_buy',\n",
    "        'pageview_cart'\n",
    "    ]\n",
    "    for column in numeric_values:\n",
    "        df_pageviews[column] = df_pageviews[column].fillna(0)\n",
    "        df_pageviews[column] = df_pageviews[column].astype(int)\n",
    "\n",
    "    # check if product page and empty url2 => category page\n",
    "    df_pageviews.loc[\n",
    "        (df_pageviews['pageview_non_product'] == False) & \n",
    "        (df_pageviews['pageview_cart'] == False) & \n",
    "        (df_pageviews['url2'].isnull()) & \n",
    "        (df_pageviews['url1'].notna()), 'pageview_category'] = True\n",
    "\n",
    "    # check if product page and not empty url2 => product page\n",
    "    df_pageviews.loc[\n",
    "            (df_pageviews['pageview_non_product'] == False) & \n",
    "            (df_pageviews['pageview_buy'] == False) & \n",
    "            (df_pageviews['pageview_cart'] == False) & \n",
    "            (df_pageviews['url2'].notna()) & \n",
    "            (df_pageviews['url1'].notna()), 'pageview_product'] = True\n",
    "\n",
    "    # if url2 starts 'strana-' or '?', it's not product page, but category page / filter\n",
    "    df_pageviews.loc[\n",
    "        (df_pageviews['pageview_product'] == True) & \n",
    "        (df_pageviews['pageview_search'] == False) & \n",
    "        (df_pageviews['url2'].str.startswith(pagination) | \n",
    "         df_pageviews['url2'].str.startswith(filtering)), 'pageview_filter'] = True\n",
    "\n",
    "    df_pageviews.loc[(df_pageviews['pageview_filter'] == True), 'pageview_category'] = True\n",
    "\n",
    "    # check if product page and not empty url2 => product page\n",
    "    df_pageviews.loc[\n",
    "        (df_pageviews['pageview_product'] == True) & \n",
    "        (df_pageviews['url2'].str.startswith(pagination) | \n",
    "         df_pageviews['url2'].str.startswith(filtering)), 'pageview_product'] = False\n",
    "\n",
    "    \n",
    "if (project == 'pp'):\n",
    "    category_pages = '16-kupit-peptidy|16-buy-peptides'\n",
    "    product_detail_pages = [\n",
    "        'kupit-peptidy',\n",
    "        'buy-peptides',\n",
    "    ]\n",
    "    search_pages = 'search|vyhladavanie'\n",
    "    buy_pages = 'potvrdenie-objednavky|order-confirmation'\n",
    "    cart_pages = 'objednavka|order'\n",
    "    filtering = '?'\n",
    "    \n",
    "    df_pageviews['pageview_product'] = df_pageviews['url2'].isin(product_detail_pages)\n",
    "    df_pageviews['pageview_category'] = df_pageviews['url2'].str.contains(category_pages, regex=True)\n",
    "    df_pageviews['pageview_search'] = df_pageviews['url2'].str.contains(search_pages, regex=True)\n",
    "    df_pageviews['pageview_buy'] = df_pageviews['url2'].str.contains(buy_pages, regex=True)\n",
    "    df_pageviews.loc[\n",
    "        (df_pageviews['pageview_product'] == False) & \n",
    "        (df_pageviews['pageview_category'] == False) & \n",
    "        (df_pageviews['pageview_search'] == False) & \n",
    "        (df_pageviews['pageview_buy'] == False) & \n",
    "        (df_pageviews['url2'].str.contains(cart_pages, regex=True)), 'pageview_cart'] = True\n",
    "    \n",
    "    # transformation NaN to 0 and float to int\n",
    "    numeric_values = [\n",
    "        'pageview_category',\n",
    "        'pageview_product',\n",
    "        'pageview_search',\n",
    "        'pageview_buy',\n",
    "        'pageview_cart'\n",
    "    ]\n",
    "\n",
    "    for column in numeric_values:\n",
    "        df_pageviews[column] = df_pageviews[column].fillna(0)\n",
    "        df_pageviews[column] = df_pageviews[column].astype(int)\n",
    "\n",
    "    df_pageviews.loc[\n",
    "        (df_pageviews['pageview_product'] == False) & \n",
    "        (df_pageviews['pageview_category'] == False) & \n",
    "        (df_pageviews['pageview_buy'] == False) &\n",
    "        (df_pageviews['pageview_cart'] == False) & \n",
    "        (df_pageviews['pageview_search'] == False), 'pageview_non_product'] = True \n",
    "    df_pageviews.loc[\n",
    "        (df_pageviews['pageview_category'] == True) & \n",
    "        (df_pageviews['url2'].str.contains(filtering, regex=False)), 'pageview_filter'] = True  \n",
    "\n",
    "    \n",
    "if (project == 'ba'):\n",
    "    category_page = 'kategoria' # url1, category is in url2, product is in url3\n",
    "    search_page = 'vyhladavanie' # url1\n",
    "    cart_page = 'nakupny-kosik' # url1\n",
    "    buy_page = '&objednane' # url2\n",
    "    filtering = '#' # url3\n",
    "    \n",
    "    df_pageviews.loc[\n",
    "        (df_pageviews['url1'].str.contains(category_page)) & \n",
    "        (df_pageviews['url3'].isnull()), 'pageview_category'] = True \n",
    "    df_pageviews.loc[\n",
    "        (df_pageviews['url1'].str.contains(category_page)) & \n",
    "        (df_pageviews['url3'].str.startswith(filtering)), 'pageview_category'] = True \n",
    "    df_pageviews.loc[\n",
    "        (df_pageviews['url1'].str.contains(category_page)) & \n",
    "        (df_pageviews['url3'].str.startswith(filtering)), 'pageview_filter'] = True \n",
    "    df_pageviews.loc[\n",
    "        (df_pageviews['url1'].str.contains(category_page)) & \n",
    "        (df_pageviews['url3'].notna()) & \n",
    "        (df_pageviews['pageview_filter'].isnull()), 'pageview_product'] = True\n",
    "    df_pageviews.loc[\n",
    "        (df_pageviews['url1'].str.contains(cart_page)) & \n",
    "        (df_pageviews['url2'].str.contains(buy_page, regex=False)), 'pageview_buy'] = True\n",
    "    df_pageviews.loc[\n",
    "        (df_pageviews['url1'].str.contains(cart_page)) & \n",
    "        (df_pageviews['pageview_buy'].isnull()), 'pageview_cart'] = True\n",
    "    df_pageviews['pageview_search'] = df_pageviews['url1'].str.contains(search_page)\n",
    "    \n",
    "    # transformation NaN to 0 and float to int\n",
    "    numeric_values = [\n",
    "        'pageview_category',\n",
    "        'pageview_product',\n",
    "        'pageview_search',\n",
    "        'pageview_buy',\n",
    "        'pageview_cart'\n",
    "    ]\n",
    "\n",
    "    for column in numeric_values:\n",
    "        df_pageviews[column] = df_pageviews[column].fillna(0)\n",
    "        df_pageviews[column] = df_pageviews[column].astype(int)\n",
    "\n",
    "    df_pageviews.loc[\n",
    "        (df_pageviews['pageview_product'] == False) & \n",
    "        (df_pageviews['pageview_category'] == False) & \n",
    "        (df_pageviews['pageview_buy'] == False) & \n",
    "        (df_pageviews['pageview_cart'] == False) & \n",
    "        (df_pageviews['pageview_search'] == False), 'pageview_non_product'] = True "
   ]
  },
  {
   "cell_type": "code",
   "execution_count": 8,
   "metadata": {},
   "outputs": [],
   "source": [
    "numeric_values = [\n",
    "    'pageview_non_product', 'pageview_category', 'pageview_product',\n",
    "    'pageview_filter', 'pageview_search', 'pageview_buy', 'pageview_cart'\n",
    "]\n",
    "\n",
    "for column in numeric_values:\n",
    "    df_pageviews[column] = df_pageviews[column].fillna(0)\n",
    "    df_pageviews[column] = df_pageviews[column].astype(int)"
   ]
  },
  {
   "cell_type": "code",
   "execution_count": 9,
   "metadata": {},
   "outputs": [],
   "source": [
    "# number of pageviews of each type\n",
    "# df_session['n_buy'] = number of records where df_pageviews['session_id'] == df_sessions['session_id'] and df_pageviews['pageview_buy'] == True\n",
    "\n",
    "def num_url_per_session(column):\n",
    "    group = df_pageviews.groupby('session_id')\n",
    "    \n",
    "    temp = pd.DataFrame()\n",
    "    temp = group['pageview_' + column].sum() # sum pageview_buy per session \n",
    "    temp = temp.to_frame()\n",
    "    temp.rename(columns={\"pageview_\" + column: \"n_\" + column}, inplace=True) \n",
    "\n",
    "    return pd.merge(df_sessions, temp, left_on='session_id', right_index=True, how='left')\n",
    "\n",
    "df_sessions = num_url_per_session('buy') \n",
    "# number of purchase in session should be 1, some are 3 - redirecting from payment gateway"
   ]
  },
  {
   "cell_type": "code",
   "execution_count": 10,
   "metadata": {},
   "outputs": [],
   "source": [
    "df_sessions.loc[df_sessions['n_buy'] > 0, 'buy'] = True\n",
    "df_sessions.loc[df_sessions['n_buy'] == 0, 'buy'] = False"
   ]
  },
  {
   "cell_type": "code",
   "execution_count": 11,
   "metadata": {},
   "outputs": [],
   "source": [
    "df_users = df_sessions.groupby(['user_id','session_id'])[['n_buy']].sum()"
   ]
  },
  {
   "cell_type": "code",
   "execution_count": 12,
   "metadata": {},
   "outputs": [],
   "source": [
    "df_users.loc[df_users['n_buy'] > 0, 'buy'] = 1\n",
    "df_users.loc[df_users['n_buy'] == 0, 'buy'] = 0"
   ]
  },
  {
   "cell_type": "code",
   "execution_count": 13,
   "metadata": {},
   "outputs": [
    {
     "data": {
      "text/html": [
       "<div>\n",
       "<style scoped>\n",
       "    .dataframe tbody tr th:only-of-type {\n",
       "        vertical-align: middle;\n",
       "    }\n",
       "\n",
       "    .dataframe tbody tr th {\n",
       "        vertical-align: top;\n",
       "    }\n",
       "\n",
       "    .dataframe thead th {\n",
       "        text-align: right;\n",
       "    }\n",
       "</style>\n",
       "<table border=\"1\" class=\"dataframe\">\n",
       "  <thead>\n",
       "    <tr style=\"text-align: right;\">\n",
       "      <th></th>\n",
       "      <th></th>\n",
       "      <th>n_buy</th>\n",
       "      <th>buy</th>\n",
       "    </tr>\n",
       "    <tr>\n",
       "      <th>user_id</th>\n",
       "      <th>session_id</th>\n",
       "      <th></th>\n",
       "      <th></th>\n",
       "    </tr>\n",
       "  </thead>\n",
       "  <tbody>\n",
       "    <tr>\n",
       "      <th>69ff1120-9f6d-418c-86ce-6f83e9345c1b</th>\n",
       "      <th>86471e30-737f-11ea-a6e2-1936daa6dab8</th>\n",
       "      <td>5</td>\n",
       "      <td>1.0</td>\n",
       "    </tr>\n",
       "    <tr>\n",
       "      <th>6b08069f-98ca-4a92-9e73-0db31d6b3069</th>\n",
       "      <th>1923e0d0-ba16-11ea-ad53-01ccbad19567</th>\n",
       "      <td>6</td>\n",
       "      <td>1.0</td>\n",
       "    </tr>\n",
       "    <tr>\n",
       "      <th>6a901d8b-aaf5-438f-b7d0-51739e4e4904</th>\n",
       "      <th>d64620d0-63fc-11ea-88ee-50da9b64772a</th>\n",
       "      <td>6</td>\n",
       "      <td>1.0</td>\n",
       "    </tr>\n",
       "    <tr>\n",
       "      <th>235f9eb1-d5af-4d79-931f-ca6bd60c5e33</th>\n",
       "      <th>26a06880-3b19-11eb-a350-0372136353fd</th>\n",
       "      <td>7</td>\n",
       "      <td>1.0</td>\n",
       "    </tr>\n",
       "    <tr>\n",
       "      <th>60ffb221-870b-4b75-886b-ff66c733cac9</th>\n",
       "      <th>f8e612a0-5b8f-11ea-bef4-61282fb7bea0</th>\n",
       "      <td>9</td>\n",
       "      <td>1.0</td>\n",
       "    </tr>\n",
       "  </tbody>\n",
       "</table>\n",
       "</div>"
      ],
      "text/plain": [
       "                                                                           n_buy  \\\n",
       "user_id                              session_id                                    \n",
       "69ff1120-9f6d-418c-86ce-6f83e9345c1b 86471e30-737f-11ea-a6e2-1936daa6dab8      5   \n",
       "6b08069f-98ca-4a92-9e73-0db31d6b3069 1923e0d0-ba16-11ea-ad53-01ccbad19567      6   \n",
       "6a901d8b-aaf5-438f-b7d0-51739e4e4904 d64620d0-63fc-11ea-88ee-50da9b64772a      6   \n",
       "235f9eb1-d5af-4d79-931f-ca6bd60c5e33 26a06880-3b19-11eb-a350-0372136353fd      7   \n",
       "60ffb221-870b-4b75-886b-ff66c733cac9 f8e612a0-5b8f-11ea-bef4-61282fb7bea0      9   \n",
       "\n",
       "                                                                           buy  \n",
       "user_id                              session_id                                 \n",
       "69ff1120-9f6d-418c-86ce-6f83e9345c1b 86471e30-737f-11ea-a6e2-1936daa6dab8  1.0  \n",
       "6b08069f-98ca-4a92-9e73-0db31d6b3069 1923e0d0-ba16-11ea-ad53-01ccbad19567  1.0  \n",
       "6a901d8b-aaf5-438f-b7d0-51739e4e4904 d64620d0-63fc-11ea-88ee-50da9b64772a  1.0  \n",
       "235f9eb1-d5af-4d79-931f-ca6bd60c5e33 26a06880-3b19-11eb-a350-0372136353fd  1.0  \n",
       "60ffb221-870b-4b75-886b-ff66c733cac9 f8e612a0-5b8f-11ea-bef4-61282fb7bea0  1.0  "
      ]
     },
     "execution_count": 13,
     "metadata": {},
     "output_type": "execute_result"
    }
   ],
   "source": [
    "df_users.sort_values('n_buy').tail(5)"
   ]
  },
  {
   "cell_type": "code",
   "execution_count": 14,
   "metadata": {},
   "outputs": [
    {
     "data": {
      "text/plain": [
       "3056"
      ]
     },
     "execution_count": 14,
     "metadata": {},
     "output_type": "execute_result"
    }
   ],
   "source": [
    "len(df_users.groupby(level='user_id')) # number of unique users"
   ]
  },
  {
   "cell_type": "code",
   "execution_count": 15,
   "metadata": {},
   "outputs": [
    {
     "data": {
      "text/plain": [
       "3044"
      ]
     },
     "execution_count": 15,
     "metadata": {},
     "output_type": "execute_result"
    }
   ],
   "source": [
    "len(df_users[df_users['buy'] > 0].groupby(level='user_id'))"
   ]
  },
  {
   "cell_type": "code",
   "execution_count": 16,
   "metadata": {},
   "outputs": [
    {
     "data": {
      "text/plain": [
       "656"
      ]
     },
     "execution_count": 16,
     "metadata": {},
     "output_type": "execute_result"
    }
   ],
   "source": [
    "len(df_users[df_users['buy'] == 0].groupby(level='user_id'))"
   ]
  },
  {
   "cell_type": "code",
   "execution_count": 17,
   "metadata": {},
   "outputs": [],
   "source": [
    "users = df_users.reset_index()"
   ]
  },
  {
   "cell_type": "code",
   "execution_count": 18,
   "metadata": {},
   "outputs": [],
   "source": [
    "purchase = users[users['buy'] > 0]['user_id'].unique()\n",
    "no_purchase = users[users['buy'] == 0]['user_id'].unique()"
   ]
  },
  {
   "cell_type": "code",
   "execution_count": 19,
   "metadata": {},
   "outputs": [],
   "source": [
    "# set(no_purchase.flat) - set(purchase.flat)"
   ]
  },
  {
   "cell_type": "code",
   "execution_count": 20,
   "metadata": {},
   "outputs": [],
   "source": [
    "# set(no_purchase).intersection(set(purchase)) "
   ]
  },
  {
   "cell_type": "code",
   "execution_count": 21,
   "metadata": {},
   "outputs": [],
   "source": [
    "buy_count = users.set_index('user_id').buy.eq(1).sum(level=0).astype(int).reset_index()"
   ]
  },
  {
   "cell_type": "code",
   "execution_count": 22,
   "metadata": {},
   "outputs": [
    {
     "data": {
      "text/html": [
       "<div>\n",
       "<style scoped>\n",
       "    .dataframe tbody tr th:only-of-type {\n",
       "        vertical-align: middle;\n",
       "    }\n",
       "\n",
       "    .dataframe tbody tr th {\n",
       "        vertical-align: top;\n",
       "    }\n",
       "\n",
       "    .dataframe thead th {\n",
       "        text-align: right;\n",
       "    }\n",
       "</style>\n",
       "<table border=\"1\" class=\"dataframe\">\n",
       "  <thead>\n",
       "    <tr style=\"text-align: right;\">\n",
       "      <th></th>\n",
       "      <th>user_id</th>\n",
       "      <th>buy</th>\n",
       "    </tr>\n",
       "  </thead>\n",
       "  <tbody>\n",
       "    <tr>\n",
       "      <th>13</th>\n",
       "      <td>00e97892-aa84-4bd8-8903-29bd06a63036</td>\n",
       "      <td>2</td>\n",
       "    </tr>\n",
       "    <tr>\n",
       "      <th>26</th>\n",
       "      <td>01ba2b56-4ff8-4e08-9ad6-1b45020ce320</td>\n",
       "      <td>2</td>\n",
       "    </tr>\n",
       "    <tr>\n",
       "      <th>59</th>\n",
       "      <td>05499451-9cf0-4737-bada-ef97fd58ac71</td>\n",
       "      <td>2</td>\n",
       "    </tr>\n",
       "    <tr>\n",
       "      <th>66</th>\n",
       "      <td>05c83e42-41ed-43e3-be21-da1dbdc65118</td>\n",
       "      <td>2</td>\n",
       "    </tr>\n",
       "    <tr>\n",
       "      <th>91</th>\n",
       "      <td>07a5d388-102b-4b24-9eca-0aca95d5228f</td>\n",
       "      <td>2</td>\n",
       "    </tr>\n",
       "    <tr>\n",
       "      <th>...</th>\n",
       "      <td>...</td>\n",
       "      <td>...</td>\n",
       "    </tr>\n",
       "    <tr>\n",
       "      <th>3007</th>\n",
       "      <td>fb54a7a2-c014-4bff-b7b7-5a6c0ef76dc4</td>\n",
       "      <td>11</td>\n",
       "    </tr>\n",
       "    <tr>\n",
       "      <th>3022</th>\n",
       "      <td>fcafb453-4945-4c8e-a425-2b9007d065f7</td>\n",
       "      <td>4</td>\n",
       "    </tr>\n",
       "    <tr>\n",
       "      <th>3025</th>\n",
       "      <td>fd136686-5434-41ed-bee7-d55f84b0d129</td>\n",
       "      <td>3</td>\n",
       "    </tr>\n",
       "    <tr>\n",
       "      <th>3030</th>\n",
       "      <td>fd510011-6be0-44e5-9abd-17f62a012ad6</td>\n",
       "      <td>3</td>\n",
       "    </tr>\n",
       "    <tr>\n",
       "      <th>3042</th>\n",
       "      <td>fe90e27b-e78c-43d3-9e89-397fa71f6655</td>\n",
       "      <td>2</td>\n",
       "    </tr>\n",
       "  </tbody>\n",
       "</table>\n",
       "<p>273 rows × 2 columns</p>\n",
       "</div>"
      ],
      "text/plain": [
       "                                   user_id  buy\n",
       "13    00e97892-aa84-4bd8-8903-29bd06a63036    2\n",
       "26    01ba2b56-4ff8-4e08-9ad6-1b45020ce320    2\n",
       "59    05499451-9cf0-4737-bada-ef97fd58ac71    2\n",
       "66    05c83e42-41ed-43e3-be21-da1dbdc65118    2\n",
       "91    07a5d388-102b-4b24-9eca-0aca95d5228f    2\n",
       "...                                    ...  ...\n",
       "3007  fb54a7a2-c014-4bff-b7b7-5a6c0ef76dc4   11\n",
       "3022  fcafb453-4945-4c8e-a425-2b9007d065f7    4\n",
       "3025  fd136686-5434-41ed-bee7-d55f84b0d129    3\n",
       "3030  fd510011-6be0-44e5-9abd-17f62a012ad6    3\n",
       "3042  fe90e27b-e78c-43d3-9e89-397fa71f6655    2\n",
       "\n",
       "[273 rows x 2 columns]"
      ]
     },
     "execution_count": 22,
     "metadata": {},
     "output_type": "execute_result"
    }
   ],
   "source": [
    "buy_count[buy_count['buy'] > 1]"
   ]
  },
  {
   "cell_type": "code",
   "execution_count": 23,
   "metadata": {},
   "outputs": [],
   "source": [
    "df_sessions = num_url_per_session('product') # n_product - number of products visited per session\n",
    "df_sessions = num_url_per_session('non_product') # n_non_product\n",
    "df_sessions = num_url_per_session('category') # n_category \n",
    "df_sessions = num_url_per_session('filter') # n_filter\n",
    "df_sessions = num_url_per_session('search') # n_search\n",
    "df_sessions = num_url_per_session('cart') # n_cart"
   ]
  },
  {
   "cell_type": "code",
   "execution_count": 24,
   "metadata": {
    "scrolled": true
   },
   "outputs": [],
   "source": [
    "def num_per_session(dataframe, table):\n",
    "    temp = pd.DataFrame(dataframe[\"session_id\"].value_counts()) \n",
    "    temp.rename(columns={\"session_id\": \"n_\" + table}, inplace=True)\n",
    "    \n",
    "    return pd.merge(df_sessions, temp, left_on='session_id', right_index=True, how='left')"
   ]
  },
  {
   "cell_type": "code",
   "execution_count": 25,
   "metadata": {},
   "outputs": [],
   "source": [
    "df_sessions = num_per_session(df_pageviews, 'pageviews')\n",
    "df_sessions = num_per_session(df_input, 'input')\n",
    "df_sessions = num_per_session(df_load, 'load')\n",
    "df_sessions = num_per_session(df_click, 'click')\n",
    "df_sessions = num_per_session(df_mouse_click, 'mouse_click')\n",
    "df_sessions = num_per_session(df_rage_click, 'rage_click')\n",
    "df_sessions = num_per_session(df_mouse_move, 'mouse_move')\n",
    "df_sessions = num_per_session(df_scroll_move, 'scroll_move')\n",
    "df_sessions = num_per_session(df_wild_mouse, 'wild_mouse')\n",
    "df_sessions = num_per_session(df_scrandom, 'scrandom')"
   ]
  },
  {
   "cell_type": "code",
   "execution_count": 26,
   "metadata": {},
   "outputs": [],
   "source": [
    "numeric_values = [\n",
    "    'n_pageviews', 'n_input', 'n_load', 'n_click', 'n_mouse_click', 'n_rage_click',\n",
    "    'n_mouse_move', 'n_scroll_move', 'n_wild_mouse', 'n_scrandom'\n",
    "]\n",
    "\n",
    "for column in numeric_values:\n",
    "    df_sessions[column] = df_sessions[column].fillna(0)\n",
    "    df_sessions[column] = df_sessions[column].astype(int)"
   ]
  },
  {
   "cell_type": "code",
   "execution_count": 27,
   "metadata": {},
   "outputs": [],
   "source": [
    "# number of events per session \n",
    "df_sessions['n_events'] = df_sessions['n_input'] + df_sessions['n_load'] + \\\n",
    "            df_sessions['n_click'] + df_sessions['n_mouse_click'] + df_sessions['n_rage_click'] + \\\n",
    "            df_sessions['n_mouse_move'] + df_sessions['n_scroll_move'] + \\\n",
    "            df_sessions['n_wild_mouse'] + df_sessions['n_scrandom']"
   ]
  },
  {
   "cell_type": "code",
   "execution_count": null,
   "metadata": {},
   "outputs": [],
   "source": []
  },
  {
   "cell_type": "code",
   "execution_count": 28,
   "metadata": {},
   "outputs": [],
   "source": [
    "# top_product (str) - the most visited product per session\n",
    "# n_top_product (int) - number of visits of the most visited product per session \n",
    "# n_unique_product (int) - number of unique products per session"
   ]
  },
  {
   "cell_type": "code",
   "execution_count": 29,
   "metadata": {},
   "outputs": [],
   "source": [
    "if (project == 'dp' or project == 'he'):\n",
    "    url_name = 'url2'\n",
    "elif (project == 'pp' or project == 'ba'):\n",
    "    url_name = 'url3'"
   ]
  },
  {
   "cell_type": "code",
   "execution_count": 30,
   "metadata": {},
   "outputs": [],
   "source": [
    "df_pageviews_product = df_pageviews[df_pageviews['pageview_product'] == True][['session_id', url_name]]"
   ]
  },
  {
   "cell_type": "code",
   "execution_count": 31,
   "metadata": {},
   "outputs": [],
   "source": [
    "# select mode\n",
    "if (project == 'dp' or project == 'he' or project == 'ba'):\n",
    "    sessions_top_product = df_pageviews_product.groupby(['session_id'])[url_name].apply(lambda x: pd.Series.mode(x)[0]).to_frame()\n",
    "elif (project == 'pp'):\n",
    "    sessions_top_product = df_pageviews_product.groupby(['session_id'])[url_name].agg(pd.Series.mode).to_frame()"
   ]
  },
  {
   "cell_type": "code",
   "execution_count": 32,
   "metadata": {},
   "outputs": [],
   "source": [
    "sessions_top_product.rename(columns={url_name: 'top_product'}, inplace=True)\n",
    "\n",
    "df_sessions = pd.merge(\n",
    "    df_sessions,\n",
    "    sessions_top_product,\n",
    "    on='session_id',\n",
    "    how='left'\n",
    ")"
   ]
  },
  {
   "cell_type": "code",
   "execution_count": 33,
   "metadata": {},
   "outputs": [],
   "source": [
    "sessions_n_top_product = df_pageviews_product.groupby(['session_id', url_name])[url_name].count().to_frame()\n",
    "sessions_n_top_product.rename(columns={url_name: 'n_top_product'}, inplace=True)\n",
    "sessions_n_top_product = sessions_n_top_product.sort_values(by=['n_top_product'], ascending=False)\n",
    "\n",
    "df_sessions = pd.merge(\n",
    "    df_sessions,\n",
    "    sessions_n_top_product,\n",
    "    on='session_id',\n",
    "    how='left'\n",
    ")\n",
    "\n",
    "df_sessions.drop_duplicates('session_id', keep='first', inplace=True)\n",
    "df_sessions = df_sessions.reset_index(drop=True)"
   ]
  },
  {
   "cell_type": "code",
   "execution_count": 34,
   "metadata": {},
   "outputs": [],
   "source": [
    "sessions_n_unique_product = df_pageviews_product.groupby(['session_id'])[url_name].nunique().to_frame()\n",
    "sessions_n_unique_product.rename(columns={url_name: 'n_unique_product'}, inplace=True)\n",
    "\n",
    "df_sessions = pd.merge(\n",
    "    df_sessions,\n",
    "    sessions_n_unique_product,\n",
    "    on='session_id',\n",
    "    how='left'\n",
    ")"
   ]
  },
  {
   "cell_type": "code",
   "execution_count": 35,
   "metadata": {},
   "outputs": [],
   "source": [
    "# top_category (str) - the most visited category per session\n",
    "# n_top_category (int) - number of visits of the most visited category per session \n",
    "# n_unique_category (int) - number of unique categories per session"
   ]
  },
  {
   "cell_type": "code",
   "execution_count": 36,
   "metadata": {},
   "outputs": [],
   "source": [
    "if (project == 'dp' or project == 'he'):\n",
    "    url_name = 'url1'\n",
    "elif (project == 'pp' or project == 'ba'): \n",
    "    url_name = 'url2'"
   ]
  },
  {
   "cell_type": "code",
   "execution_count": 37,
   "metadata": {},
   "outputs": [],
   "source": [
    "df_pageviews_category = df_pageviews[df_pageviews['pageview_category'] == True][['session_id', url_name]]"
   ]
  },
  {
   "cell_type": "code",
   "execution_count": 38,
   "metadata": {},
   "outputs": [],
   "source": [
    "sessions_top_category = df_pageviews_category.groupby(['session_id'])[url_name].apply(lambda x: pd.Series.mode(x)[0]).to_frame()\n",
    "sessions_top_category.rename(columns={url_name: 'top_category'}, inplace=True)\n",
    "\n",
    "df_sessions = pd.merge(\n",
    "    df_sessions,\n",
    "    sessions_top_category,\n",
    "    on='session_id',\n",
    "    how='left'\n",
    ")"
   ]
  },
  {
   "cell_type": "code",
   "execution_count": 39,
   "metadata": {},
   "outputs": [],
   "source": [
    "sessions_n_top_category = df_pageviews_category.groupby(['session_id', url_name])[url_name].count().to_frame()\n",
    "sessions_n_top_category.rename(columns={url_name: 'n_top_category'}, inplace=True)\n",
    "sessions_n_top_category = sessions_n_top_category.sort_values(by=['n_top_category'], ascending=False)\n",
    "\n",
    "df_sessions = pd.merge(\n",
    "    df_sessions,\n",
    "    sessions_n_top_category,\n",
    "    on='session_id',\n",
    "    how='left'\n",
    ")\n",
    "\n",
    "df_sessions.drop_duplicates('session_id', keep='first', inplace=True)\n",
    "df_sessions = df_sessions.reset_index(drop=True)"
   ]
  },
  {
   "cell_type": "code",
   "execution_count": 40,
   "metadata": {},
   "outputs": [],
   "source": [
    "sessions_n_unique_category = df_pageviews_category.groupby(['session_id'])[url_name].nunique().to_frame()\n",
    "sessions_n_unique_category.rename(columns={url_name: 'n_unique_category'}, inplace=True)\n",
    "\n",
    "df_sessions = pd.merge(\n",
    "    df_sessions,\n",
    "    sessions_n_unique_category,\n",
    "    on='session_id',\n",
    "    how='left'\n",
    ")"
   ]
  },
  {
   "cell_type": "code",
   "execution_count": 41,
   "metadata": {},
   "outputs": [],
   "source": [
    "df_sessions['referrer1'] = df_sessions['referrer'].str.extract(r'(\\b(?<=:\\/\\/)\\b\\S+)') # referrer1 - everything behind ://\n",
    "df_sessions['referrer2'] = df_sessions['referrer1'].str.extract(r'(\\b(?<=\\/)\\b\\S+[^\\/])') # 2. part from referrer1 without / at the end\n",
    "df_sessions['referrer3'] = df_sessions['referrer2'].str.extract(r'(\\b(?<=\\/)\\b\\S+[^\\/])') # 2. part from referrer2 without / at the end\n",
    "\n",
    "df_sessions['referrer1'] = df_sessions['referrer1'].str.extract(r'([^\\/]*)') # 1. part from referrer1\n",
    "df_sessions['referrer2'] = df_sessions['referrer2'].str.extract(r'([^\\/]*)') # 1. part from referrer2"
   ]
  },
  {
   "cell_type": "code",
   "execution_count": 42,
   "metadata": {},
   "outputs": [],
   "source": [
    "df_pageviews['referrer1'] = df_pageviews['referrer'].str.extract(r'(\\b(?<=:\\/\\/)\\b\\S+)') # referrer1 - everything behind ://\n",
    "df_pageviews['referrer2'] = df_pageviews['referrer1'].str.extract(r'(\\b(?<=\\/)\\b\\S+[^\\/])') # 2. part from referrer1 without / at the end\n",
    "df_pageviews['referrer3'] = df_pageviews['referrer2'].str.extract(r'(\\b(?<=\\/)\\b\\S+[^\\/])') # 2. part from referrer2 without / at the end\n",
    "\n",
    "df_pageviews['referrer1'] = df_pageviews['referrer1'].str.extract(r'([^\\/]*)') # 1. part from referrer11\n",
    "df_pageviews['referrer2'] = df_pageviews['referrer2'].str.extract(r'([^\\/]*)') # 1. part from referrer2"
   ]
  },
  {
   "cell_type": "code",
   "execution_count": 43,
   "metadata": {},
   "outputs": [],
   "source": [
    "# time when session starts\n",
    "df_sessions['hour'] = pd.to_datetime(df_sessions['started_at'], unit='ms').dt.hour\n",
    "df_sessions['day_name'] = pd.to_datetime(df_sessions['day']).dt.day_name()"
   ]
  },
  {
   "cell_type": "code",
   "execution_count": 44,
   "metadata": {},
   "outputs": [
    {
     "name": "stderr",
     "output_type": "stream",
     "text": [
      "C:\\ProgramData\\Anaconda3\\lib\\site-packages\\pandas\\core\\indexing.py:845: SettingWithCopyWarning: \n",
      "A value is trying to be set on a copy of a slice from a DataFrame.\n",
      "Try using .loc[row_indexer,col_indexer] = value instead\n",
      "\n",
      "See the caveats in the documentation: https://pandas.pydata.org/pandas-docs/stable/user_guide/indexing.html#returning-a-view-versus-a-copy\n",
      "  self.obj[key] = _infer_fill_value(value)\n",
      "C:\\ProgramData\\Anaconda3\\lib\\site-packages\\pandas\\core\\indexing.py:966: SettingWithCopyWarning: \n",
      "A value is trying to be set on a copy of a slice from a DataFrame.\n",
      "Try using .loc[row_indexer,col_indexer] = value instead\n",
      "\n",
      "See the caveats in the documentation: https://pandas.pydata.org/pandas-docs/stable/user_guide/indexing.html#returning-a-view-versus-a-copy\n",
      "  self.obj[item] = s\n"
     ]
    }
   ],
   "source": [
    "df_pageviews_buy = df_pageviews[df_pageviews['pageview_buy'] == True]\n",
    "\n",
    "df_pageviews_buy.loc[:,'buy_hour'] = pd.to_datetime(df_pageviews_buy['started_at'], unit='ms').dt.hour\n",
    "df_pageviews_buy.loc[:,'buy_day'] = pd.to_datetime(df_pageviews_buy['started_at'], unit='ms').dt.day_name()\n",
    "\n",
    "df_pageviews_buy = df_pageviews_buy.sort_values(by=['started_at'])\n",
    "\n",
    "df_sessions = pd.merge(\n",
    "    df_sessions,\n",
    "    df_pageviews_buy[['session_id', 'buy_hour', 'buy_day']],\n",
    "    on='session_id',\n",
    "    how='left'\n",
    ")\n",
    "\n",
    "df_sessions.drop_duplicates('session_id', keep='first', inplace=True)"
   ]
  },
  {
   "cell_type": "code",
   "execution_count": 45,
   "metadata": {},
   "outputs": [],
   "source": [
    "# 0 - other city,  1 - Bratislava,  2 - Košice, 3 - other regional city\n",
    "city_BA = 'Bratislava'\n",
    "city_KE = 'Košice'\n",
    "city_regional = ['Trnava', 'Žilina', 'Nitra', 'Prešov', 'Banská Bystrica', 'Trenčín']\n",
    "\n",
    "df_sessions.loc[df_sessions['city'] == city_BA, 'city_type'] = 1 \n",
    "df_sessions.loc[df_sessions['city'] == city_KE, 'city_type'] = 2 \n",
    "df_sessions.loc[df_sessions['city'].isin(city_regional), 'city_type'] = 3 "
   ]
  },
  {
   "cell_type": "code",
   "execution_count": 46,
   "metadata": {},
   "outputs": [],
   "source": [
    "# pageview load speed\n",
    "df_load.rename(columns={'at': 'load_time'}, inplace=True)\n",
    "\n",
    "df_pageviews = pd.merge(\n",
    "    df_pageviews,\n",
    "    df_load[['pageview_id', 'load_time']],\n",
    "    on='pageview_id',\n",
    "    how='left'\n",
    ")\n",
    "\n",
    "df_pageviews.drop_duplicates('pageview_id', keep='first', inplace=True)\n",
    "df_pageviews = df_pageviews.reset_index(drop=True)\n",
    "df_load.rename(columns={'load_time': 'at'}, inplace=True)"
   ]
  },
  {
   "cell_type": "code",
   "execution_count": 47,
   "metadata": {},
   "outputs": [],
   "source": [
    "# !. pageview load speed per session\n",
    "df_pageviews = df_pageviews.sort_values(by=['started_at'])\n",
    "\n",
    "df_sessions = pd.merge(\n",
    "    df_sessions,\n",
    "    df_pageviews[['session_id', 'load_time']],\n",
    "    on='session_id',\n",
    "    how='left'\n",
    ")\n",
    "\n",
    "df_sessions.drop_duplicates('session_id', keep='first', inplace=True)\n",
    "df_sessions = df_sessions.reset_index(drop=True)"
   ]
  },
  {
   "cell_type": "code",
   "execution_count": 48,
   "metadata": {},
   "outputs": [],
   "source": [
    "# session duration\n",
    "session_duration = df_pageviews.groupby('session_id')[['duration']].sum()\n",
    "\n",
    "df_sessions = pd.merge(\n",
    "    df_sessions,\n",
    "    session_duration,\n",
    "    on='session_id',\n",
    "    how='left'\n",
    ")"
   ]
  },
  {
   "cell_type": "code",
   "execution_count": 49,
   "metadata": {},
   "outputs": [],
   "source": [
    "numeric_values = [\n",
    "    'n_product', 'n_non_product',\n",
    "    'n_category', 'n_search', 'n_buy',\n",
    "    'load_time',\n",
    "    'n_top_product', 'n_top_category',\n",
    "    'n_unique_product', 'n_unique_category',\n",
    "    'city_type',\n",
    "]\n",
    "\n",
    "for column in numeric_values:\n",
    "    df_sessions[column] = df_sessions[column].fillna(0)\n",
    "    df_sessions[column] = df_sessions[column].astype(int)\n",
    "    \n",
    "string_values = [\n",
    "    'continent', 'region', 'country', 'city',\n",
    "    'browser.name', 'device.type', 'os.name',\n",
    "    'referrer1', 'referrer2', 'referrer3',\n",
    "    'top_product', 'top_category',\n",
    "    'buy_hour', 'buy_day', 'day_name'\n",
    "]\n",
    "\n",
    "for column in string_values:\n",
    "    df_sessions[column].fillna('-', inplace = True)"
   ]
  },
  {
   "cell_type": "code",
   "execution_count": null,
   "metadata": {},
   "outputs": [],
   "source": []
  },
  {
   "cell_type": "code",
   "execution_count": 50,
   "metadata": {},
   "outputs": [],
   "source": [
    "# repair session (Herbatica)"
   ]
  },
  {
   "cell_type": "code",
   "execution_count": 51,
   "metadata": {},
   "outputs": [
    {
     "data": {
      "text/plain": [
       "array(['particlepeptides.com', nan], dtype=object)"
      ]
     },
     "execution_count": 51,
     "metadata": {},
     "output_type": "execute_result"
    }
   ],
   "source": [
    "# pageviews_buy, where referrer1 = 'gate.gopay.cz', 'gopay.cz' & n_pageviews <= 2 - delete\n",
    "df_pageviews_buy['referrer1'].unique() # 'gate.gopay.cz', 'gopay.cz' is redirection from payment"
   ]
  },
  {
   "cell_type": "code",
   "execution_count": 52,
   "metadata": {},
   "outputs": [],
   "source": [
    "# df_pageviews_buy['referrer3'].unique() # krok-2 => correct redirection to purchase completion page"
   ]
  },
  {
   "cell_type": "code",
   "execution_count": 53,
   "metadata": {},
   "outputs": [
    {
     "data": {
      "text/plain": [
       "array([nan], dtype=object)"
      ]
     },
     "execution_count": 53,
     "metadata": {},
     "output_type": "execute_result"
    }
   ],
   "source": [
    "df_pageviews_buy['url3'].unique() # url3 should be NaN"
   ]
  },
  {
   "cell_type": "code",
   "execution_count": 54,
   "metadata": {},
   "outputs": [],
   "source": [
    "# group by number of pageview_buy per session + list of purchase session with 1 pageview_buy\n",
    "n_pv_buy = df_pageviews_buy.groupby('session_id')['pageview_buy'].sum().reset_index()\n",
    "sessions_1_pv_buy = n_pv_buy[n_pv_buy['pageview_buy'] == 1]['session_id'].unique()"
   ]
  },
  {
   "cell_type": "code",
   "execution_count": 55,
   "metadata": {},
   "outputs": [],
   "source": [
    "# list of pageview_buy where referrer = gopay and number of pageview_buy in session = 1 \n",
    "pv_buy_1 = df_sessions[(df_sessions['session_id'].isin(sessions_1_pv_buy) & (df_sessions['referrer1'].isin(['gate.gopay.cz', 'gopay.cz'])))]['session_id'].unique()"
   ]
  },
  {
   "cell_type": "code",
   "execution_count": 56,
   "metadata": {},
   "outputs": [
    {
     "data": {
      "text/plain": [
       "0"
      ]
     },
     "execution_count": 56,
     "metadata": {},
     "output_type": "execute_result"
    }
   ],
   "source": [
    "sessions_fake_buy = df_sessions[(df_sessions['session_id'].isin(pv_buy_1)) & (df_sessions['n_pageviews'] < 3)]['session_id'].unique()\n",
    "len(sessions_fake_buy)"
   ]
  },
  {
   "cell_type": "code",
   "execution_count": 57,
   "metadata": {},
   "outputs": [],
   "source": [
    "# remove sessions with fake purchase\n",
    "df_sessions = df_sessions[~df_sessions['session_id'].isin(sessions_fake_buy)]"
   ]
  },
  {
   "cell_type": "code",
   "execution_count": 58,
   "metadata": {},
   "outputs": [],
   "source": [
    "# sessions, where referrer = gopay and more than 2 pageviews\n",
    "sessions = df_sessions[df_sessions['session_id'].isin(pv_buy_1)]['session_id'].unique()"
   ]
  },
  {
   "cell_type": "code",
   "execution_count": 59,
   "metadata": {},
   "outputs": [],
   "source": [
    "for s in sessions:\n",
    "    df_pageviews = df_pageviews[~((df_pageviews['session_id'] == s) & (df_pageviews['referrer1'].isin(['gate.gopay.cz', 'gopay.cz'])))]\n",
    "    df_sessions.loc[df_sessions['session_id'] == s, 'n_buy'] = 0\n",
    "    df_sessions.loc[df_sessions['session_id'] == s, 'buy'] = False\n",
    "    df_sessions.loc[df_sessions['session_id'] == s, 'buy_hour'] = '-'\n",
    "    df_sessions.loc[df_sessions['session_id'] == s, 'buy_day'] = '-'    "
   ]
  },
  {
   "cell_type": "code",
   "execution_count": null,
   "metadata": {
    "scrolled": false
   },
   "outputs": [],
   "source": []
  },
  {
   "cell_type": "markdown",
   "metadata": {},
   "source": [
    "### DF_USERS"
   ]
  },
  {
   "cell_type": "code",
   "execution_count": 60,
   "metadata": {},
   "outputs": [],
   "source": [
    "# create df_users\n",
    "df_users = df_sessions.groupby(['user_id','session_id'])[['n_buy']].sum()"
   ]
  },
  {
   "cell_type": "code",
   "execution_count": 61,
   "metadata": {},
   "outputs": [],
   "source": [
    "df_users.loc[df_users['n_buy'] > 0, 'buy'] = 1\n",
    "df_users.loc[df_users['n_buy'] == 0, 'buy'] = 0"
   ]
  },
  {
   "cell_type": "code",
   "execution_count": 62,
   "metadata": {},
   "outputs": [],
   "source": [
    "# sum of values per sessions\n",
    "temp = df_sessions.groupby(['user_id','session_id'])[\n",
    "    ['n_pageviews', 'n_input', 'n_load', 'n_click', 'n_mouse_click', 'n_rage_click',\n",
    "     'n_mouse_move','n_scroll_move','n_wild_mouse','n_scrandom',\n",
    "     'n_events', 'n_product', 'n_non_product', 'n_category', 'n_filter', 'n_search', 'n_cart', \n",
    "     'effective_duration', 'duration']].sum()"
   ]
  },
  {
   "cell_type": "code",
   "execution_count": 63,
   "metadata": {},
   "outputs": [],
   "source": [
    "df_users = pd.merge(\n",
    "    df_users, \n",
    "    temp, \n",
    "    left_on=['user_id','session_id'],\n",
    "    right_index=True, \n",
    "    how='left'\n",
    ")"
   ]
  },
  {
   "cell_type": "code",
   "execution_count": 64,
   "metadata": {},
   "outputs": [],
   "source": [
    "# number of sessions per user\n",
    "temp = pd.DataFrame(df_sessions['user_id'].value_counts()) \n",
    "temp.rename(columns={'user_id': 'n_sessions'}, inplace=True) \n",
    "\n",
    "df_users = pd.merge(\n",
    "    df_users, \n",
    "    temp, \n",
    "    left_on='user_id', \n",
    "    right_index=True, \n",
    "    how='left'\n",
    ")"
   ]
  },
  {
   "cell_type": "code",
   "execution_count": 65,
   "metadata": {},
   "outputs": [],
   "source": [
    "df_sessions = df_sessions.sort_values(by=['started_at'])\n",
    "\n",
    "df_users = pd.merge(\n",
    "    df_users,\n",
    "    df_sessions[['user_id', 'session_id','country', 'city', 'continent', 'started_at', 'region', 'day', 'device.type', 'browser.name', 'os.name', 'referrer1', 'referrer2', 'referrer3', 'hour', 'day_name', 'city_type', 'load_time']],\n",
    "    on=['user_id','session_id'],\n",
    "    how='left'\n",
    ")\n",
    "\n",
    "df_users.drop_duplicates('session_id', keep='first', inplace=True)"
   ]
  },
  {
   "cell_type": "code",
   "execution_count": 66,
   "metadata": {},
   "outputs": [
    {
     "data": {
      "text/plain": [
       "3056"
      ]
     },
     "execution_count": 66,
     "metadata": {},
     "output_type": "execute_result"
    }
   ],
   "source": [
    "len(df_users['user_id'].unique())"
   ]
  },
  {
   "cell_type": "code",
   "execution_count": 67,
   "metadata": {},
   "outputs": [],
   "source": [
    "# time and day 1. pageview with completed purchase\n",
    "df_pageviews_buy = df_pageviews[df_pageviews['pageview_buy'] == True]\n",
    "\n",
    "df_pageviews_buy.loc[:,'buy_hour'] = pd.to_datetime(df_pageviews_buy['started_at'], unit='ms').dt.hour # transform timestamp to date time and select hour\n",
    "df_pageviews_buy.loc[:,'buy_day'] = pd.to_datetime(df_pageviews_buy['started_at'], unit='ms').dt.day_name() # transform timestamp to date time and select day\n",
    "\n",
    "df_pageviews_buy = df_pageviews_buy.sort_values(by=['started_at'])"
   ]
  },
  {
   "cell_type": "code",
   "execution_count": 68,
   "metadata": {},
   "outputs": [],
   "source": [
    "df_users = pd.merge(\n",
    "    df_users,\n",
    "    df_pageviews_buy[['user_id', 'session_id','buy_hour', 'buy_day']],\n",
    "    on=['user_id','session_id'],\n",
    "    how='left'\n",
    ")"
   ]
  },
  {
   "cell_type": "code",
   "execution_count": 69,
   "metadata": {},
   "outputs": [],
   "source": [
    "df_users.drop_duplicates('session_id', keep='first', inplace=True)"
   ]
  },
  {
   "cell_type": "code",
   "execution_count": 70,
   "metadata": {},
   "outputs": [],
   "source": [
    "# remove users where n_events = 0 and pageviews < 2\n",
    "df_users = df_users[df_users['n_events'] != 0]\n",
    "df_users = df_users[df_users['n_pageviews'] > 1]"
   ]
  },
  {
   "cell_type": "code",
   "execution_count": 71,
   "metadata": {},
   "outputs": [],
   "source": [
    "# number of purchase sessions for each user\n",
    "buy_count = df_users.set_index('user_id').buy.eq(1).sum(level=0).astype(int).reset_index()\n",
    "buy_count = buy_count.rename(columns={'buy': 'buy_count'})"
   ]
  },
  {
   "cell_type": "code",
   "execution_count": 72,
   "metadata": {},
   "outputs": [],
   "source": [
    "df_users = pd.merge(\n",
    "    df_users,\n",
    "    buy_count,\n",
    "    on='user_id',\n",
    "    how='left'\n",
    ")"
   ]
  },
  {
   "cell_type": "code",
   "execution_count": 73,
   "metadata": {},
   "outputs": [
    {
     "data": {
      "text/plain": [
       "2665"
      ]
     },
     "execution_count": 73,
     "metadata": {},
     "output_type": "execute_result"
    }
   ],
   "source": [
    "len(df_users['user_id'].unique())"
   ]
  },
  {
   "cell_type": "code",
   "execution_count": 74,
   "metadata": {},
   "outputs": [],
   "source": [
    "df_users = df_users.sort_values('started_at')"
   ]
  },
  {
   "cell_type": "code",
   "execution_count": 75,
   "metadata": {},
   "outputs": [],
   "source": [
    "df_users['mean_n_ses_between_buys'] = '-'\n",
    "df_users['mean_time_between_buys'] = '-'"
   ]
  },
  {
   "cell_type": "code",
   "execution_count": 76,
   "metadata": {},
   "outputs": [],
   "source": [
    "for user in df_users['user_id'].unique():\n",
    "    find = False\n",
    "    i = 0\n",
    "    day_1 = 0\n",
    "    day_2 = 0\n",
    "    zeros = list()\n",
    "    for session in df_users[df_users['user_id'] == user]['session_id']:\n",
    "        buy = df_users[df_users['session_id'] == session]['buy'].values[0]\n",
    "        if find == False and buy == 1:\n",
    "            day_1 = datetime.strptime(df_users[df_users['session_id'] == session]['day'].values[0], \"%Y-%m-%d\") \n",
    "            find = True\n",
    "        elif find == True and buy == 0:\n",
    "            i += 1\n",
    "        elif find == True and buy == 1:            \n",
    "            day_2 = datetime.strptime(df_users[df_users['session_id'] == session]['day'].values[0], \"%Y-%m-%d\")\n",
    "            zeros.append(i)\n",
    "            i = 0\n",
    "    df_users.loc[df_users['user_id'] == user, 'mean_n_ses_between_buys'] = sum(zeros)/len(zeros) if zeros else 0\n",
    "    df_users.loc[df_users['user_id'] == user, 'mean_time_between_buys'] = abs((day_2 - day_1).days) if (day_2 != 0 and day_1 != 0) else 0"
   ]
  },
  {
   "cell_type": "code",
   "execution_count": 77,
   "metadata": {},
   "outputs": [],
   "source": [
    "df_users['repeat_buyer'] = np.where(df_users['buy_count'] > 1, True, False)"
   ]
  },
  {
   "cell_type": "code",
   "execution_count": 78,
   "metadata": {},
   "outputs": [
    {
     "data": {
      "text/plain": [
       "205"
      ]
     },
     "execution_count": 78,
     "metadata": {},
     "output_type": "execute_result"
    }
   ],
   "source": [
    "len(df_users[df_users['repeat_buyer'] == 1]['user_id'].unique())"
   ]
  },
  {
   "cell_type": "code",
   "execution_count": 79,
   "metadata": {},
   "outputs": [
    {
     "data": {
      "text/plain": [
       "2665"
      ]
     },
     "execution_count": 79,
     "metadata": {},
     "output_type": "execute_result"
    }
   ],
   "source": [
    "len(df_users['user_id'].unique())"
   ]
  },
  {
   "cell_type": "code",
   "execution_count": 80,
   "metadata": {},
   "outputs": [],
   "source": [
    "# number of sessions between 1. and 2. purchase , if !2.purchase, select all sessions\n",
    "df_users = df_users.sort_values('started_at')"
   ]
  },
  {
   "cell_type": "code",
   "execution_count": 81,
   "metadata": {},
   "outputs": [
    {
     "data": {
      "text/html": [
       "<div>\n",
       "<style scoped>\n",
       "    .dataframe tbody tr th:only-of-type {\n",
       "        vertical-align: middle;\n",
       "    }\n",
       "\n",
       "    .dataframe tbody tr th {\n",
       "        vertical-align: top;\n",
       "    }\n",
       "\n",
       "    .dataframe thead th {\n",
       "        text-align: right;\n",
       "    }\n",
       "</style>\n",
       "<table border=\"1\" class=\"dataframe\">\n",
       "  <thead>\n",
       "    <tr style=\"text-align: right;\">\n",
       "      <th></th>\n",
       "      <th>user_id</th>\n",
       "      <th>session_id</th>\n",
       "      <th>n_buy</th>\n",
       "      <th>buy</th>\n",
       "      <th>n_pageviews</th>\n",
       "      <th>n_input</th>\n",
       "      <th>n_load</th>\n",
       "      <th>n_click</th>\n",
       "      <th>n_mouse_click</th>\n",
       "      <th>n_rage_click</th>\n",
       "      <th>n_mouse_move</th>\n",
       "      <th>n_scroll_move</th>\n",
       "      <th>n_wild_mouse</th>\n",
       "      <th>n_scrandom</th>\n",
       "      <th>n_events</th>\n",
       "      <th>n_product</th>\n",
       "      <th>n_non_product</th>\n",
       "      <th>n_category</th>\n",
       "      <th>n_filter</th>\n",
       "      <th>n_search</th>\n",
       "      <th>n_cart</th>\n",
       "      <th>effective_duration</th>\n",
       "      <th>duration</th>\n",
       "      <th>n_sessions</th>\n",
       "      <th>country</th>\n",
       "      <th>city</th>\n",
       "      <th>continent</th>\n",
       "      <th>started_at</th>\n",
       "      <th>region</th>\n",
       "      <th>day</th>\n",
       "      <th>device.type</th>\n",
       "      <th>browser.name</th>\n",
       "      <th>os.name</th>\n",
       "      <th>referrer1</th>\n",
       "      <th>referrer2</th>\n",
       "      <th>referrer3</th>\n",
       "      <th>hour</th>\n",
       "      <th>day_name</th>\n",
       "      <th>city_type</th>\n",
       "      <th>load_time</th>\n",
       "      <th>buy_hour</th>\n",
       "      <th>buy_day</th>\n",
       "      <th>buy_count</th>\n",
       "      <th>mean_n_ses_between_buys</th>\n",
       "      <th>mean_time_between_buys</th>\n",
       "      <th>repeat_buyer</th>\n",
       "    </tr>\n",
       "  </thead>\n",
       "  <tbody>\n",
       "    <tr>\n",
       "      <th>578</th>\n",
       "      <td>1684b3ff-5f8d-4ebd-94cf-76f77a4abc0f</td>\n",
       "      <td>61f25b20-4e73-11ea-b4c4-82e0ca2d49be</td>\n",
       "      <td>1</td>\n",
       "      <td>1.0</td>\n",
       "      <td>9</td>\n",
       "      <td>3</td>\n",
       "      <td>9</td>\n",
       "      <td>6</td>\n",
       "      <td>10</td>\n",
       "      <td>0</td>\n",
       "      <td>51</td>\n",
       "      <td>10</td>\n",
       "      <td>0</td>\n",
       "      <td>0</td>\n",
       "      <td>89</td>\n",
       "      <td>0</td>\n",
       "      <td>2</td>\n",
       "      <td>1</td>\n",
       "      <td>0</td>\n",
       "      <td>0</td>\n",
       "      <td>5</td>\n",
       "      <td>32015.0</td>\n",
       "      <td>125164.0</td>\n",
       "      <td>172</td>\n",
       "      <td>SK</td>\n",
       "      <td>Košice</td>\n",
       "      <td>EU</td>\n",
       "      <td>1581606809026</td>\n",
       "      <td>KI</td>\n",
       "      <td>2020-02-13</td>\n",
       "      <td>desktop</td>\n",
       "      <td>Firefox</td>\n",
       "      <td>Windows</td>\n",
       "      <td>-</td>\n",
       "      <td>-</td>\n",
       "      <td>-</td>\n",
       "      <td>15</td>\n",
       "      <td>Thursday</td>\n",
       "      <td>2</td>\n",
       "      <td>1315</td>\n",
       "      <td>15.0</td>\n",
       "      <td>Thursday</td>\n",
       "      <td>2</td>\n",
       "      <td>28</td>\n",
       "      <td>102</td>\n",
       "      <td>True</td>\n",
       "    </tr>\n",
       "    <tr>\n",
       "      <th>3395</th>\n",
       "      <td>8d4a4937-efdd-4a3d-8d4e-4c41182fe8ed</td>\n",
       "      <td>6d453880-4e73-11ea-a1f9-aa2f16c14ecb</td>\n",
       "      <td>1</td>\n",
       "      <td>1.0</td>\n",
       "      <td>7</td>\n",
       "      <td>2</td>\n",
       "      <td>6</td>\n",
       "      <td>1</td>\n",
       "      <td>4</td>\n",
       "      <td>0</td>\n",
       "      <td>29</td>\n",
       "      <td>15</td>\n",
       "      <td>0</td>\n",
       "      <td>0</td>\n",
       "      <td>57</td>\n",
       "      <td>0</td>\n",
       "      <td>1</td>\n",
       "      <td>0</td>\n",
       "      <td>0</td>\n",
       "      <td>0</td>\n",
       "      <td>5</td>\n",
       "      <td>13888.0</td>\n",
       "      <td>4159316.0</td>\n",
       "      <td>1</td>\n",
       "      <td>CZ</td>\n",
       "      <td>Olomouc</td>\n",
       "      <td>EU</td>\n",
       "      <td>1581606817071</td>\n",
       "      <td>71</td>\n",
       "      <td>2020-02-13</td>\n",
       "      <td>desktop</td>\n",
       "      <td>Firefox</td>\n",
       "      <td>Windows</td>\n",
       "      <td>particlepeptides.com</td>\n",
       "      <td>en</td>\n",
       "      <td>order</td>\n",
       "      <td>15</td>\n",
       "      <td>Thursday</td>\n",
       "      <td>0</td>\n",
       "      <td>0</td>\n",
       "      <td>15.0</td>\n",
       "      <td>Thursday</td>\n",
       "      <td>1</td>\n",
       "      <td>0</td>\n",
       "      <td>0</td>\n",
       "      <td>False</td>\n",
       "    </tr>\n",
       "    <tr>\n",
       "      <th>1843</th>\n",
       "      <td>44f25179-3952-45c2-b30b-ec718d990b17</td>\n",
       "      <td>db0c08b0-4e84-11ea-bd80-ad8d00e50b45</td>\n",
       "      <td>0</td>\n",
       "      <td>0.0</td>\n",
       "      <td>4</td>\n",
       "      <td>1</td>\n",
       "      <td>4</td>\n",
       "      <td>5</td>\n",
       "      <td>4</td>\n",
       "      <td>0</td>\n",
       "      <td>0</td>\n",
       "      <td>78</td>\n",
       "      <td>0</td>\n",
       "      <td>0</td>\n",
       "      <td>92</td>\n",
       "      <td>1</td>\n",
       "      <td>0</td>\n",
       "      <td>1</td>\n",
       "      <td>0</td>\n",
       "      <td>2</td>\n",
       "      <td>0</td>\n",
       "      <td>32510.0</td>\n",
       "      <td>187114.0</td>\n",
       "      <td>40</td>\n",
       "      <td>CZ</td>\n",
       "      <td>Stradonice</td>\n",
       "      <td>EU</td>\n",
       "      <td>1581614306953</td>\n",
       "      <td>20</td>\n",
       "      <td>2020-02-13</td>\n",
       "      <td>mobile</td>\n",
       "      <td>Google Search</td>\n",
       "      <td>iOS</td>\n",
       "      <td>-</td>\n",
       "      <td>-</td>\n",
       "      <td>-</td>\n",
       "      <td>17</td>\n",
       "      <td>Thursday</td>\n",
       "      <td>0</td>\n",
       "      <td>10922</td>\n",
       "      <td>NaN</td>\n",
       "      <td>NaN</td>\n",
       "      <td>2</td>\n",
       "      <td>2</td>\n",
       "      <td>27</td>\n",
       "      <td>True</td>\n",
       "    </tr>\n",
       "    <tr>\n",
       "      <th>1831</th>\n",
       "      <td>44ea6ae5-54fc-4ac4-ba7a-c9b28dc91faf</td>\n",
       "      <td>38898d50-4e8f-11ea-9ad7-8f10274d5a3b</td>\n",
       "      <td>0</td>\n",
       "      <td>0.0</td>\n",
       "      <td>3</td>\n",
       "      <td>0</td>\n",
       "      <td>3</td>\n",
       "      <td>16</td>\n",
       "      <td>17</td>\n",
       "      <td>0</td>\n",
       "      <td>0</td>\n",
       "      <td>18</td>\n",
       "      <td>0</td>\n",
       "      <td>0</td>\n",
       "      <td>54</td>\n",
       "      <td>0</td>\n",
       "      <td>2</td>\n",
       "      <td>1</td>\n",
       "      <td>0</td>\n",
       "      <td>0</td>\n",
       "      <td>0</td>\n",
       "      <td>11446.0</td>\n",
       "      <td>109947.0</td>\n",
       "      <td>25</td>\n",
       "      <td>SK</td>\n",
       "      <td>Nitra</td>\n",
       "      <td>EU</td>\n",
       "      <td>1581618759881</td>\n",
       "      <td>NI</td>\n",
       "      <td>2020-02-13</td>\n",
       "      <td>mobile</td>\n",
       "      <td>Chrome</td>\n",
       "      <td>Android</td>\n",
       "      <td>-</td>\n",
       "      <td>-</td>\n",
       "      <td>-</td>\n",
       "      <td>18</td>\n",
       "      <td>Thursday</td>\n",
       "      <td>3</td>\n",
       "      <td>17046</td>\n",
       "      <td>NaN</td>\n",
       "      <td>NaN</td>\n",
       "      <td>1</td>\n",
       "      <td>0</td>\n",
       "      <td>0</td>\n",
       "      <td>False</td>\n",
       "    </tr>\n",
       "    <tr>\n",
       "      <th>2224</th>\n",
       "      <td>588a6d13-75ce-4ef5-a543-7c1bff6eaed9</td>\n",
       "      <td>ebeb9210-4e91-11ea-87ce-ff613faa86ec</td>\n",
       "      <td>0</td>\n",
       "      <td>0.0</td>\n",
       "      <td>3</td>\n",
       "      <td>1</td>\n",
       "      <td>2</td>\n",
       "      <td>2</td>\n",
       "      <td>3</td>\n",
       "      <td>0</td>\n",
       "      <td>0</td>\n",
       "      <td>7</td>\n",
       "      <td>0</td>\n",
       "      <td>0</td>\n",
       "      <td>15</td>\n",
       "      <td>0</td>\n",
       "      <td>0</td>\n",
       "      <td>0</td>\n",
       "      <td>0</td>\n",
       "      <td>0</td>\n",
       "      <td>3</td>\n",
       "      <td>3961.0</td>\n",
       "      <td>43665.0</td>\n",
       "      <td>21</td>\n",
       "      <td>CZ</td>\n",
       "      <td>Ricany</td>\n",
       "      <td>EU</td>\n",
       "      <td>1581619822327</td>\n",
       "      <td>20</td>\n",
       "      <td>2020-02-13</td>\n",
       "      <td>mobile</td>\n",
       "      <td>Chrome</td>\n",
       "      <td>Android</td>\n",
       "      <td>-</td>\n",
       "      <td>-</td>\n",
       "      <td>-</td>\n",
       "      <td>18</td>\n",
       "      <td>Thursday</td>\n",
       "      <td>0</td>\n",
       "      <td>0</td>\n",
       "      <td>NaN</td>\n",
       "      <td>NaN</td>\n",
       "      <td>1</td>\n",
       "      <td>0</td>\n",
       "      <td>0</td>\n",
       "      <td>False</td>\n",
       "    </tr>\n",
       "    <tr>\n",
       "      <th>...</th>\n",
       "      <td>...</td>\n",
       "      <td>...</td>\n",
       "      <td>...</td>\n",
       "      <td>...</td>\n",
       "      <td>...</td>\n",
       "      <td>...</td>\n",
       "      <td>...</td>\n",
       "      <td>...</td>\n",
       "      <td>...</td>\n",
       "      <td>...</td>\n",
       "      <td>...</td>\n",
       "      <td>...</td>\n",
       "      <td>...</td>\n",
       "      <td>...</td>\n",
       "      <td>...</td>\n",
       "      <td>...</td>\n",
       "      <td>...</td>\n",
       "      <td>...</td>\n",
       "      <td>...</td>\n",
       "      <td>...</td>\n",
       "      <td>...</td>\n",
       "      <td>...</td>\n",
       "      <td>...</td>\n",
       "      <td>...</td>\n",
       "      <td>...</td>\n",
       "      <td>...</td>\n",
       "      <td>...</td>\n",
       "      <td>...</td>\n",
       "      <td>...</td>\n",
       "      <td>...</td>\n",
       "      <td>...</td>\n",
       "      <td>...</td>\n",
       "      <td>...</td>\n",
       "      <td>...</td>\n",
       "      <td>...</td>\n",
       "      <td>...</td>\n",
       "      <td>...</td>\n",
       "      <td>...</td>\n",
       "      <td>...</td>\n",
       "      <td>...</td>\n",
       "      <td>...</td>\n",
       "      <td>...</td>\n",
       "      <td>...</td>\n",
       "      <td>...</td>\n",
       "      <td>...</td>\n",
       "      <td>...</td>\n",
       "    </tr>\n",
       "    <tr>\n",
       "      <th>4268</th>\n",
       "      <td>bb641fc5-0a01-4cc6-a09d-d0d2c5a13276</td>\n",
       "      <td>938f1980-d43b-11eb-9af1-0c548914e2ec</td>\n",
       "      <td>1</td>\n",
       "      <td>1.0</td>\n",
       "      <td>17</td>\n",
       "      <td>9</td>\n",
       "      <td>16</td>\n",
       "      <td>37</td>\n",
       "      <td>42</td>\n",
       "      <td>0</td>\n",
       "      <td>0</td>\n",
       "      <td>113</td>\n",
       "      <td>0</td>\n",
       "      <td>15</td>\n",
       "      <td>232</td>\n",
       "      <td>1</td>\n",
       "      <td>3</td>\n",
       "      <td>3</td>\n",
       "      <td>0</td>\n",
       "      <td>0</td>\n",
       "      <td>9</td>\n",
       "      <td>146633.0</td>\n",
       "      <td>835506.0</td>\n",
       "      <td>1</td>\n",
       "      <td>SK</td>\n",
       "      <td>Bratislava</td>\n",
       "      <td>EU</td>\n",
       "      <td>1624463790682</td>\n",
       "      <td>BL</td>\n",
       "      <td>2021-06-23</td>\n",
       "      <td>mobile</td>\n",
       "      <td>Samsung Internet</td>\n",
       "      <td>Android</td>\n",
       "      <td>www.google.com</td>\n",
       "      <td>-</td>\n",
       "      <td>-</td>\n",
       "      <td>15</td>\n",
       "      <td>Wednesday</td>\n",
       "      <td>1</td>\n",
       "      <td>0</td>\n",
       "      <td>16.0</td>\n",
       "      <td>Wednesday</td>\n",
       "      <td>1</td>\n",
       "      <td>0</td>\n",
       "      <td>0</td>\n",
       "      <td>False</td>\n",
       "    </tr>\n",
       "    <tr>\n",
       "      <th>4139</th>\n",
       "      <td>b4b0042a-22b9-43e6-9b9f-eb1e44cd04d8</td>\n",
       "      <td>683e4170-d4bd-11eb-9209-d91894e91e5c</td>\n",
       "      <td>2</td>\n",
       "      <td>1.0</td>\n",
       "      <td>10</td>\n",
       "      <td>26</td>\n",
       "      <td>10</td>\n",
       "      <td>62</td>\n",
       "      <td>78</td>\n",
       "      <td>4</td>\n",
       "      <td>0</td>\n",
       "      <td>220</td>\n",
       "      <td>0</td>\n",
       "      <td>19</td>\n",
       "      <td>419</td>\n",
       "      <td>1</td>\n",
       "      <td>1</td>\n",
       "      <td>0</td>\n",
       "      <td>0</td>\n",
       "      <td>0</td>\n",
       "      <td>6</td>\n",
       "      <td>128832.0</td>\n",
       "      <td>710671.0</td>\n",
       "      <td>1</td>\n",
       "      <td>SK</td>\n",
       "      <td>Rajecke Teplice</td>\n",
       "      <td>EU</td>\n",
       "      <td>1624519550729</td>\n",
       "      <td>ZI</td>\n",
       "      <td>2021-06-24</td>\n",
       "      <td>mobile</td>\n",
       "      <td>Chrome</td>\n",
       "      <td>Android</td>\n",
       "      <td>-</td>\n",
       "      <td>-</td>\n",
       "      <td>-</td>\n",
       "      <td>7</td>\n",
       "      <td>Thursday</td>\n",
       "      <td>0</td>\n",
       "      <td>5365</td>\n",
       "      <td>7.0</td>\n",
       "      <td>Thursday</td>\n",
       "      <td>1</td>\n",
       "      <td>0</td>\n",
       "      <td>0</td>\n",
       "      <td>False</td>\n",
       "    </tr>\n",
       "    <tr>\n",
       "      <th>2420</th>\n",
       "      <td>6355b371-c59e-48a5-90e4-caa69cd19984</td>\n",
       "      <td>eba22770-d4f9-11eb-9877-607024b94d4e</td>\n",
       "      <td>1</td>\n",
       "      <td>1.0</td>\n",
       "      <td>22</td>\n",
       "      <td>23</td>\n",
       "      <td>20</td>\n",
       "      <td>38</td>\n",
       "      <td>53</td>\n",
       "      <td>0</td>\n",
       "      <td>0</td>\n",
       "      <td>154</td>\n",
       "      <td>0</td>\n",
       "      <td>6</td>\n",
       "      <td>294</td>\n",
       "      <td>0</td>\n",
       "      <td>6</td>\n",
       "      <td>1</td>\n",
       "      <td>0</td>\n",
       "      <td>5</td>\n",
       "      <td>9</td>\n",
       "      <td>109188.0</td>\n",
       "      <td>2001453.0</td>\n",
       "      <td>1</td>\n",
       "      <td>SK</td>\n",
       "      <td>Bratislava</td>\n",
       "      <td>EU</td>\n",
       "      <td>1624545540260</td>\n",
       "      <td>BL</td>\n",
       "      <td>2021-06-24</td>\n",
       "      <td>mobile</td>\n",
       "      <td>Chrome</td>\n",
       "      <td>Android</td>\n",
       "      <td>-</td>\n",
       "      <td>-</td>\n",
       "      <td>-</td>\n",
       "      <td>14</td>\n",
       "      <td>Thursday</td>\n",
       "      <td>1</td>\n",
       "      <td>0</td>\n",
       "      <td>14.0</td>\n",
       "      <td>Thursday</td>\n",
       "      <td>1</td>\n",
       "      <td>0</td>\n",
       "      <td>0</td>\n",
       "      <td>False</td>\n",
       "    </tr>\n",
       "    <tr>\n",
       "      <th>2668</th>\n",
       "      <td>6eb86cfe-bc02-469e-b399-ec6d242d0620</td>\n",
       "      <td>6a8b12d0-d519-11eb-9634-3ee9858b1072</td>\n",
       "      <td>1</td>\n",
       "      <td>1.0</td>\n",
       "      <td>39</td>\n",
       "      <td>6</td>\n",
       "      <td>38</td>\n",
       "      <td>64</td>\n",
       "      <td>72</td>\n",
       "      <td>1</td>\n",
       "      <td>0</td>\n",
       "      <td>467</td>\n",
       "      <td>0</td>\n",
       "      <td>46</td>\n",
       "      <td>694</td>\n",
       "      <td>8</td>\n",
       "      <td>7</td>\n",
       "      <td>5</td>\n",
       "      <td>0</td>\n",
       "      <td>0</td>\n",
       "      <td>18</td>\n",
       "      <td>262872.0</td>\n",
       "      <td>1418043.0</td>\n",
       "      <td>1</td>\n",
       "      <td>CZ</td>\n",
       "      <td>Prague</td>\n",
       "      <td>EU</td>\n",
       "      <td>1624559068111</td>\n",
       "      <td>10</td>\n",
       "      <td>2021-06-24</td>\n",
       "      <td>mobile</td>\n",
       "      <td>Chrome</td>\n",
       "      <td>Android</td>\n",
       "      <td>-</td>\n",
       "      <td>-</td>\n",
       "      <td>-</td>\n",
       "      <td>18</td>\n",
       "      <td>Thursday</td>\n",
       "      <td>0</td>\n",
       "      <td>0</td>\n",
       "      <td>18.0</td>\n",
       "      <td>Thursday</td>\n",
       "      <td>1</td>\n",
       "      <td>0</td>\n",
       "      <td>0</td>\n",
       "      <td>False</td>\n",
       "    </tr>\n",
       "    <tr>\n",
       "      <th>1179</th>\n",
       "      <td>287f34b7-c244-47b2-99ff-cffdfff4678d</td>\n",
       "      <td>5159e050-d51b-11eb-8ba7-af46b0653889</td>\n",
       "      <td>0</td>\n",
       "      <td>0.0</td>\n",
       "      <td>6</td>\n",
       "      <td>0</td>\n",
       "      <td>4</td>\n",
       "      <td>7</td>\n",
       "      <td>7</td>\n",
       "      <td>0</td>\n",
       "      <td>0</td>\n",
       "      <td>34</td>\n",
       "      <td>0</td>\n",
       "      <td>2</td>\n",
       "      <td>54</td>\n",
       "      <td>0</td>\n",
       "      <td>6</td>\n",
       "      <td>0</td>\n",
       "      <td>0</td>\n",
       "      <td>0</td>\n",
       "      <td>0</td>\n",
       "      <td>25449.0</td>\n",
       "      <td>149657.0</td>\n",
       "      <td>11</td>\n",
       "      <td>AT</td>\n",
       "      <td>-</td>\n",
       "      <td>EU</td>\n",
       "      <td>1624559886314</td>\n",
       "      <td>-</td>\n",
       "      <td>2021-06-24</td>\n",
       "      <td>mobile</td>\n",
       "      <td>Safari</td>\n",
       "      <td>iOS</td>\n",
       "      <td>-</td>\n",
       "      <td>-</td>\n",
       "      <td>-</td>\n",
       "      <td>18</td>\n",
       "      <td>Thursday</td>\n",
       "      <td>0</td>\n",
       "      <td>0</td>\n",
       "      <td>NaN</td>\n",
       "      <td>NaN</td>\n",
       "      <td>1</td>\n",
       "      <td>0</td>\n",
       "      <td>0</td>\n",
       "      <td>False</td>\n",
       "    </tr>\n",
       "  </tbody>\n",
       "</table>\n",
       "<p>5717 rows × 46 columns</p>\n",
       "</div>"
      ],
      "text/plain": [
       "                                   user_id  \\\n",
       "578   1684b3ff-5f8d-4ebd-94cf-76f77a4abc0f   \n",
       "3395  8d4a4937-efdd-4a3d-8d4e-4c41182fe8ed   \n",
       "1843  44f25179-3952-45c2-b30b-ec718d990b17   \n",
       "1831  44ea6ae5-54fc-4ac4-ba7a-c9b28dc91faf   \n",
       "2224  588a6d13-75ce-4ef5-a543-7c1bff6eaed9   \n",
       "...                                    ...   \n",
       "4268  bb641fc5-0a01-4cc6-a09d-d0d2c5a13276   \n",
       "4139  b4b0042a-22b9-43e6-9b9f-eb1e44cd04d8   \n",
       "2420  6355b371-c59e-48a5-90e4-caa69cd19984   \n",
       "2668  6eb86cfe-bc02-469e-b399-ec6d242d0620   \n",
       "1179  287f34b7-c244-47b2-99ff-cffdfff4678d   \n",
       "\n",
       "                                session_id  n_buy  buy  n_pageviews  n_input  \\\n",
       "578   61f25b20-4e73-11ea-b4c4-82e0ca2d49be      1  1.0            9        3   \n",
       "3395  6d453880-4e73-11ea-a1f9-aa2f16c14ecb      1  1.0            7        2   \n",
       "1843  db0c08b0-4e84-11ea-bd80-ad8d00e50b45      0  0.0            4        1   \n",
       "1831  38898d50-4e8f-11ea-9ad7-8f10274d5a3b      0  0.0            3        0   \n",
       "2224  ebeb9210-4e91-11ea-87ce-ff613faa86ec      0  0.0            3        1   \n",
       "...                                    ...    ...  ...          ...      ...   \n",
       "4268  938f1980-d43b-11eb-9af1-0c548914e2ec      1  1.0           17        9   \n",
       "4139  683e4170-d4bd-11eb-9209-d91894e91e5c      2  1.0           10       26   \n",
       "2420  eba22770-d4f9-11eb-9877-607024b94d4e      1  1.0           22       23   \n",
       "2668  6a8b12d0-d519-11eb-9634-3ee9858b1072      1  1.0           39        6   \n",
       "1179  5159e050-d51b-11eb-8ba7-af46b0653889      0  0.0            6        0   \n",
       "\n",
       "      n_load  n_click  n_mouse_click  n_rage_click  n_mouse_move  \\\n",
       "578        9        6             10             0            51   \n",
       "3395       6        1              4             0            29   \n",
       "1843       4        5              4             0             0   \n",
       "1831       3       16             17             0             0   \n",
       "2224       2        2              3             0             0   \n",
       "...      ...      ...            ...           ...           ...   \n",
       "4268      16       37             42             0             0   \n",
       "4139      10       62             78             4             0   \n",
       "2420      20       38             53             0             0   \n",
       "2668      38       64             72             1             0   \n",
       "1179       4        7              7             0             0   \n",
       "\n",
       "      n_scroll_move  n_wild_mouse  n_scrandom  n_events  n_product  \\\n",
       "578              10             0           0        89          0   \n",
       "3395             15             0           0        57          0   \n",
       "1843             78             0           0        92          1   \n",
       "1831             18             0           0        54          0   \n",
       "2224              7             0           0        15          0   \n",
       "...             ...           ...         ...       ...        ...   \n",
       "4268            113             0          15       232          1   \n",
       "4139            220             0          19       419          1   \n",
       "2420            154             0           6       294          0   \n",
       "2668            467             0          46       694          8   \n",
       "1179             34             0           2        54          0   \n",
       "\n",
       "      n_non_product  n_category  n_filter  n_search  n_cart  \\\n",
       "578               2           1         0         0       5   \n",
       "3395              1           0         0         0       5   \n",
       "1843              0           1         0         2       0   \n",
       "1831              2           1         0         0       0   \n",
       "2224              0           0         0         0       3   \n",
       "...             ...         ...       ...       ...     ...   \n",
       "4268              3           3         0         0       9   \n",
       "4139              1           0         0         0       6   \n",
       "2420              6           1         0         5       9   \n",
       "2668              7           5         0         0      18   \n",
       "1179              6           0         0         0       0   \n",
       "\n",
       "      effective_duration   duration  n_sessions country             city  \\\n",
       "578              32015.0   125164.0         172      SK           Košice   \n",
       "3395             13888.0  4159316.0           1      CZ          Olomouc   \n",
       "1843             32510.0   187114.0          40      CZ       Stradonice   \n",
       "1831             11446.0   109947.0          25      SK            Nitra   \n",
       "2224              3961.0    43665.0          21      CZ           Ricany   \n",
       "...                  ...        ...         ...     ...              ...   \n",
       "4268            146633.0   835506.0           1      SK       Bratislava   \n",
       "4139            128832.0   710671.0           1      SK  Rajecke Teplice   \n",
       "2420            109188.0  2001453.0           1      SK       Bratislava   \n",
       "2668            262872.0  1418043.0           1      CZ           Prague   \n",
       "1179             25449.0   149657.0          11      AT                -   \n",
       "\n",
       "     continent     started_at region         day device.type  \\\n",
       "578         EU  1581606809026     KI  2020-02-13     desktop   \n",
       "3395        EU  1581606817071     71  2020-02-13     desktop   \n",
       "1843        EU  1581614306953     20  2020-02-13      mobile   \n",
       "1831        EU  1581618759881     NI  2020-02-13      mobile   \n",
       "2224        EU  1581619822327     20  2020-02-13      mobile   \n",
       "...        ...            ...    ...         ...         ...   \n",
       "4268        EU  1624463790682     BL  2021-06-23      mobile   \n",
       "4139        EU  1624519550729     ZI  2021-06-24      mobile   \n",
       "2420        EU  1624545540260     BL  2021-06-24      mobile   \n",
       "2668        EU  1624559068111     10  2021-06-24      mobile   \n",
       "1179        EU  1624559886314      -  2021-06-24      mobile   \n",
       "\n",
       "          browser.name  os.name             referrer1 referrer2 referrer3  \\\n",
       "578            Firefox  Windows                     -         -         -   \n",
       "3395           Firefox  Windows  particlepeptides.com        en     order   \n",
       "1843     Google Search      iOS                     -         -         -   \n",
       "1831            Chrome  Android                     -         -         -   \n",
       "2224            Chrome  Android                     -         -         -   \n",
       "...                ...      ...                   ...       ...       ...   \n",
       "4268  Samsung Internet  Android        www.google.com         -         -   \n",
       "4139            Chrome  Android                     -         -         -   \n",
       "2420            Chrome  Android                     -         -         -   \n",
       "2668            Chrome  Android                     -         -         -   \n",
       "1179            Safari      iOS                     -         -         -   \n",
       "\n",
       "      hour   day_name  city_type  load_time  buy_hour    buy_day  buy_count  \\\n",
       "578     15   Thursday          2       1315      15.0   Thursday          2   \n",
       "3395    15   Thursday          0          0      15.0   Thursday          1   \n",
       "1843    17   Thursday          0      10922       NaN        NaN          2   \n",
       "1831    18   Thursday          3      17046       NaN        NaN          1   \n",
       "2224    18   Thursday          0          0       NaN        NaN          1   \n",
       "...    ...        ...        ...        ...       ...        ...        ...   \n",
       "4268    15  Wednesday          1          0      16.0  Wednesday          1   \n",
       "4139     7   Thursday          0       5365       7.0   Thursday          1   \n",
       "2420    14   Thursday          1          0      14.0   Thursday          1   \n",
       "2668    18   Thursday          0          0      18.0   Thursday          1   \n",
       "1179    18   Thursday          0          0       NaN        NaN          1   \n",
       "\n",
       "     mean_n_ses_between_buys mean_time_between_buys  repeat_buyer  \n",
       "578                       28                    102          True  \n",
       "3395                       0                      0         False  \n",
       "1843                       2                     27          True  \n",
       "1831                       0                      0         False  \n",
       "2224                       0                      0         False  \n",
       "...                      ...                    ...           ...  \n",
       "4268                       0                      0         False  \n",
       "4139                       0                      0         False  \n",
       "2420                       0                      0         False  \n",
       "2668                       0                      0         False  \n",
       "1179                       0                      0         False  \n",
       "\n",
       "[5717 rows x 46 columns]"
      ]
     },
     "execution_count": 81,
     "metadata": {},
     "output_type": "execute_result"
    }
   ],
   "source": [
    "df_users"
   ]
  },
  {
   "cell_type": "code",
   "execution_count": null,
   "metadata": {
    "scrolled": false
   },
   "outputs": [],
   "source": []
  },
  {
   "cell_type": "code",
   "execution_count": 82,
   "metadata": {},
   "outputs": [
    {
     "name": "stdout",
     "output_type": "stream",
     "text": [
      "25.866370945383977\n",
      "55.0\n",
      "2\n",
      "254\n"
     ]
    }
   ],
   "source": [
    "# average number of days between 2 buys\n",
    "print(df_users[df_users['day'] > \"2020-06-02\"]['mean_time_between_buys'].mean())\n",
    "# median number of days between 2 buys\n",
    "print(df_users[df_users['mean_time_between_buys'] > 0]['mean_time_between_buys'].median())\n",
    "# min number of days between 2 buys\n",
    "print(df_users[df_users['mean_time_between_buys'] > 1]['mean_time_between_buys'].min())\n",
    "# max number of days between 2 buys\n",
    "print(df_users[df_users['mean_time_between_buys'] < 362]['mean_time_between_buys'].max())"
   ]
  },
  {
   "cell_type": "code",
   "execution_count": null,
   "metadata": {},
   "outputs": [],
   "source": [
    "d1 = datetime.strptime(df_users[df_users['session_id'] == session]['day'].values[0], \"%Y-%m-%d\") "
   ]
  },
  {
   "cell_type": "code",
   "execution_count": null,
   "metadata": {},
   "outputs": [],
   "source": [
    "df_users[(df_users['user_id'] == '1684b3ff-5f8d-4ebd-94cf-76f77a4abc0f') & (df_users['buy'] == 1)]"
   ]
  },
  {
   "cell_type": "code",
   "execution_count": null,
   "metadata": {},
   "outputs": [],
   "source": []
  },
  {
   "cell_type": "code",
   "execution_count": null,
   "metadata": {},
   "outputs": [],
   "source": [
    "df_users[df_users['user_id'] == 'fc01d19f-a1a0-4bca-8ec0-a0bff986e7e3']"
   ]
  },
  {
   "cell_type": "code",
   "execution_count": null,
   "metadata": {},
   "outputs": [],
   "source": []
  },
  {
   "cell_type": "code",
   "execution_count": null,
   "metadata": {},
   "outputs": [],
   "source": [
    "df_users[(df_users['mean_time_between_buys'] == 464) & (df_users['buy'] == 1)]"
   ]
  },
  {
   "cell_type": "code",
   "execution_count": null,
   "metadata": {},
   "outputs": [],
   "source": [
    "df_users_2 = pd.DataFrame()\n",
    "for user in df_users['user_id'].unique():\n",
    "    find = False\n",
    "    for session in df_users[df_users['user_id'] == user]['session_id']:\n",
    "        buy = df_users[df_users['session_id'] == session]['buy'].values[0]\n",
    "        if find == False and buy == 1:\n",
    "            find = True\n",
    "            df_users_2 = df_users_2.append(df_users[df_users['session_id'] == session])\n",
    "        elif find == True and buy == 0:\n",
    "            df_users_2 = df_users_2.append(df_users[df_users['session_id'] == session])\n",
    "        elif find == True and buy == 1: \n",
    "            df_users_2 = df_users_2.append(df_users[df_users['session_id'] == session])\n",
    "            break"
   ]
  },
  {
   "cell_type": "code",
   "execution_count": null,
   "metadata": {},
   "outputs": [],
   "source": [
    "len(df_users_2['user_id'].unique())"
   ]
  },
  {
   "cell_type": "code",
   "execution_count": null,
   "metadata": {},
   "outputs": [],
   "source": [
    "# number of sessions between 1. and 2. purchase \n",
    "# number of sessions after 1. purchase \n",
    "n_sessions_after_1_buy = df_users_2.groupby('user_id')['session_id'].count().astype(int).reset_index()\n",
    "n_sessions_after_1_buy.rename(columns={'session_id' : \"n_sessions_after_1_buy\"}, inplace = True)"
   ]
  },
  {
   "cell_type": "code",
   "execution_count": null,
   "metadata": {},
   "outputs": [],
   "source": [
    "df_users_2 = pd.merge(\n",
    "    df_users_2,\n",
    "    n_sessions_after_1_buy,\n",
    "    on='user_id',\n",
    "    how='left'\n",
    ")"
   ]
  },
  {
   "cell_type": "code",
   "execution_count": null,
   "metadata": {},
   "outputs": [],
   "source": [
    "len(df_users_2['user_id'].unique())"
   ]
  },
  {
   "cell_type": "code",
   "execution_count": null,
   "metadata": {},
   "outputs": [],
   "source": [
    "df_users_2 = df_users_2[df_users_2['n_sessions_after_1_buy'] > 1]\n",
    "df_users_2['mean_n_ses_between_buys'] = df_users_2['mean_n_ses_between_buys'].astype(float)"
   ]
  },
  {
   "cell_type": "code",
   "execution_count": null,
   "metadata": {},
   "outputs": [],
   "source": [
    "len(df_users_2['user_id'].unique())"
   ]
  },
  {
   "cell_type": "code",
   "execution_count": null,
   "metadata": {},
   "outputs": [],
   "source": [
    "# number of sessions after 1. purchase \n",
    "counter = collections.Counter(round(df_users_2[df_users_2['mean_n_ses_between_buys'] > 0 ]['mean_n_ses_between_buys']))\n",
    "print(counter)\n",
    "\n",
    "labels = counter.keys()\n",
    "sizes = counter.values()\n",
    "\n",
    "fig1, ax1 = plt.subplots()\n",
    "patches, texts = ax1.pie(sizes, labels=labels, startangle=90)\n",
    "plt.legend(labels, loc=\"best\")\n",
    "ax1.axis('equal')\n",
    "\n",
    "plt.show()"
   ]
  },
  {
   "cell_type": "code",
   "execution_count": null,
   "metadata": {},
   "outputs": [],
   "source": [
    "# cut number of sessions, max avg session count between 2 purchases after 1. purchase\n",
    "session_limit = round(df_users_2[df_users_2['mean_n_ses_between_buys'] > 0 ]['mean_n_ses_between_buys'].mean())\n",
    "session_limit"
   ]
  },
  {
   "cell_type": "code",
   "execution_count": null,
   "metadata": {},
   "outputs": [],
   "source": [
    "temp = pd.DataFrame()"
   ]
  },
  {
   "cell_type": "code",
   "execution_count": null,
   "metadata": {},
   "outputs": [],
   "source": [
    "# selection_method = 1 # session with 1. purchase and sessions without purchase\n",
    "selection_method = 2 # also session with 2. purchase"
   ]
  },
  {
   "cell_type": "code",
   "execution_count": null,
   "metadata": {},
   "outputs": [],
   "source": [
    "if selection_method == 1:\n",
    "    # select sessions after 1. purchase, if session count < limit + 1, or limit + 2 - select all sessions\n",
    "    temp = temp.append(df_users_2[(df_users_2['buy_count'] <= 1) & (df_users_2['n_sessions_after_1_buy'] <= (session_limit + 1))].sort_values('started_at',ascending=True), ignore_index=False)\n",
    "    df = df_users_2[(df_users_2['buy_count'] > 1) & (df_users_2['n_sessions_after_1_buy'] <= (session_limit + 2))].sort_values('started_at',ascending=True)\n",
    "    temp = temp.append(df.drop(df.groupby('user_id').tail(1).index,axis=0), ignore_index=False)\n",
    "    \n",
    "    # select 1. purchase\n",
    "    temp = temp.append(df_users_2[(df_users_2['buy_count'] > 1) & (df_users_2['n_sessions_after_1_buy'] > (session_limit + 2))].sort_values('started_at',ascending=True).groupby('user_id').head(1), ignore_index=False)\n",
    "    temp = temp.append(df_users_2[(df_users_2['buy_count'] <= 1) & (df_users_2['n_sessions_after_1_buy'] > (session_limit + 1))].sort_values('started_at',ascending=True).groupby('user_id').head(1), ignore_index=False)\n",
    "        \n",
    "    # select last x sessions (x = session limit)\n",
    "    df = df_users_2[(df_users_2['buy_count'] > 1) & (df_users_2['n_sessions_after_1_buy'] > (session_limit + 2))].sort_values('started_at',ascending=False)\n",
    "    df = df.drop(df.groupby('user_id').head(1).index,axis=0)\n",
    "    temp = temp.append(df.groupby('user_id').head(session_limit), ignore_index=False)\n",
    "    temp = temp.append(df_users_2[(df_users_2['buy_count'] <= 1) & (df_users_2['n_sessions_after_1_buy'] > (session_limit + 1))].sort_values('started_at',ascending=False).groupby('user_id').head(session_limit), ignore_index=False)\n",
    "\n",
    "if selection_method == 2:\n",
    "    # select sessions after 1. purchase, if session count < limit + 1, or limit + 2 - select all sessions and 2.purchase\n",
    "    temp = temp.append(df_users_2[(df_users_2['buy_count'] > 1) & (df_users_2['n_sessions_after_1_buy'] <= (session_limit + 2))].sort_values('started_at',ascending=True), ignore_index=False)\n",
    "    temp = temp.append(df_users_2[(df_users_2['buy_count'] <= 1) & (df_users_2['n_sessions_after_1_buy'] <= (session_limit + 1))].sort_values('started_at',ascending=True), ignore_index=False)\n",
    "\n",
    "    # select 1. purchase\n",
    "    temp = temp.append(df_users_2[(df_users_2['buy_count'] > 1) & (df_users_2['n_sessions_after_1_buy'] > (session_limit + 2))].sort_values('started_at',ascending=True).groupby('user_id').head(1), ignore_index=False)\n",
    "    temp = temp.append(df_users_2[(df_users_2['buy_count'] <= 1) & (df_users_2['n_sessions_after_1_buy'] > (session_limit + 1))].sort_values('started_at',ascending=True).groupby('user_id').head(1), ignore_index=False)\n",
    "\n",
    "    # select last x sessions (x = session limit), or last sessions + 2.purchase\n",
    "    temp = temp.append(df_users_2[(df_users_2['buy_count'] > 1) & (df_users_2['n_sessions_after_1_buy'] > (session_limit + 2))].sort_values('started_at',ascending=False).groupby('user_id').head(session_limit + 1), ignore_index=False)\n",
    "    temp = temp.append(df_users_2[(df_users_2['buy_count'] <= 1) & (df_users_2['n_sessions_after_1_buy'] > (session_limit + 1))].sort_values('started_at',ascending=False).groupby('user_id').head(session_limit), ignore_index=False)\n"
   ]
  },
  {
   "cell_type": "code",
   "execution_count": null,
   "metadata": {},
   "outputs": [],
   "source": [
    "temp = temp.sort_values('started_at') "
   ]
  },
  {
   "cell_type": "code",
   "execution_count": null,
   "metadata": {},
   "outputs": [],
   "source": [
    "df_users = temp\n",
    "df_sessions = df_sessions[df_sessions['session_id'].isin(df_users_2['session_id'])]\n",
    "df_pageviews = df_pageviews[df_pageviews['session_id'].isin(df_users_2['session_id'])]"
   ]
  },
  {
   "cell_type": "code",
   "execution_count": null,
   "metadata": {},
   "outputs": [],
   "source": [
    "len(df_users['user_id'].unique())"
   ]
  },
  {
   "cell_type": "code",
   "execution_count": null,
   "metadata": {},
   "outputs": [],
   "source": []
  },
  {
   "cell_type": "code",
   "execution_count": null,
   "metadata": {},
   "outputs": [],
   "source": [
    "# number of visits of the most visited product and category per user and session\n",
    "df_users = pd.merge(\n",
    "    df_users,\n",
    "    df_sessions[['session_id','top_product','n_top_product','n_unique_product','top_category','n_top_category','n_unique_category']],\n",
    "    on='session_id',\n",
    "    how='left'\n",
    ")"
   ]
  },
  {
   "cell_type": "code",
   "execution_count": null,
   "metadata": {},
   "outputs": [],
   "source": [
    "# number of visits of the most visited product per user\n",
    "if (project == 'dp' or project == 'he'):\n",
    "    url_name = 'url2'\n",
    "elif (project == 'pp' or project == 'ba'):\n",
    "    url_name = 'url3'"
   ]
  },
  {
   "cell_type": "code",
   "execution_count": null,
   "metadata": {},
   "outputs": [],
   "source": [
    "df_pageviews_product = df_pageviews[df_pageviews['pageview_product'] == True][['user_id', url_name]] "
   ]
  },
  {
   "cell_type": "code",
   "execution_count": null,
   "metadata": {},
   "outputs": [],
   "source": [
    "if (project == 'dp' or project == 'he' or project == 'ba'):\n",
    "    users_top_product = df_pageviews_product.groupby(['user_id'])[url_name].apply(lambda x: pd.Series.mode(x)[0]).to_frame()\n",
    "elif (project == 'pp'):\n",
    "    users_top_product = df_pageviews_product.groupby(['user_id'])[url_name].agg(pd.Series.mode).to_frame()"
   ]
  },
  {
   "cell_type": "code",
   "execution_count": null,
   "metadata": {},
   "outputs": [],
   "source": [
    "users_top_product.rename(columns={url_name: 'top_product_u'}, inplace=True)\n",
    "\n",
    "df_users = pd.merge(\n",
    "    df_users,\n",
    "    users_top_product,\n",
    "    on='user_id',\n",
    "    how='left'\n",
    ")"
   ]
  },
  {
   "cell_type": "code",
   "execution_count": null,
   "metadata": {},
   "outputs": [],
   "source": [
    "users_n_top_product = df_pageviews_product.groupby(['user_id', url_name])[url_name].count().to_frame()\n",
    "users_n_top_product.rename(columns={url_name: 'n_top_product_u'}, inplace=True)\n",
    "users_n_top_product = users_n_top_product.sort_values(by=['n_top_product_u'], ascending=False)\n",
    "\n",
    "df_users = pd.merge(\n",
    "    df_users,\n",
    "    users_n_top_product,\n",
    "    on='user_id',\n",
    "    how='left'\n",
    ")\n",
    "\n",
    "df_users.drop_duplicates('session_id', keep='first', inplace=True)\n",
    "df_users = df_users.reset_index(drop=True)"
   ]
  },
  {
   "cell_type": "code",
   "execution_count": null,
   "metadata": {},
   "outputs": [],
   "source": [
    "users_n_unique_product = df_pageviews_product.groupby(['user_id'])[url_name].nunique().to_frame()\n",
    "users_n_unique_product.rename(columns={url_name: 'n_unique_product_u'}, inplace=True)\n",
    "\n",
    "df_users = pd.merge(\n",
    "    df_users,\n",
    "    users_n_unique_product,\n",
    "    on='user_id',\n",
    "    how='left'\n",
    ")"
   ]
  },
  {
   "cell_type": "code",
   "execution_count": null,
   "metadata": {},
   "outputs": [],
   "source": []
  },
  {
   "cell_type": "code",
   "execution_count": null,
   "metadata": {},
   "outputs": [],
   "source": [
    "# number of visits of the most visited category per user\n",
    "if (project == 'dp' or project == 'he'):\n",
    "    url_name = 'url1'\n",
    "elif (project == 'pp' or project == 'ba'): # pp doesn't have categories\n",
    "    url_name = 'url2'"
   ]
  },
  {
   "cell_type": "code",
   "execution_count": null,
   "metadata": {},
   "outputs": [],
   "source": [
    "df_pageviews_category = df_pageviews[df_pageviews['pageview_category'] == True][['user_id', url_name]]"
   ]
  },
  {
   "cell_type": "code",
   "execution_count": null,
   "metadata": {},
   "outputs": [],
   "source": [
    "users_top_category = df_pageviews_category.groupby(['user_id'])[url_name].apply(lambda x: pd.Series.mode(x)[0]).to_frame()\n",
    "users_top_category.rename(columns={url_name: 'top_category_u'}, inplace=True)\n",
    "\n",
    "df_users = pd.merge(\n",
    "    df_users,\n",
    "    users_top_category,\n",
    "    on='user_id',\n",
    "    how='left'\n",
    ")"
   ]
  },
  {
   "cell_type": "code",
   "execution_count": null,
   "metadata": {},
   "outputs": [],
   "source": [
    "users_n_top_category = df_pageviews_category.groupby(['user_id', url_name])[url_name].count().to_frame()\n",
    "users_n_top_category.rename(columns={url_name: 'n_top_category_u'}, inplace=True)\n",
    "users_n_top_category = users_n_top_category.sort_values(by=['n_top_category_u'], ascending=False)\n",
    "\n",
    "df_users = pd.merge(\n",
    "    df_users,\n",
    "    users_n_top_category,\n",
    "    on='user_id',\n",
    "    how='left'\n",
    ")\n",
    "\n",
    "df_users.drop_duplicates('session_id', keep='first', inplace=True)\n",
    "df_users = df_users.reset_index(drop=True)"
   ]
  },
  {
   "cell_type": "code",
   "execution_count": null,
   "metadata": {},
   "outputs": [],
   "source": [
    "users_n_unique_category = df_pageviews_category.groupby(['user_id'])[url_name].nunique().to_frame()\n",
    "users_n_unique_category.rename(columns={url_name: 'n_unique_category_u'}, inplace=True)\n",
    "\n",
    "df_users = pd.merge(\n",
    "    df_users,\n",
    "    users_n_unique_category,\n",
    "    on='user_id',\n",
    "    how='left'\n",
    ")"
   ]
  },
  {
   "cell_type": "code",
   "execution_count": null,
   "metadata": {},
   "outputs": [],
   "source": []
  },
  {
   "cell_type": "code",
   "execution_count": null,
   "metadata": {},
   "outputs": [],
   "source": [
    "# number of add to cart clicks per session\n",
    "if (project == 'he'):\n",
    "    temp = pd.DataFrame(df_click[(df_click['args.text'] == \"Pridať do košíka\") | (df_click['args.text'] == \"Do košíka\") |\n",
    "                                 (df_click['args.text'] == \"Add to basket\") | (df_click['args.text'] == \"To basket\") |\n",
    "                                 (df_click['args.text'] == \"Přidat do košíku\") | (df_click['args.text'] == \"Do košíku\")][\"session_id\"].value_counts()) \n",
    "    temp.rename(columns={\"session_id\": \"n_add_to_cart\"}, inplace=True) \n",
    "\n",
    "if (project == 'pp'):\n",
    "    temp = pd.DataFrame(df_click[(df_click['args.text'] == \"Pridať do košíka\") | (df_click['args.text'] == \"Add to cart\")][\"session_id\"].value_counts()) \n",
    "    temp.rename(columns={\"session_id\": \"n_add_to_cart\"}, inplace=True) \n",
    "\n",
    "if (project == 'ba'):\n",
    "    temp = pd.DataFrame(df_click[(df_click['args.text'] == \"Vložiť do košíka\") | (df_click['args.text'] == \"Do košíka\")][\"session_id\"].value_counts()) \n",
    "    temp.rename(columns={\"session_id\": \"n_add_to_cart\"}, inplace=True)\n",
    "\n",
    "df_sessions = pd.merge(df_sessions, temp, left_on='session_id', right_index=True, how='left')\n",
    "\n",
    "df_users = pd.merge(\n",
    "    df_users,\n",
    "    df_sessions[['session_id','n_add_to_cart']],\n",
    "    on='session_id',\n",
    "    how='left'\n",
    ")\n",
    "\n",
    "df_users['n_add_to_cart'] = df_users['n_add_to_cart'].fillna(0)"
   ]
  },
  {
   "cell_type": "code",
   "execution_count": null,
   "metadata": {},
   "outputs": [],
   "source": [
    "# number of remove from cart clicks per session\n",
    "if (project == 'he'):\n",
    "    temp = pd.DataFrame(df_click[(df_click['args.text'] == \"Odstrániť z košíka\") | (df_click['args.text'] == \"Odstranit z košíku\")][\"session_id\"].value_counts()) \n",
    "    temp.rename(columns={\"session_id\": \"n_remove_from_cart\"}, inplace=True) \n",
    "\n",
    "if (project == 'pp'):\n",
    "    temp = pd.DataFrame(df_click[(df_click['args.text'] == \"Vymazať\") | (df_click['args.text'] == \"Delete\")][\"session_id\"].value_counts())\n",
    "    temp.rename(columns={\"session_id\": \"n_remove_from_cart\"}, inplace=True) \n",
    "\n",
    "if (project == 'ba'):\n",
    "    temp = pd.DataFrame(df_click[df_click['args.text'] == \"Odstrániť\"][\"session_id\"].value_counts())\n",
    "    temp.rename(columns={\"session_id\": \"n_remove_from_cart\"}, inplace=True) \n",
    "\n",
    "df_sessions = pd.merge(df_sessions, temp, left_on='session_id', right_index=True, how='left') \n",
    "\n",
    "df_users = pd.merge(\n",
    "    df_users,\n",
    "    df_sessions[['session_id','n_remove_from_cart']],\n",
    "    on='session_id',\n",
    "    how='left'\n",
    ")\n",
    "\n",
    "df_users['n_remove_from_cart'] = df_users['n_remove_from_cart'].fillna(0)"
   ]
  },
  {
   "cell_type": "code",
   "execution_count": null,
   "metadata": {},
   "outputs": [],
   "source": [
    "# number of next page clicks - only He, Ba - PP doesn't have next pages\n",
    "pages = list(range(0, 500))\n",
    "pages = [str(x) for x in pages]\n",
    "\n",
    "if (project == 'he'):\n",
    "    temp = pd.DataFrame(df_click[(df_click['args.text'] == \"Ďalšie produkty\") | (df_click['args.text'] == \"Ďalšia strana\") |\n",
    "                                (df_click['args.text'] == \"Další produkty\") | (df_click['args.text'] == \"Další strana\")][\"session_id\"].value_counts())\n",
    "    temp.rename(columns={\"session_id\": \"n_next_page\"}, inplace=True) \n",
    "\n",
    "\n",
    "if (project == 'ba'):\n",
    "    temp = pd.DataFrame(df_click[(df_click['args.text'] == \"nasledujúca strana\") | \n",
    "                                 (df_click['args.text'].isin(pages))][\"session_id\"].value_counts())\n",
    "    temp.rename(columns={\"session_id\": \"n_next_page\"}, inplace=True) \n",
    "\n",
    "if (project == 'he') or (project == 'ba'):\n",
    "    df_sessions = pd.merge(df_sessions, temp, left_on='session_id', right_index=True, how='left')\n",
    "\n",
    "    df_users = pd.merge(\n",
    "        df_users,\n",
    "        df_sessions[['session_id','n_next_page']],\n",
    "        on='session_id',\n",
    "        how='left'\n",
    "    )\n",
    "\n",
    "    df_users['n_next_page'] = df_users['n_next_page'].fillna(0)"
   ]
  },
  {
   "cell_type": "code",
   "execution_count": null,
   "metadata": {},
   "outputs": [],
   "source": [
    "# transformation NaN to 0 and float to int\n",
    "numeric_values = [\n",
    "    'n_pageviews', 'n_input', 'n_load',\n",
    "    'n_click', 'n_mouse_click',  'n_rage_click',\n",
    "    'n_mouse_move', 'n_scroll_move', 'n_wild_mouse', \n",
    "    'n_scrandom',\n",
    "    'n_events',\n",
    "    'n_product', 'n_non_product', 'n_category',\n",
    "    'n_filter', 'n_search',\n",
    "    'n_cart', 'n_buy',\n",
    "    'effective_duration', 'duration',\n",
    "    'n_sessions',\n",
    "    'hour',\n",
    "    'city_type',\n",
    "    'load_time',\n",
    "    'n_top_product_u', 'n_unique_product_u',\n",
    "    'n_top_category_u', 'n_unique_category_u',\n",
    "    'n_add_to_cart', 'n_remove_from_cart', \n",
    "#     'n_next_page'\n",
    "]\n",
    "\n",
    "for column in numeric_values:\n",
    "    df_users[column] = df_users[column].fillna(0)\n",
    "    df_users[column] = df_users[column].astype(int)"
   ]
  },
  {
   "cell_type": "code",
   "execution_count": null,
   "metadata": {},
   "outputs": [],
   "source": [
    "# transformation NaN to '-' \n",
    "string_values = [\n",
    "    'country', 'city', 'continent', 'region',\n",
    "    'device.type', 'browser.name', 'os.name',\n",
    "    'referrer1', 'referrer2', 'referrer3',\n",
    "    'day_name', \n",
    "    'day',\n",
    "    'buy_hour',\n",
    "    'buy_day',\n",
    "    'top_product_u', 'top_category_u',\n",
    "]\n",
    "\n",
    "for column in string_values:\n",
    "    df_users[column].fillna('-', inplace = True)"
   ]
  },
  {
   "cell_type": "code",
   "execution_count": null,
   "metadata": {},
   "outputs": [],
   "source": [
    "len(df_users['user_id'].unique())"
   ]
  },
  {
   "cell_type": "code",
   "execution_count": null,
   "metadata": {},
   "outputs": [],
   "source": [
    "# export CSV \n",
    "# example filename: csv_he + df_users_metrics_ + 1 \n",
    "df_users.to_csv(folder + '/df_users_metrics_' + str(selection_method) + '.csv', index=False, encoding='utf-8-sig')\n",
    "df_sessions.to_csv(folder + '/df_sessions_metrics_' + str(selection_method) + '.csv', index=False, encoding='utf-8-sig')\n",
    "df_pageviews.to_csv(folder + '/df_pageviews_metrics_' + str(selection_method) + '.csv', index=False, encoding='utf-8-sig')\n",
    "\n",
    "# UNCHANGED\n",
    "# df_inactivities\n",
    "# df_input\n",
    "# df_load\n",
    "# df_click\n",
    "# df_mouse_click\n",
    "# df_rage_click\n",
    "# df_mouse_move\n",
    "# df_scroll_move\n",
    "# df_wild_mouse\n",
    "# df_scrandom"
   ]
  },
  {
   "cell_type": "code",
   "execution_count": null,
   "metadata": {},
   "outputs": [],
   "source": []
  }
 ],
 "metadata": {
  "kernelspec": {
   "display_name": "Python 3",
   "language": "python",
   "name": "python3"
  },
  "language_info": {
   "codemirror_mode": {
    "name": "ipython",
    "version": 3
   },
   "file_extension": ".py",
   "mimetype": "text/x-python",
   "name": "python",
   "nbconvert_exporter": "python",
   "pygments_lexer": "ipython3",
   "version": "3.8.3"
  }
 },
 "nbformat": 4,
 "nbformat_minor": 4
}
