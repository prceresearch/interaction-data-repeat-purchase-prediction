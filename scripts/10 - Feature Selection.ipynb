{
 "cells": [
  {
   "cell_type": "code",
   "execution_count": 49,
   "metadata": {},
   "outputs": [],
   "source": [
    "import numpy as np \n",
    "import pandas as pd\n",
    "import collections # counter\n",
    "import matplotlib.pyplot as plt\n",
    "import seaborn as sns\n",
    "from copy import *\n",
    "\n",
    "from sklearn.metrics import accuracy_score, log_loss, classification_report, confusion_matrix\n",
    "from sklearn.metrics import precision_recall_fscore_support as score\n",
    "from sklearn.svm import SVC\n",
    "from sklearn.tree import DecisionTreeClassifier\n",
    "from sklearn.ensemble import RandomForestClassifier, GradientBoostingClassifier\n",
    "from sklearn.linear_model import LogisticRegression\n",
    "from sklearn.datasets import make_classification\n",
    "from sklearn.utils import column_or_1d\n",
    "from sklearn.neural_network import MLPClassifier\n",
    "from sklearn.model_selection import KFold\n",
    "from sklearn.metrics import precision_score\n",
    "from sklearn.metrics import recall_score\n",
    "from sklearn.metrics import roc_curve, auc\n",
    "from sklearn.metrics import RocCurveDisplay\n",
    "from sklearn.linear_model import Lasso\n",
    "from sklearn.linear_model import LassoCV\n",
    "from sklearn.model_selection import StratifiedKFold\n",
    "from sklearn.model_selection import cross_val_predict\n",
    "from sklearn.feature_selection import SelectKBest, f_classif, chi2\n",
    "from sklearn.feature_selection import VarianceThreshold"
   ]
  },
  {
   "cell_type": "code",
   "execution_count": 50,
   "metadata": {},
   "outputs": [],
   "source": [
    "# selected_features = []"
   ]
  },
  {
   "cell_type": "code",
   "execution_count": 51,
   "metadata": {},
   "outputs": [],
   "source": [
    "# folder = 'csv_he'\n",
    "folder = 'csv_pp_500'\n",
    "# folder = 'csv_b_500'\n",
    "# selection_method = 1\n",
    "selection_method = 2"
   ]
  },
  {
   "cell_type": "code",
   "execution_count": 52,
   "metadata": {},
   "outputs": [],
   "source": [
    "pd.options.display.max_columns = None\n",
    "# cv = False \n",
    "cv = True\n",
    "k = 5\n",
    "\n",
    "# train/test set size (%)\n",
    "if cv == False:\n",
    "    test_size = 0.20\n",
    "    k = 1"
   ]
  },
  {
   "cell_type": "code",
   "execution_count": 53,
   "metadata": {},
   "outputs": [],
   "source": [
    "# fs = \"anova\"\n",
    "# fs = \"anova_rf\"\n",
    "fs = \"lasso\"\n",
    "if fs == \"lasso\":\n",
    "    k = 1"
   ]
  },
  {
   "cell_type": "code",
   "execution_count": 54,
   "metadata": {},
   "outputs": [],
   "source": [
    "# Load data\n",
    "X_train, X_test, y_train, y_test = list(), list(), list(), list()\n",
    "for i in range(k):\n",
    "    if fs == \"lasso\" and cv == True:\n",
    "        X_train.append(pd.read_csv(folder + '/train_data_' + str(selection_method) + '_cv_False_' + str(i) + '.csv'))\n",
    "        X_test.append(pd.read_csv(folder + '/test_data_' + str(selection_method) + '_cv_False_' + str(i) + '.csv'))\n",
    "        y_train.append(pd.read_csv(folder + '/train_label_' + str(selection_method) + '_cv_False_' + str(i) + '.csv'))\n",
    "        y_test.append(pd.read_csv(folder + '/test_label_' + str(selection_method) + '_cv_False_' + str(i) + '.csv'))\n",
    "    else:\n",
    "        X_train.append(pd.read_csv(folder + '/train_data_' + str(selection_method) + '_cv_' + str(cv) + '_' + str(i) + '.csv'))\n",
    "        X_test.append(pd.read_csv(folder + '/test_data_' + str(selection_method) + '_cv_' + str(cv) + '_' + str(i) + '.csv'))\n",
    "        y_train.append(pd.read_csv(folder + '/train_label_' + str(selection_method) + '_cv_' + str(cv) + '_' + str(i) + '.csv'))\n",
    "        y_test.append(pd.read_csv(folder + '/test_label_' + str(selection_method) + '_cv_' + str(cv) + '_' + str(i) + '.csv'))\n",
    "    \n",
    "    y_train[i] = column_or_1d(y_train[i]['repeat_buyer'], warn=True)\n",
    "    y_test[i] = column_or_1d(y_test[i]['repeat_buyer'], warn=True)"
   ]
  },
  {
   "cell_type": "code",
   "execution_count": 55,
   "metadata": {},
   "outputs": [],
   "source": [
    "# filter feature selection - pearson's correlation\n",
    "for i in range(k):\n",
    "    constant_filter = VarianceThreshold(threshold=0)\n",
    "    constant_filter.fit(X_train[i])\n",
    "    \n",
    "    constant_columns = [column for column in X_train[i].columns\n",
    "                    if column not in X_train[i].columns[constant_filter.get_support()]]\n",
    "    X_train[i] = X_train[i].drop(labels=constant_columns, axis=1)\n",
    "    X_test[i] = X_test[i].drop(labels=constant_columns, axis=1)    \n",
    "    \n",
    "    qconstant_filter = VarianceThreshold(threshold=0.01)\n",
    "    qconstant_filter.fit(X_train[i])\n",
    "    \n",
    "    qconstant_columns = [column for column in X_train[i].columns\n",
    "                    if column not in X_train[i].columns[qconstant_filter.get_support()]]\n",
    "    \n",
    "    X_train[i] = X_train[i].drop(labels=qconstant_columns, axis=1)\n",
    "    X_test[i] = X_test[i].drop(labels=qconstant_columns, axis=1)       "
   ]
  },
  {
   "cell_type": "code",
   "execution_count": 56,
   "metadata": {},
   "outputs": [],
   "source": [
    "# filter feature selection - anova\n",
    "if (fs == \"anova\" or fs == \"anova_rf\"):\n",
    "    for i in range(k):\n",
    "        model = SelectKBest(f_classif, k = 10) # f_classif = ANOVA F-value, select k top features based on F-value\n",
    "        new = model.fit(X_train[i], y_train[i])\n",
    "        X_1 = new.transform(X_train[i])\n",
    "        columns = new.get_support(indices=True) # column indices\n",
    "        \n",
    "        X_train[i] = X_train[i].iloc[:,columns]\n",
    "        X_test[i] = X_test[i].iloc[:,columns]   \n",
    "        print(\"yes\")\n",
    "\n",
    "# feature selection - tree-based methods - RF\n",
    "if fs == \"anova_rf\":\n",
    "    for i in range(k):\n",
    "        rf = RandomForestClassifier(n_estimators = 100, class_weight='balanced', random_state=42)\n",
    "        rf.fit(X_train[i], y_train[i])\n",
    "        importances = rf.feature_importances_\n",
    "        indices = np.argsort(importances)[::-1]\n",
    "\n",
    "        plt.figure()\n",
    "        plt.title(\"Feature importances\")\n",
    "        plt.bar(range(X_train[i].shape[1]), importances[indices],\n",
    "                color=\"lightsalmon\", align=\"center\")\n",
    "        plt.xticks(range(X_train[i].shape[1]), X_train[i].columns[indices], rotation=90)\n",
    "        plt.xlim([-1, X_train[i].shape[1]])\n",
    "        plt.show()\n",
    "\n",
    "        columns = [ind for ind in indices if importances[ind] > 0.06]\n",
    "        print(columns)\n",
    "        X_train[i] = X_train[i].iloc[:,columns]\n",
    "        X_test[i] = X_test[i].iloc[:,columns] \n",
    "        print(\"yes 2\")"
   ]
  },
  {
   "cell_type": "code",
   "execution_count": 57,
   "metadata": {},
   "outputs": [
    {
     "name": "stdout",
     "output_type": "stream",
     "text": [
      "Selected Features:-  [2, 29, 36, 39, 44, 46, 57, 59, 60, 61, 62, 67, 69]\n"
     ]
    }
   ],
   "source": [
    "# embedded feature selection - lasso without cv\n",
    "if fs == \"lasso\" and cv == False:\n",
    "    for i in range(k):\n",
    "        lasso = Lasso(alpha=0.05, random_state=42).fit(X_train[i], y_train[i])\n",
    "        columns = list(X_train[i].columns[np.where(lasso.coef_!=0)[0]])\n",
    "        indexes = [X_train[i].columns.get_loc(c) for c in columns if c in X_train[i]]\n",
    "        print('Selected Features:', indexes)\n",
    "\n",
    "        X_train[i] = X_train[i].iloc[:,indexes]\n",
    "        X_test[i] = X_test[i].iloc[:,indexes]   \n",
    "        \n",
    "# embedded feature selection - lasso - cv (k = 1, Lasso does the CV)\n",
    "if fs == \"lasso\" and cv == True:\n",
    "    for i in range(k):\n",
    "        skf = StratifiedKFold(n_splits=5)\n",
    "        lasso = LassoCV(eps = 0.3,cv=skf, random_state=42).fit(X_train[i], y_train[i])\n",
    "        columns = list(X_train[i].columns[np.where(lasso.coef_!=0)[0]])\n",
    "        indexes = [X_train[i].columns.get_loc(c) for c in columns if c in X_train[i]]\n",
    "        print('Selected Features:- ', indexes)\n",
    "\n",
    "        X_train[i] = X_train[i].iloc[:,indexes]\n",
    "        X_test[i] = X_test[i].iloc[:,indexes] "
   ]
  },
  {
   "cell_type": "code",
   "execution_count": 58,
   "metadata": {},
   "outputs": [
    {
     "data": {
      "text/plain": [
       "Index(['country_SK', 'n_click_buy', 'n_scroll_move_no_buy', 'n_events_buy',\n",
       "       'n_non_product_no_buy', 'n_category_no_buy', 'effective_duration_buy',\n",
       "       'pv_product_mean_eff_duration_buy',\n",
       "       'pv_product_mean_eff_duration_no_buy', 'user_mean_eff_duration',\n",
       "       'n_sessions', 'n_top_category_u', 'mean_price'],\n",
       "      dtype='object')"
      ]
     },
     "execution_count": 58,
     "metadata": {},
     "output_type": "execute_result"
    }
   ],
   "source": [
    "X_train[0].columns"
   ]
  },
  {
   "cell_type": "code",
   "execution_count": 59,
   "metadata": {},
   "outputs": [
    {
     "name": "stdout",
     "output_type": "stream",
     "text": [
      "Number of features: 13\n",
      "Number of train set conversions: Counter({True: 194, False: 194})\n",
      "Number of test set conversions: Counter({False: 48, True: 42})\n",
      "-------------------------------------------------------------\n"
     ]
    }
   ],
   "source": [
    "for i in range(len(X_train)):\n",
    "    print('Number of features: ' + str(len(X_train[i].columns)))\n",
    "    print('Number of train set conversions: ' + str(collections.Counter(y_train[i])))\n",
    "    print('Number of test set conversions: ' + str(collections.Counter(y_test[i])))\n",
    "    print('-------------------------------------------------------------')"
   ]
  },
  {
   "cell_type": "code",
   "execution_count": 60,
   "metadata": {},
   "outputs": [],
   "source": [
    "# selected_features.append('Feature selection - ' + str(fs) + ' - cv: ' + str(cv) + ' - ' + folder + ': ')\n",
    "# selected_features.append(X_train[0].columns)\n",
    "# selected_features.append('')"
   ]
  },
  {
   "cell_type": "code",
   "execution_count": 61,
   "metadata": {},
   "outputs": [],
   "source": [
    "# np.savetxt(folder + '/selected_features_' + str(fs) + '_' + str(cv) + '.txt', selected_features, fmt='%s', encoding='utf-8-sig')"
   ]
  },
  {
   "cell_type": "code",
   "execution_count": 62,
   "metadata": {},
   "outputs": [
    {
     "data": {
      "text/html": [
       "<div>\n",
       "<style scoped>\n",
       "    .dataframe tbody tr th:only-of-type {\n",
       "        vertical-align: middle;\n",
       "    }\n",
       "\n",
       "    .dataframe tbody tr th {\n",
       "        vertical-align: top;\n",
       "    }\n",
       "\n",
       "    .dataframe thead th {\n",
       "        text-align: right;\n",
       "    }\n",
       "</style>\n",
       "<table border=\"1\" class=\"dataframe\">\n",
       "  <thead>\n",
       "    <tr style=\"text-align: right;\">\n",
       "      <th></th>\n",
       "      <th>model_complexity</th>\n",
       "      <th>train</th>\n",
       "      <th>test</th>\n",
       "    </tr>\n",
       "  </thead>\n",
       "  <tbody>\n",
       "    <tr>\n",
       "      <th>0</th>\n",
       "      <td>1</td>\n",
       "      <td>0.206186</td>\n",
       "      <td>0.277778</td>\n",
       "    </tr>\n",
       "    <tr>\n",
       "      <th>1</th>\n",
       "      <td>2</td>\n",
       "      <td>0.164948</td>\n",
       "      <td>0.255556</td>\n",
       "    </tr>\n",
       "    <tr>\n",
       "      <th>2</th>\n",
       "      <td>3</td>\n",
       "      <td>0.126289</td>\n",
       "      <td>0.255556</td>\n",
       "    </tr>\n",
       "    <tr>\n",
       "      <th>3</th>\n",
       "      <td>4</td>\n",
       "      <td>0.115979</td>\n",
       "      <td>0.244444</td>\n",
       "    </tr>\n",
       "    <tr>\n",
       "      <th>4</th>\n",
       "      <td>5</td>\n",
       "      <td>0.100515</td>\n",
       "      <td>0.211111</td>\n",
       "    </tr>\n",
       "  </tbody>\n",
       "</table>\n",
       "</div>"
      ],
      "text/plain": [
       "   model_complexity     train      test\n",
       "0                 1  0.206186  0.277778\n",
       "1                 2  0.164948  0.255556\n",
       "2                 3  0.126289  0.255556\n",
       "3                 4  0.115979  0.244444\n",
       "4                 5  0.100515  0.211111"
      ]
     },
     "execution_count": 62,
     "metadata": {},
     "output_type": "execute_result"
    }
   ],
   "source": [
    "results = []\n",
    "for i in range(1, X_train[0].shape[1] + 1):  \n",
    "    row = {'model_complexity': i}\n",
    "\n",
    "    clf = DecisionTreeClassifier(max_depth = i)\n",
    "    pred = clf.fit(X_train[0], y_train[0]).predict(X_train[0]) \n",
    "    row['train'] = 1-accuracy_score(y_train[0], pred) # train error\n",
    "    \n",
    "    pred = clf.predict(X_test[0])\n",
    "    row['test'] = 1-accuracy_score(y_test[0], pred) # test error\n",
    "    results.append(row)    \n",
    "\n",
    "complexity_df = pd.DataFrame(results)\n",
    "complexity_df.head()"
   ]
  },
  {
   "cell_type": "code",
   "execution_count": 63,
   "metadata": {},
   "outputs": [
    {
     "data": {
      "text/plain": [
       "<matplotlib.axes._subplots.AxesSubplot at 0x1f7ed30dcd0>"
      ]
     },
     "execution_count": 63,
     "metadata": {},
     "output_type": "execute_result"
    },
    {
     "data": {
      "image/png": "[encoded data removed]",
      "text/plain": [
       "<Figure size 432x288 with 1 Axes>"
      ]
     },
     "metadata": {},
     "output_type": "display_data"
    }
   ],
   "source": [
    "colors = [\"#1D84C4\", \"#D51860\", \"#FACE63\"]\n",
    "sns.set(style=\"darkgrid\")\n",
    "sns.set_palette(sns.color_palette(colors))\n",
    "complexity_df.plot(x='model_complexity')"
   ]
  },
  {
   "cell_type": "code",
   "execution_count": 64,
   "metadata": {},
   "outputs": [],
   "source": [
    "# Export CSV selected features \n",
    "for i in range(0,k):\n",
    "    X_train[i].to_csv(folder + '/' + fs + '_train_data_' + str(selection_method) + '_cv_' + str(cv) + '_' + str(i) + '.csv', index=False, encoding='utf-8-sig')\n",
    "    X_test[i].to_csv(folder + '/' + fs + '_test_data_' + str(selection_method) + '_cv_' + str(cv) + '_' + str(i) + '.csv', index=False, encoding='utf-8-sig')"
   ]
  },
  {
   "cell_type": "code",
   "execution_count": null,
   "metadata": {},
   "outputs": [],
   "source": []
  }
 ],
 "metadata": {
  "kernelspec": {
   "display_name": "Python 3",
   "language": "python",
   "name": "python3"
  },
  "language_info": {
   "codemirror_mode": {
    "name": "ipython",
    "version": 3
   },
   "file_extension": ".py",
   "mimetype": "text/x-python",
   "name": "python",
   "nbconvert_exporter": "python",
   "pygments_lexer": "ipython3",
   "version": "3.8.3"
  }
 },
 "nbformat": 4,
 "nbformat_minor": 4
}
