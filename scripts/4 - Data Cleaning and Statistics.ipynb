{
 "cells": [
  {
   "cell_type": "code",
   "execution_count": 1,
   "metadata": {},
   "outputs": [],
   "source": [
    "import json\n",
    "import pandas as pd\n",
    "import glob\n",
    "import time\n",
    "from tqdm import tqdm\n",
    "import sys,os\n",
    "import collections\n",
    "import re\n",
    "import csv\n",
    "from datetime import datetime\n",
    "import datetime\n",
    "import matplotlib.pyplot as plt\n",
    "import matplotlib.colors as colors\n",
    "import itertools\n",
    "import numpy as np\n",
    "import statistics"
   ]
  },
  {
   "cell_type": "code",
   "execution_count": 2,
   "metadata": {},
   "outputs": [],
   "source": [
    "pd.options.display.max_columns = None"
   ]
  },
  {
   "cell_type": "code",
   "execution_count": 3,
   "metadata": {},
   "outputs": [],
   "source": [
    "# folder = 'csv_he'\n",
    "# folder = 'csv_pp_500'\n",
    "folder = 'csv_b_500'\n",
    "# selection_method = 1\n",
    "selection_method = 2"
   ]
  },
  {
   "cell_type": "code",
   "execution_count": 4,
   "metadata": {},
   "outputs": [],
   "source": [
    "df_users = pd.read_csv(folder + '/df_users_metrics_' + str(selection_method) + '.csv')\n",
    "df_pageviews = pd.read_csv(folder + '/df_pageviews_metrics_' + str(selection_method) + '.csv')\n",
    "df_click = pd.read_csv(folder + '/df_click_all.csv')"
   ]
  },
  {
   "cell_type": "code",
   "execution_count": 15,
   "metadata": {},
   "outputs": [],
   "source": [
    "df_users['number_of_week'] = '-'\n",
    "df_users['date'] = '-'"
   ]
  },
  {
   "cell_type": "code",
   "execution_count": 16,
   "metadata": {},
   "outputs": [],
   "source": [
    "# df_users['datum'] = df_users.apply(lambda x: datetime.strptime(df_users['day'].values[0], \"%Y-%m-%d\"))\n",
    "df_users['date'] = pd.to_datetime(df_users['day'], format= \"%Y-%m-%d\")\n",
    "df_users['date'] = [x.date() for x in df_users.date]\n",
    "df_users['number_of_week'] = [x.isocalendar()[1] for x in df_users.date]\n",
    "df_users['month'] = [x.month for x in df_users.date]"
   ]
  },
  {
   "cell_type": "code",
   "execution_count": null,
   "metadata": {},
   "outputs": [],
   "source": []
  },
  {
   "cell_type": "code",
   "execution_count": 17,
   "metadata": {},
   "outputs": [],
   "source": [
    "# df_users[(df_users['buy'] == 1) & (df_users['number_of_week'] == 25)][['day', 'number_of_week', 'date']]"
   ]
  },
  {
   "cell_type": "code",
   "execution_count": 18,
   "metadata": {},
   "outputs": [
    {
     "data": {
      "text/plain": [
       "<matplotlib.axes._subplots.AxesSubplot at 0x16104679e80>"
      ]
     },
     "execution_count": 18,
     "metadata": {},
     "output_type": "execute_result"
    },
    {
     "data": {
      "image/png": "[encoded data removed]",
      "text/plain": [
       "<Figure size 1296x864 with 1 Axes>"
      ]
     },
     "metadata": {
      "needs_background": "light"
     },
     "output_type": "display_data"
    }
   ],
   "source": [
    "dfg = df_users[(df_users['buy'] == 1) & (df_users['date'] > datetime.date(2020,6,2))]['month'].value_counts().sort_index()\n",
    "dfg = dfg.to_frame().reset_index()\n",
    "dfg.rename(columns={'index' : 'Month', \"month\" : \"Buy Count\"}, inplace = True)\n",
    "dfg.plot(kind='bar', x ='Month', y = \"Buy Count\", figsize=(18,12))"
   ]
  },
  {
   "cell_type": "code",
   "execution_count": 11,
   "metadata": {},
   "outputs": [
    {
     "data": {
      "text/plain": [
       "<matplotlib.axes._subplots.AxesSubplot at 0x1610093e5b0>"
      ]
     },
     "execution_count": 11,
     "metadata": {},
     "output_type": "execute_result"
    },
    {
     "data": {
      "image/png": "[encoded data removed]",
      "text/plain": [
       "<Figure size 1296x864 with 1 Axes>"
      ]
     },
     "metadata": {
      "needs_background": "light"
     },
     "output_type": "display_data"
    }
   ],
   "source": [
    "dfg = df_users[(df_users['buy'] == 1) & (df_users['datum'] > datetime.date(2020,6,2))]['number_of_week'].value_counts().sort_index()\n",
    "dfg = dfg.to_frame().reset_index()\n",
    "dfg.rename(columns={'index' : 'Week Number', \"number_of_week\" : \"Buy Count\"}, inplace = True)\n",
    "dfg.plot(kind='bar', x ='Week Number', y = \"Buy Count\", figsize=(18,12))"
   ]
  },
  {
   "cell_type": "code",
   "execution_count": null,
   "metadata": {},
   "outputs": [],
   "source": []
  },
  {
   "cell_type": "code",
   "execution_count": null,
   "metadata": {},
   "outputs": [],
   "source": []
  },
  {
   "cell_type": "code",
   "execution_count": null,
   "metadata": {},
   "outputs": [],
   "source": [
    "# 1. remove device type != desktop, mobile or tablet\n",
    "# 2. join os.name\n",
    "# 3. join browser.name\n",
    "# 4. join referrer\n",
    "# 5. average time user spent in store - effective duration mean groupby user\n",
    "# 6. avg count of user purchases\n",
    "# 7. avg count of pageviews visited"
   ]
  },
  {
   "cell_type": "code",
   "execution_count": null,
   "metadata": {},
   "outputs": [],
   "source": [
    "# device type \n",
    "df_users = df_users[(df_users['device.type'] == 'desktop') | (df_users['device.type'] == 'mobile') | (df_users['device.type'] == 'tablet')]"
   ]
  },
  {
   "cell_type": "code",
   "execution_count": null,
   "metadata": {},
   "outputs": [],
   "source": [
    "# os.name\n",
    "os_names = [\n",
    "    'Android',\n",
    "    'Windows',\n",
    "    'iOS',\n",
    "    'Linux'\n",
    "]\n",
    "os_linux = [\n",
    "    'Ubuntu',\n",
    "    'webOS',\n",
    "    'Fedora'\n",
    "]\n",
    "df_users.loc[df_users['os.name'] == 'OS X', 'os.name'] = 'iOS'\n",
    "df_users.loc[df_users['os.name'].isin(os_linux), 'os.name'] = 'Linux'\n",
    "df_users.loc[df_users['os.name'] == 'Chrome OS', 'os.name'] = 'Android'\n",
    "df_users.loc[~df_users['os.name'].isin(os_names), 'os.name'] = '-'"
   ]
  },
  {
   "cell_type": "code",
   "execution_count": null,
   "metadata": {},
   "outputs": [],
   "source": [
    "# os types\n",
    "counter = collections.Counter(df_users['os.name'])\n",
    "print(counter)\n",
    "\n",
    "labels = counter.keys()\n",
    "sizes = counter.values()\n",
    "\n",
    "fig1, ax1 = plt.subplots()\n",
    "patches, texts = ax1.pie(sizes, labels=labels, startangle=90)\n",
    "plt.legend(labels, loc=\"best\")\n",
    "ax1.axis('equal')\n",
    "\n",
    "plt.show()"
   ]
  },
  {
   "cell_type": "code",
   "execution_count": null,
   "metadata": {},
   "outputs": [],
   "source": [
    "# browser.name\n",
    "browser_names = [\n",
    "    'Chrome',\n",
    "    'Safari',\n",
    "    'Facebook',\n",
    "    'Firefox',\n",
    "    'Edge',\n",
    "    'Opera',\n",
    "    'MIUI Browser'\n",
    "]\n",
    "browser_chrome = [\n",
    "    'Google Search',\n",
    "    'Chromium'\n",
    "]\n",
    "browser_firefox = [\n",
    "    'Firefox Mobile',\n",
    "]\n",
    "browser_facebook = [\n",
    "    'Instagram',\n",
    "    'Facebook Messenger'\n",
    "]\n",
    "browser_opera = [\n",
    "    'Opera Mobile',\n",
    "    'Opera Mini'\n",
    "]\n",
    "df_users.loc[df_users['browser.name'].isin(browser_chrome), 'browser.name'] = 'Chrome'\n",
    "df_users.loc[df_users['browser.name'].isin(browser_firefox), 'browser.name'] = 'Firefox'\n",
    "df_users.loc[df_users['browser.name'].isin(browser_facebook), 'browser.name'] = 'Facebook'\n",
    "df_users.loc[df_users['browser.name'].isin(browser_opera), 'browser.name'] = 'Opera'\n",
    "df_users.loc[~df_users['browser.name'].isin(browser_names), 'browser.name'] = '-'"
   ]
  },
  {
   "cell_type": "code",
   "execution_count": null,
   "metadata": {},
   "outputs": [],
   "source": [
    "counter=collections.Counter(df_users['browser.name'])\n",
    "print(counter)\n",
    "\n",
    "labels = counter.keys()\n",
    "sizes = counter.values()\n",
    "\n",
    "fig1, ax1 = plt.subplots()\n",
    "patches, texts = ax1.pie(sizes, labels=labels, startangle=90)\n",
    "plt.legend(labels, loc=\"best\")\n",
    "ax1.axis('equal')\n",
    "\n",
    "plt.show()"
   ]
  },
  {
   "cell_type": "code",
   "execution_count": null,
   "metadata": {},
   "outputs": [],
   "source": [
    "df_users['referrer1'].unique()"
   ]
  },
  {
   "cell_type": "code",
   "execution_count": null,
   "metadata": {},
   "outputs": [],
   "source": [
    "len(df_users['referrer1'].unique())"
   ]
  },
  {
   "cell_type": "code",
   "execution_count": null,
   "metadata": {},
   "outputs": [],
   "source": [
    "# referrers\n",
    "if folder == 'csv_he':\n",
    "    referrers = [\n",
    "        'google',\n",
    "        'facebook',\n",
    "        'herbatica',\n",
    "        'nasezdravie',\n",
    "        'instagram',\n",
    "        'heureka',\n",
    "        'azet',\n",
    "        'bing',\n",
    "        'zoznam',\n",
    "        'seznam'\n",
    "    ]\n",
    "    \n",
    "if (folder == 'csv_pp') or (folder == 'csv_pp_500'):\n",
    "    referrers = [\n",
    "        'google',\n",
    "        'facebook',\n",
    "        'particlepeptides',\n",
    "        'instagram',\n",
    "        'azet',\n",
    "        'bing',\n",
    "        'zoznam',\n",
    "        'seznam',\n",
    "        'centrum'\n",
    "    ]\n",
    "\n",
    "if (folder == 'csv_b_500'):\n",
    "    referrers = [\n",
    "        'google',\n",
    "        'facebook',\n",
    "        'barefootky',\n",
    "        'instagram',\n",
    "        'azet',\n",
    "        'bing',\n",
    "        'modrykonik',\n",
    "        'centrum',\n",
    "        'tatrabanka'\n",
    "    ]\n",
    "    \n",
    "for referrer in referrers:\n",
    "    df_users.loc[df_users['referrer1'].str.contains(referrer), 'referrer1'] = referrer\n",
    "\n",
    "df_users.loc[~df_users['referrer1'].isin(referrers), 'referrer1'] = '-'"
   ]
  },
  {
   "cell_type": "code",
   "execution_count": null,
   "metadata": {},
   "outputs": [],
   "source": [
    "counter=collections.Counter(df_users['referrer1'])\n",
    "print(counter)\n",
    "\n",
    "labels = counter.keys()\n",
    "sizes = counter.values()\n",
    "\n",
    "fig1, ax1 = plt.subplots()\n",
    "patches, texts = ax1.pie(sizes, labels=labels, startangle=90)\n",
    "plt.legend(labels, loc=\"best\")\n",
    "ax1.axis('equal')\n",
    "\n",
    "plt.show()"
   ]
  },
  {
   "cell_type": "code",
   "execution_count": null,
   "metadata": {},
   "outputs": [],
   "source": []
  },
  {
   "cell_type": "code",
   "execution_count": null,
   "metadata": {},
   "outputs": [],
   "source": [
    "# average time user spent in store\n",
    "user_mean_eff_duration = df_users.groupby('user_id')['effective_duration'].agg('mean').reset_index()\n",
    "user_mean_eff_duration = user_mean_eff_duration.rename(columns={'effective_duration': 'user_mean_eff_duration'})"
   ]
  },
  {
   "cell_type": "code",
   "execution_count": null,
   "metadata": {},
   "outputs": [],
   "source": [
    "df_users = pd.merge(\n",
    "    df_users,\n",
    "    user_mean_eff_duration,\n",
    "    on='user_id',\n",
    "    how='left'\n",
    ")"
   ]
  },
  {
   "cell_type": "code",
   "execution_count": null,
   "metadata": {},
   "outputs": [],
   "source": [
    "# average time user spent in store on product pageviews\n",
    "df_pageviews_product = df_pageviews[df_pageviews['pageview_product'] == True][['session_id', 'effective_duration']] # chcem len produktove pageviews"
   ]
  },
  {
   "cell_type": "code",
   "execution_count": null,
   "metadata": {},
   "outputs": [],
   "source": [
    "pv_product_mean_eff_duration = df_pageviews_product.groupby('session_id')['effective_duration'].agg('mean').reset_index()\n",
    "pv_product_mean_eff_duration = pv_product_mean_eff_duration.rename(columns={'effective_duration': 'pv_product_mean_eff_duration'})"
   ]
  },
  {
   "cell_type": "code",
   "execution_count": null,
   "metadata": {},
   "outputs": [],
   "source": [
    "df_users = pd.merge(\n",
    "    df_users,\n",
    "    pv_product_mean_eff_duration,\n",
    "    on='session_id',\n",
    "    how='left'\n",
    ")"
   ]
  },
  {
   "cell_type": "code",
   "execution_count": null,
   "metadata": {},
   "outputs": [],
   "source": [
    "df_users['pv_product_mean_eff_duration'] = round(df_users['pv_product_mean_eff_duration'])"
   ]
  },
  {
   "cell_type": "code",
   "execution_count": null,
   "metadata": {},
   "outputs": [],
   "source": [
    "df_users['pv_product_mean_eff_duration'] = df_users['pv_product_mean_eff_duration'].fillna(0)\n",
    "df_users['pv_product_mean_eff_duration'] = df_users['pv_product_mean_eff_duration'].astype(int)"
   ]
  },
  {
   "cell_type": "code",
   "execution_count": null,
   "metadata": {},
   "outputs": [],
   "source": []
  },
  {
   "cell_type": "code",
   "execution_count": null,
   "metadata": {},
   "outputs": [],
   "source": [
    "# avg buy count on user\n",
    "df_users['buy_count'].sum() / len(df_users[df_users['buy_count'] > 0])"
   ]
  },
  {
   "cell_type": "code",
   "execution_count": null,
   "metadata": {},
   "outputs": [],
   "source": [
    "# users that purchase >= 2/ users that purchase once\n",
    "counter = collections.Counter(df_users.groupby('user_id')['buy_count'].mean())\n",
    "percentage = round((sum(counter.values()) - counter[1]) / counter[1] * 100, 2)\n",
    "print('Users that purchase >= 2/ users that purchase once: ' + str(percentage) + ' %')"
   ]
  },
  {
   "cell_type": "code",
   "execution_count": null,
   "metadata": {},
   "outputs": [],
   "source": [
    "# users that purchase >= 2\n",
    "(sum(counter.values()) - counter[1]) / sum(counter.values()) "
   ]
  },
  {
   "cell_type": "code",
   "execution_count": null,
   "metadata": {},
   "outputs": [],
   "source": []
  },
  {
   "cell_type": "code",
   "execution_count": null,
   "metadata": {},
   "outputs": [],
   "source": [
    "counter = collections.Counter(df_users.groupby('user_id')['buy_count'].mean())\n",
    "print(counter)\n",
    "\n",
    "labels = counter.keys()\n",
    "sizes = counter.values()\n",
    "\n",
    "fig1, ax1 = plt.subplots()\n",
    "patches, texts = ax1.pie(sizes, labels=labels, startangle=90)\n",
    "plt.legend(labels, loc=\"best\")\n",
    "ax1.axis('equal')\n",
    "\n",
    "plt.show()"
   ]
  },
  {
   "cell_type": "code",
   "execution_count": null,
   "metadata": {},
   "outputs": [],
   "source": [
    "fig = plt.figure()\n",
    "ax = fig.add_axes([0,0,1,1])\n",
    "ax.bar(counter.keys(),counter.values())\n",
    "plt.show()"
   ]
  },
  {
   "cell_type": "code",
   "execution_count": null,
   "metadata": {},
   "outputs": [],
   "source": [
    "# avg number of pageviews visited\n",
    "df_users['n_pageviews'].mean()"
   ]
  },
  {
   "cell_type": "code",
   "execution_count": null,
   "metadata": {},
   "outputs": [],
   "source": [
    "# avg number of pageviews visited for each user\n",
    "df_users.groupby('user_id')['n_pageviews'].agg('sum').reset_index()"
   ]
  },
  {
   "cell_type": "code",
   "execution_count": null,
   "metadata": {},
   "outputs": [],
   "source": [
    "# Počty\n",
    "print('Number of continents: ' + str(len(set(df_users['continent']))))\n",
    "print('Number of countries: ' + str(len(set(df_users['country']))))\n",
    "print('Number of regions: ' + str(len(set(df_users['region']))))\n",
    "print('Number of cities: ' + str(len(set(df_users['city']))))\n",
    "print('Number of device types: ' + str(len(set(df_users['device.type']))))\n",
    "print('Number of os: ' + str(len(set(df_users['os.name']))))\n",
    "print('Number of browsers: ' + str(len(set(df_users['browser.name']))))\n",
    "print('Number of referrers: ' + str(len(set(df_users['referrer1']))))"
   ]
  },
  {
   "cell_type": "code",
   "execution_count": null,
   "metadata": {},
   "outputs": [],
   "source": []
  },
  {
   "cell_type": "code",
   "execution_count": null,
   "metadata": {},
   "outputs": [],
   "source": [
    "# buy hour\n",
    "counter=collections.Counter(df_users['hour'])\n",
    "print(counter)\n",
    "\n",
    "labels = counter.keys()\n",
    "sizes = counter.values()\n",
    "\n",
    "fig1, ax1 = plt.subplots()\n",
    "patches, texts = ax1.pie(sizes, labels=labels, startangle=90)\n",
    "plt.legend(labels, loc=\"best\")\n",
    "ax1.axis('equal')\n",
    "\n",
    "plt.show()"
   ]
  },
  {
   "cell_type": "code",
   "execution_count": null,
   "metadata": {},
   "outputs": [],
   "source": []
  },
  {
   "cell_type": "code",
   "execution_count": null,
   "metadata": {},
   "outputs": [],
   "source": [
    "plt.boxplot(df_users['effective_duration'])\n",
    "fig = plt.figure(figsize =(10, 7))\n",
    "plt.show()"
   ]
  },
  {
   "cell_type": "code",
   "execution_count": null,
   "metadata": {},
   "outputs": [],
   "source": [
    "arr1=df_users['effective_duration']\n",
    "# finding the 1st quartile\n",
    "q1 = np.quantile(arr1, 0.25)\n",
    "\n",
    "# finding the 3rd quartile\n",
    "q3 = np.quantile(arr1, 0.75)\n",
    "med = np.median(arr1)\n",
    "\n",
    "# finding the iqr region\n",
    "iqr = q3-q1\n",
    "\n",
    "# finding upper and lower whiskers\n",
    "upper_bound = q3+(1.5*iqr)\n",
    "lower_bound = q1-(1.5*iqr)\n",
    "print(iqr, upper_bound, lower_bound)\n"
   ]
  },
  {
   "cell_type": "code",
   "execution_count": null,
   "metadata": {},
   "outputs": [],
   "source": [
    "outliers = arr1[(arr1 <= lower_bound) | (arr1 >= upper_bound)]\n",
    "print('The following are the outliers in the boxplot:{}'.format(outliers))"
   ]
  },
  {
   "cell_type": "code",
   "execution_count": null,
   "metadata": {},
   "outputs": [],
   "source": [
    "# boxplot of data within the whisker\n",
    "arr2 = arr1[(arr1 >= lower_bound) & (arr1 <= upper_bound)]\n",
    "plt.figure(figsize=(12, 7))\n",
    "plt.boxplot(arr2)\n",
    "plt.show()"
   ]
  },
  {
   "cell_type": "code",
   "execution_count": null,
   "metadata": {},
   "outputs": [],
   "source": []
  },
  {
   "cell_type": "code",
   "execution_count": null,
   "metadata": {},
   "outputs": [],
   "source": [
    "df_users.to_csv(folder + '/df_users_metrics_clean_' + str(selection_method) + '.csv', index=False, encoding='utf-8-sig')"
   ]
  },
  {
   "cell_type": "code",
   "execution_count": null,
   "metadata": {},
   "outputs": [],
   "source": []
  }
 ],
 "metadata": {
  "kernelspec": {
   "display_name": "Python 3",
   "language": "python",
   "name": "python3"
  },
  "language_info": {
   "codemirror_mode": {
    "name": "ipython",
    "version": 3
   },
   "file_extension": ".py",
   "mimetype": "text/x-python",
   "name": "python",
   "nbconvert_exporter": "python",
   "pygments_lexer": "ipython3",
   "version": "3.8.3"
  }
 },
 "nbformat": 4,
 "nbformat_minor": 4
}
